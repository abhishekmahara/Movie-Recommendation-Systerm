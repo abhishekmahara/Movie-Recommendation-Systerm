{
  "nbformat": 4,
  "nbformat_minor": 0,
  "metadata": {
    "colab": {
      "provenance": [],
      "toc_visible": true
    },
    "kernelspec": {
      "name": "python3",
      "display_name": "Python 3"
    },
    "language_info": {
      "name": "python"
    }
  },
  "cells": [
    {
      "cell_type": "code",
      "execution_count": 11,
      "metadata": {
        "id": "AaoDEdeNRMA4"
      },
      "outputs": [],
      "source": [
        "import pandas as pd"
      ]
    },
    {
      "cell_type": "code",
      "source": [
        "import numpy as np\n"
      ],
      "metadata": {
        "id": "Z2uHisHeSNlw"
      },
      "execution_count": 12,
      "outputs": []
    },
    {
      "cell_type": "code",
      "source": [
        "df = pd.read_csv(r'https://raw.githubusercontent.com/YBI-Foundation/Dataset/main/Movies%20Recommendation.csv')"
      ],
      "metadata": {
        "id": "nlgyV1nldlJM"
      },
      "execution_count": 13,
      "outputs": []
    },
    {
      "cell_type": "code",
      "source": [
        "df.head()"
      ],
      "metadata": {
        "colab": {
          "base_uri": "https://localhost:8080/",
          "height": 672
        },
        "id": "GX2ZO67UdlnV",
        "outputId": "b73946e9-4a19-494c-a2d7-d8de79e957b3"
      },
      "execution_count": 14,
      "outputs": [
        {
          "output_type": "execute_result",
          "data": {
            "text/plain": [
              "   Movie_ID      Movie_Title                       Movie_Genre Movie_Language  \\\n",
              "0         1       Four Rooms                      Crime Comedy             en   \n",
              "1         2        Star Wars  Adventure Action Science Fiction             en   \n",
              "2         3     Finding Nemo                  Animation Family             en   \n",
              "3         4     Forrest Gump              Comedy Drama Romance             en   \n",
              "4         5  American Beauty                             Drama             en   \n",
              "\n",
              "   Movie_Budget  Movie_Popularity Movie_Release_Date  Movie_Revenue  \\\n",
              "0       4000000         22.876230         09-12-1995        4300000   \n",
              "1      11000000        126.393695         25-05-1977      775398007   \n",
              "2      94000000         85.688789         30-05-2003      940335536   \n",
              "3      55000000        138.133331         06-07-1994      677945399   \n",
              "4      15000000         80.878605         15-09-1999      356296601   \n",
              "\n",
              "   Movie_Runtime  Movie_Vote  ...  \\\n",
              "0           98.0         6.5  ...   \n",
              "1          121.0         8.1  ...   \n",
              "2          100.0         7.6  ...   \n",
              "3          142.0         8.2  ...   \n",
              "4          122.0         7.9  ...   \n",
              "\n",
              "                                      Movie_Homepage  \\\n",
              "0                                                NaN   \n",
              "1  http://www.starwars.com/films/star-wars-episod...   \n",
              "2              http://movies.disney.com/finding-nemo   \n",
              "3                                                NaN   \n",
              "4                      http://www.dreamworks.com/ab/   \n",
              "\n",
              "                                      Movie_Keywords  \\\n",
              "0          hotel new year's eve witch bet hotel room   \n",
              "1        android galaxy hermit death star lightsaber   \n",
              "2  father son relationship harbor underwater fish...   \n",
              "3  vietnam veteran hippie mentally disabled runni...   \n",
              "4  male nudity female nudity adultery midlife cri...   \n",
              "\n",
              "                                      Movie_Overview  \\\n",
              "0  It's Ted the Bellhop's first night on the job....   \n",
              "1  Princess Leia is captured and held hostage by ...   \n",
              "2  Nemo, an adventurous young clownfish, is unexp...   \n",
              "3  A man with a low IQ has accomplished great thi...   \n",
              "4  Lester Burnham, a depressed suburban father in...   \n",
              "\n",
              "                              Movie_Production_House  \\\n",
              "0  [{\"name\": \"Miramax Films\", \"id\": 14}, {\"name\":...   \n",
              "1  [{\"name\": \"Lucasfilm\", \"id\": 1}, {\"name\": \"Twe...   \n",
              "2     [{\"name\": \"Pixar Animation Studios\", \"id\": 3}]   \n",
              "3          [{\"name\": \"Paramount Pictures\", \"id\": 4}]   \n",
              "4  [{\"name\": \"DreamWorks SKG\", \"id\": 27}, {\"name\"...   \n",
              "\n",
              "                            Movie_Production_Country  \\\n",
              "0  [{\"iso_3166_1\": \"US\", \"name\": \"United States o...   \n",
              "1  [{\"iso_3166_1\": \"US\", \"name\": \"United States o...   \n",
              "2  [{\"iso_3166_1\": \"US\", \"name\": \"United States o...   \n",
              "3  [{\"iso_3166_1\": \"US\", \"name\": \"United States o...   \n",
              "4  [{\"iso_3166_1\": \"US\", \"name\": \"United States o...   \n",
              "\n",
              "                      Movie_Spoken_Language  \\\n",
              "0  [{\"iso_639_1\": \"en\", \"name\": \"English\"}]   \n",
              "1  [{\"iso_639_1\": \"en\", \"name\": \"English\"}]   \n",
              "2  [{\"iso_639_1\": \"en\", \"name\": \"English\"}]   \n",
              "3  [{\"iso_639_1\": \"en\", \"name\": \"English\"}]   \n",
              "4  [{\"iso_639_1\": \"en\", \"name\": \"English\"}]   \n",
              "\n",
              "                                       Movie_Tagline  \\\n",
              "0  Twelve outrageous guests. Four scandalous requ...   \n",
              "1       A long time ago in a galaxy far, far away...   \n",
              "2  There are 3.7 trillion fish in the ocean, they...   \n",
              "3  The world will never be the same, once you've ...   \n",
              "4                                       Look closer.   \n",
              "\n",
              "                                          Movie_Cast  \\\n",
              "0  Tim Roth Antonio Banderas Jennifer Beals Madon...   \n",
              "1  Mark Hamill Harrison Ford Carrie Fisher Peter ...   \n",
              "2  Albert Brooks Ellen DeGeneres Alexander Gould ...   \n",
              "3  Tom Hanks Robin Wright Gary Sinise Mykelti Wil...   \n",
              "4  Kevin Spacey Annette Bening Thora Birch Wes Be...   \n",
              "\n",
              "                                          Movie_Crew   Movie_Director  \n",
              "0  [{'name': 'Allison Anders', 'gender': 1, 'depa...   Allison Anders  \n",
              "1  [{'name': 'George Lucas', 'gender': 2, 'depart...     George Lucas  \n",
              "2  [{'name': 'Andrew Stanton', 'gender': 2, 'depa...   Andrew Stanton  \n",
              "3  [{'name': 'Alan Silvestri', 'gender': 2, 'depa...  Robert Zemeckis  \n",
              "4  [{'name': 'Thomas Newman', 'gender': 2, 'depar...       Sam Mendes  \n",
              "\n",
              "[5 rows x 21 columns]"
            ],
            "text/html": [
              "\n",
              "  <div id=\"df-4530ab24-1260-48c4-95d1-5f82ef782d4c\" class=\"colab-df-container\">\n",
              "    <div>\n",
              "<style scoped>\n",
              "    .dataframe tbody tr th:only-of-type {\n",
              "        vertical-align: middle;\n",
              "    }\n",
              "\n",
              "    .dataframe tbody tr th {\n",
              "        vertical-align: top;\n",
              "    }\n",
              "\n",
              "    .dataframe thead th {\n",
              "        text-align: right;\n",
              "    }\n",
              "</style>\n",
              "<table border=\"1\" class=\"dataframe\">\n",
              "  <thead>\n",
              "    <tr style=\"text-align: right;\">\n",
              "      <th></th>\n",
              "      <th>Movie_ID</th>\n",
              "      <th>Movie_Title</th>\n",
              "      <th>Movie_Genre</th>\n",
              "      <th>Movie_Language</th>\n",
              "      <th>Movie_Budget</th>\n",
              "      <th>Movie_Popularity</th>\n",
              "      <th>Movie_Release_Date</th>\n",
              "      <th>Movie_Revenue</th>\n",
              "      <th>Movie_Runtime</th>\n",
              "      <th>Movie_Vote</th>\n",
              "      <th>...</th>\n",
              "      <th>Movie_Homepage</th>\n",
              "      <th>Movie_Keywords</th>\n",
              "      <th>Movie_Overview</th>\n",
              "      <th>Movie_Production_House</th>\n",
              "      <th>Movie_Production_Country</th>\n",
              "      <th>Movie_Spoken_Language</th>\n",
              "      <th>Movie_Tagline</th>\n",
              "      <th>Movie_Cast</th>\n",
              "      <th>Movie_Crew</th>\n",
              "      <th>Movie_Director</th>\n",
              "    </tr>\n",
              "  </thead>\n",
              "  <tbody>\n",
              "    <tr>\n",
              "      <th>0</th>\n",
              "      <td>1</td>\n",
              "      <td>Four Rooms</td>\n",
              "      <td>Crime Comedy</td>\n",
              "      <td>en</td>\n",
              "      <td>4000000</td>\n",
              "      <td>22.876230</td>\n",
              "      <td>09-12-1995</td>\n",
              "      <td>4300000</td>\n",
              "      <td>98.0</td>\n",
              "      <td>6.5</td>\n",
              "      <td>...</td>\n",
              "      <td>NaN</td>\n",
              "      <td>hotel new year's eve witch bet hotel room</td>\n",
              "      <td>It's Ted the Bellhop's first night on the job....</td>\n",
              "      <td>[{\"name\": \"Miramax Films\", \"id\": 14}, {\"name\":...</td>\n",
              "      <td>[{\"iso_3166_1\": \"US\", \"name\": \"United States o...</td>\n",
              "      <td>[{\"iso_639_1\": \"en\", \"name\": \"English\"}]</td>\n",
              "      <td>Twelve outrageous guests. Four scandalous requ...</td>\n",
              "      <td>Tim Roth Antonio Banderas Jennifer Beals Madon...</td>\n",
              "      <td>[{'name': 'Allison Anders', 'gender': 1, 'depa...</td>\n",
              "      <td>Allison Anders</td>\n",
              "    </tr>\n",
              "    <tr>\n",
              "      <th>1</th>\n",
              "      <td>2</td>\n",
              "      <td>Star Wars</td>\n",
              "      <td>Adventure Action Science Fiction</td>\n",
              "      <td>en</td>\n",
              "      <td>11000000</td>\n",
              "      <td>126.393695</td>\n",
              "      <td>25-05-1977</td>\n",
              "      <td>775398007</td>\n",
              "      <td>121.0</td>\n",
              "      <td>8.1</td>\n",
              "      <td>...</td>\n",
              "      <td>http://www.starwars.com/films/star-wars-episod...</td>\n",
              "      <td>android galaxy hermit death star lightsaber</td>\n",
              "      <td>Princess Leia is captured and held hostage by ...</td>\n",
              "      <td>[{\"name\": \"Lucasfilm\", \"id\": 1}, {\"name\": \"Twe...</td>\n",
              "      <td>[{\"iso_3166_1\": \"US\", \"name\": \"United States o...</td>\n",
              "      <td>[{\"iso_639_1\": \"en\", \"name\": \"English\"}]</td>\n",
              "      <td>A long time ago in a galaxy far, far away...</td>\n",
              "      <td>Mark Hamill Harrison Ford Carrie Fisher Peter ...</td>\n",
              "      <td>[{'name': 'George Lucas', 'gender': 2, 'depart...</td>\n",
              "      <td>George Lucas</td>\n",
              "    </tr>\n",
              "    <tr>\n",
              "      <th>2</th>\n",
              "      <td>3</td>\n",
              "      <td>Finding Nemo</td>\n",
              "      <td>Animation Family</td>\n",
              "      <td>en</td>\n",
              "      <td>94000000</td>\n",
              "      <td>85.688789</td>\n",
              "      <td>30-05-2003</td>\n",
              "      <td>940335536</td>\n",
              "      <td>100.0</td>\n",
              "      <td>7.6</td>\n",
              "      <td>...</td>\n",
              "      <td>http://movies.disney.com/finding-nemo</td>\n",
              "      <td>father son relationship harbor underwater fish...</td>\n",
              "      <td>Nemo, an adventurous young clownfish, is unexp...</td>\n",
              "      <td>[{\"name\": \"Pixar Animation Studios\", \"id\": 3}]</td>\n",
              "      <td>[{\"iso_3166_1\": \"US\", \"name\": \"United States o...</td>\n",
              "      <td>[{\"iso_639_1\": \"en\", \"name\": \"English\"}]</td>\n",
              "      <td>There are 3.7 trillion fish in the ocean, they...</td>\n",
              "      <td>Albert Brooks Ellen DeGeneres Alexander Gould ...</td>\n",
              "      <td>[{'name': 'Andrew Stanton', 'gender': 2, 'depa...</td>\n",
              "      <td>Andrew Stanton</td>\n",
              "    </tr>\n",
              "    <tr>\n",
              "      <th>3</th>\n",
              "      <td>4</td>\n",
              "      <td>Forrest Gump</td>\n",
              "      <td>Comedy Drama Romance</td>\n",
              "      <td>en</td>\n",
              "      <td>55000000</td>\n",
              "      <td>138.133331</td>\n",
              "      <td>06-07-1994</td>\n",
              "      <td>677945399</td>\n",
              "      <td>142.0</td>\n",
              "      <td>8.2</td>\n",
              "      <td>...</td>\n",
              "      <td>NaN</td>\n",
              "      <td>vietnam veteran hippie mentally disabled runni...</td>\n",
              "      <td>A man with a low IQ has accomplished great thi...</td>\n",
              "      <td>[{\"name\": \"Paramount Pictures\", \"id\": 4}]</td>\n",
              "      <td>[{\"iso_3166_1\": \"US\", \"name\": \"United States o...</td>\n",
              "      <td>[{\"iso_639_1\": \"en\", \"name\": \"English\"}]</td>\n",
              "      <td>The world will never be the same, once you've ...</td>\n",
              "      <td>Tom Hanks Robin Wright Gary Sinise Mykelti Wil...</td>\n",
              "      <td>[{'name': 'Alan Silvestri', 'gender': 2, 'depa...</td>\n",
              "      <td>Robert Zemeckis</td>\n",
              "    </tr>\n",
              "    <tr>\n",
              "      <th>4</th>\n",
              "      <td>5</td>\n",
              "      <td>American Beauty</td>\n",
              "      <td>Drama</td>\n",
              "      <td>en</td>\n",
              "      <td>15000000</td>\n",
              "      <td>80.878605</td>\n",
              "      <td>15-09-1999</td>\n",
              "      <td>356296601</td>\n",
              "      <td>122.0</td>\n",
              "      <td>7.9</td>\n",
              "      <td>...</td>\n",
              "      <td>http://www.dreamworks.com/ab/</td>\n",
              "      <td>male nudity female nudity adultery midlife cri...</td>\n",
              "      <td>Lester Burnham, a depressed suburban father in...</td>\n",
              "      <td>[{\"name\": \"DreamWorks SKG\", \"id\": 27}, {\"name\"...</td>\n",
              "      <td>[{\"iso_3166_1\": \"US\", \"name\": \"United States o...</td>\n",
              "      <td>[{\"iso_639_1\": \"en\", \"name\": \"English\"}]</td>\n",
              "      <td>Look closer.</td>\n",
              "      <td>Kevin Spacey Annette Bening Thora Birch Wes Be...</td>\n",
              "      <td>[{'name': 'Thomas Newman', 'gender': 2, 'depar...</td>\n",
              "      <td>Sam Mendes</td>\n",
              "    </tr>\n",
              "  </tbody>\n",
              "</table>\n",
              "<p>5 rows × 21 columns</p>\n",
              "</div>\n",
              "    <div class=\"colab-df-buttons\">\n",
              "\n",
              "  <div class=\"colab-df-container\">\n",
              "    <button class=\"colab-df-convert\" onclick=\"convertToInteractive('df-4530ab24-1260-48c4-95d1-5f82ef782d4c')\"\n",
              "            title=\"Convert this dataframe to an interactive table.\"\n",
              "            style=\"display:none;\">\n",
              "\n",
              "  <svg xmlns=\"http://www.w3.org/2000/svg\" height=\"24px\" viewBox=\"0 -960 960 960\">\n",
              "    <path d=\"M120-120v-720h720v720H120Zm60-500h600v-160H180v160Zm220 220h160v-160H400v160Zm0 220h160v-160H400v160ZM180-400h160v-160H180v160Zm440 0h160v-160H620v160ZM180-180h160v-160H180v160Zm440 0h160v-160H620v160Z\"/>\n",
              "  </svg>\n",
              "    </button>\n",
              "\n",
              "  <style>\n",
              "    .colab-df-container {\n",
              "      display:flex;\n",
              "      gap: 12px;\n",
              "    }\n",
              "\n",
              "    .colab-df-convert {\n",
              "      background-color: #E8F0FE;\n",
              "      border: none;\n",
              "      border-radius: 50%;\n",
              "      cursor: pointer;\n",
              "      display: none;\n",
              "      fill: #1967D2;\n",
              "      height: 32px;\n",
              "      padding: 0 0 0 0;\n",
              "      width: 32px;\n",
              "    }\n",
              "\n",
              "    .colab-df-convert:hover {\n",
              "      background-color: #E2EBFA;\n",
              "      box-shadow: 0px 1px 2px rgba(60, 64, 67, 0.3), 0px 1px 3px 1px rgba(60, 64, 67, 0.15);\n",
              "      fill: #174EA6;\n",
              "    }\n",
              "\n",
              "    .colab-df-buttons div {\n",
              "      margin-bottom: 4px;\n",
              "    }\n",
              "\n",
              "    [theme=dark] .colab-df-convert {\n",
              "      background-color: #3B4455;\n",
              "      fill: #D2E3FC;\n",
              "    }\n",
              "\n",
              "    [theme=dark] .colab-df-convert:hover {\n",
              "      background-color: #434B5C;\n",
              "      box-shadow: 0px 1px 3px 1px rgba(0, 0, 0, 0.15);\n",
              "      filter: drop-shadow(0px 1px 2px rgba(0, 0, 0, 0.3));\n",
              "      fill: #FFFFFF;\n",
              "    }\n",
              "  </style>\n",
              "\n",
              "    <script>\n",
              "      const buttonEl =\n",
              "        document.querySelector('#df-4530ab24-1260-48c4-95d1-5f82ef782d4c button.colab-df-convert');\n",
              "      buttonEl.style.display =\n",
              "        google.colab.kernel.accessAllowed ? 'block' : 'none';\n",
              "\n",
              "      async function convertToInteractive(key) {\n",
              "        const element = document.querySelector('#df-4530ab24-1260-48c4-95d1-5f82ef782d4c');\n",
              "        const dataTable =\n",
              "          await google.colab.kernel.invokeFunction('convertToInteractive',\n",
              "                                                    [key], {});\n",
              "        if (!dataTable) return;\n",
              "\n",
              "        const docLinkHtml = 'Like what you see? Visit the ' +\n",
              "          '<a target=\"_blank\" href=https://colab.research.google.com/notebooks/data_table.ipynb>data table notebook</a>'\n",
              "          + ' to learn more about interactive tables.';\n",
              "        element.innerHTML = '';\n",
              "        dataTable['output_type'] = 'display_data';\n",
              "        await google.colab.output.renderOutput(dataTable, element);\n",
              "        const docLink = document.createElement('div');\n",
              "        docLink.innerHTML = docLinkHtml;\n",
              "        element.appendChild(docLink);\n",
              "      }\n",
              "    </script>\n",
              "  </div>\n",
              "\n",
              "\n",
              "<div id=\"df-7b63dffd-926b-4465-9af9-5d5d08fc7e6a\">\n",
              "  <button class=\"colab-df-quickchart\" onclick=\"quickchart('df-7b63dffd-926b-4465-9af9-5d5d08fc7e6a')\"\n",
              "            title=\"Suggest charts\"\n",
              "            style=\"display:none;\">\n",
              "\n",
              "<svg xmlns=\"http://www.w3.org/2000/svg\" height=\"24px\"viewBox=\"0 0 24 24\"\n",
              "     width=\"24px\">\n",
              "    <g>\n",
              "        <path d=\"M19 3H5c-1.1 0-2 .9-2 2v14c0 1.1.9 2 2 2h14c1.1 0 2-.9 2-2V5c0-1.1-.9-2-2-2zM9 17H7v-7h2v7zm4 0h-2V7h2v10zm4 0h-2v-4h2v4z\"/>\n",
              "    </g>\n",
              "</svg>\n",
              "  </button>\n",
              "\n",
              "<style>\n",
              "  .colab-df-quickchart {\n",
              "      --bg-color: #E8F0FE;\n",
              "      --fill-color: #1967D2;\n",
              "      --hover-bg-color: #E2EBFA;\n",
              "      --hover-fill-color: #174EA6;\n",
              "      --disabled-fill-color: #AAA;\n",
              "      --disabled-bg-color: #DDD;\n",
              "  }\n",
              "\n",
              "  [theme=dark] .colab-df-quickchart {\n",
              "      --bg-color: #3B4455;\n",
              "      --fill-color: #D2E3FC;\n",
              "      --hover-bg-color: #434B5C;\n",
              "      --hover-fill-color: #FFFFFF;\n",
              "      --disabled-bg-color: #3B4455;\n",
              "      --disabled-fill-color: #666;\n",
              "  }\n",
              "\n",
              "  .colab-df-quickchart {\n",
              "    background-color: var(--bg-color);\n",
              "    border: none;\n",
              "    border-radius: 50%;\n",
              "    cursor: pointer;\n",
              "    display: none;\n",
              "    fill: var(--fill-color);\n",
              "    height: 32px;\n",
              "    padding: 0;\n",
              "    width: 32px;\n",
              "  }\n",
              "\n",
              "  .colab-df-quickchart:hover {\n",
              "    background-color: var(--hover-bg-color);\n",
              "    box-shadow: 0 1px 2px rgba(60, 64, 67, 0.3), 0 1px 3px 1px rgba(60, 64, 67, 0.15);\n",
              "    fill: var(--button-hover-fill-color);\n",
              "  }\n",
              "\n",
              "  .colab-df-quickchart-complete:disabled,\n",
              "  .colab-df-quickchart-complete:disabled:hover {\n",
              "    background-color: var(--disabled-bg-color);\n",
              "    fill: var(--disabled-fill-color);\n",
              "    box-shadow: none;\n",
              "  }\n",
              "\n",
              "  .colab-df-spinner {\n",
              "    border: 2px solid var(--fill-color);\n",
              "    border-color: transparent;\n",
              "    border-bottom-color: var(--fill-color);\n",
              "    animation:\n",
              "      spin 1s steps(1) infinite;\n",
              "  }\n",
              "\n",
              "  @keyframes spin {\n",
              "    0% {\n",
              "      border-color: transparent;\n",
              "      border-bottom-color: var(--fill-color);\n",
              "      border-left-color: var(--fill-color);\n",
              "    }\n",
              "    20% {\n",
              "      border-color: transparent;\n",
              "      border-left-color: var(--fill-color);\n",
              "      border-top-color: var(--fill-color);\n",
              "    }\n",
              "    30% {\n",
              "      border-color: transparent;\n",
              "      border-left-color: var(--fill-color);\n",
              "      border-top-color: var(--fill-color);\n",
              "      border-right-color: var(--fill-color);\n",
              "    }\n",
              "    40% {\n",
              "      border-color: transparent;\n",
              "      border-right-color: var(--fill-color);\n",
              "      border-top-color: var(--fill-color);\n",
              "    }\n",
              "    60% {\n",
              "      border-color: transparent;\n",
              "      border-right-color: var(--fill-color);\n",
              "    }\n",
              "    80% {\n",
              "      border-color: transparent;\n",
              "      border-right-color: var(--fill-color);\n",
              "      border-bottom-color: var(--fill-color);\n",
              "    }\n",
              "    90% {\n",
              "      border-color: transparent;\n",
              "      border-bottom-color: var(--fill-color);\n",
              "    }\n",
              "  }\n",
              "</style>\n",
              "\n",
              "  <script>\n",
              "    async function quickchart(key) {\n",
              "      const quickchartButtonEl =\n",
              "        document.querySelector('#' + key + ' button');\n",
              "      quickchartButtonEl.disabled = true;  // To prevent multiple clicks.\n",
              "      quickchartButtonEl.classList.add('colab-df-spinner');\n",
              "      try {\n",
              "        const charts = await google.colab.kernel.invokeFunction(\n",
              "            'suggestCharts', [key], {});\n",
              "      } catch (error) {\n",
              "        console.error('Error during call to suggestCharts:', error);\n",
              "      }\n",
              "      quickchartButtonEl.classList.remove('colab-df-spinner');\n",
              "      quickchartButtonEl.classList.add('colab-df-quickchart-complete');\n",
              "    }\n",
              "    (() => {\n",
              "      let quickchartButtonEl =\n",
              "        document.querySelector('#df-7b63dffd-926b-4465-9af9-5d5d08fc7e6a button');\n",
              "      quickchartButtonEl.style.display =\n",
              "        google.colab.kernel.accessAllowed ? 'block' : 'none';\n",
              "    })();\n",
              "  </script>\n",
              "</div>\n",
              "\n",
              "    </div>\n",
              "  </div>\n"
            ],
            "application/vnd.google.colaboratory.intrinsic+json": {
              "type": "dataframe",
              "variable_name": "df"
            }
          },
          "metadata": {},
          "execution_count": 14
        }
      ]
    },
    {
      "cell_type": "code",
      "source": [
        "df.info()"
      ],
      "metadata": {
        "colab": {
          "base_uri": "https://localhost:8080/"
        },
        "id": "ZctMq3DkeMCT",
        "outputId": "ce2944d3-4926-4b59-96bd-00029a1fe067"
      },
      "execution_count": 15,
      "outputs": [
        {
          "output_type": "stream",
          "name": "stdout",
          "text": [
            "<class 'pandas.core.frame.DataFrame'>\n",
            "RangeIndex: 4760 entries, 0 to 4759\n",
            "Data columns (total 21 columns):\n",
            " #   Column                    Non-Null Count  Dtype  \n",
            "---  ------                    --------------  -----  \n",
            " 0   Movie_ID                  4760 non-null   int64  \n",
            " 1   Movie_Title               4760 non-null   object \n",
            " 2   Movie_Genre               4760 non-null   object \n",
            " 3   Movie_Language            4760 non-null   object \n",
            " 4   Movie_Budget              4760 non-null   int64  \n",
            " 5   Movie_Popularity          4760 non-null   float64\n",
            " 6   Movie_Release_Date        4760 non-null   object \n",
            " 7   Movie_Revenue             4760 non-null   int64  \n",
            " 8   Movie_Runtime             4758 non-null   float64\n",
            " 9   Movie_Vote                4760 non-null   float64\n",
            " 10  Movie_Vote_Count          4760 non-null   int64  \n",
            " 11  Movie_Homepage            1699 non-null   object \n",
            " 12  Movie_Keywords            4373 non-null   object \n",
            " 13  Movie_Overview            4757 non-null   object \n",
            " 14  Movie_Production_House    4760 non-null   object \n",
            " 15  Movie_Production_Country  4760 non-null   object \n",
            " 16  Movie_Spoken_Language     4760 non-null   object \n",
            " 17  Movie_Tagline             3942 non-null   object \n",
            " 18  Movie_Cast                4733 non-null   object \n",
            " 19  Movie_Crew                4760 non-null   object \n",
            " 20  Movie_Director            4738 non-null   object \n",
            "dtypes: float64(3), int64(4), object(14)\n",
            "memory usage: 781.1+ KB\n"
          ]
        }
      ]
    },
    {
      "cell_type": "code",
      "source": [
        "df.shape"
      ],
      "metadata": {
        "colab": {
          "base_uri": "https://localhost:8080/"
        },
        "id": "cFHCH8FueXQa",
        "outputId": "febd99d1-7586-4397-89d8-15adb9a3db3b"
      },
      "execution_count": 16,
      "outputs": [
        {
          "output_type": "execute_result",
          "data": {
            "text/plain": [
              "(4760, 21)"
            ]
          },
          "metadata": {},
          "execution_count": 16
        }
      ]
    },
    {
      "cell_type": "code",
      "source": [
        "df.columns"
      ],
      "metadata": {
        "colab": {
          "base_uri": "https://localhost:8080/"
        },
        "id": "OxLLONw0ed_6",
        "outputId": "fdc06134-0e96-4654-c87f-c84599299e25"
      },
      "execution_count": 17,
      "outputs": [
        {
          "output_type": "execute_result",
          "data": {
            "text/plain": [
              "Index(['Movie_ID', 'Movie_Title', 'Movie_Genre', 'Movie_Language',\n",
              "       'Movie_Budget', 'Movie_Popularity', 'Movie_Release_Date',\n",
              "       'Movie_Revenue', 'Movie_Runtime', 'Movie_Vote', 'Movie_Vote_Count',\n",
              "       'Movie_Homepage', 'Movie_Keywords', 'Movie_Overview',\n",
              "       'Movie_Production_House', 'Movie_Production_Country',\n",
              "       'Movie_Spoken_Language', 'Movie_Tagline', 'Movie_Cast', 'Movie_Crew',\n",
              "       'Movie_Director'],\n",
              "      dtype='object')"
            ]
          },
          "metadata": {},
          "execution_count": 17
        }
      ]
    },
    {
      "cell_type": "code",
      "source": [
        "df_features = df[['Movie_Genre', 'Movie_Keywords', 'Movie_Tagline', 'Movie_Cast', 'Movie_Director']].fillna('')"
      ],
      "metadata": {
        "id": "q5vmGhj1eiA6"
      },
      "execution_count": 18,
      "outputs": []
    },
    {
      "cell_type": "code",
      "source": [
        "df_features.shape"
      ],
      "metadata": {
        "colab": {
          "base_uri": "https://localhost:8080/"
        },
        "id": "LxnMG0ncfSNj",
        "outputId": "16aed55d-a47b-496d-c4d9-251a327c26c7"
      },
      "execution_count": 19,
      "outputs": [
        {
          "output_type": "execute_result",
          "data": {
            "text/plain": [
              "(4760, 5)"
            ]
          },
          "metadata": {},
          "execution_count": 19
        }
      ]
    },
    {
      "cell_type": "code",
      "source": [
        "df_features"
      ],
      "metadata": {
        "colab": {
          "base_uri": "https://localhost:8080/",
          "height": 1000
        },
        "id": "ZQY1E3JVfZz1",
        "outputId": "15f386bb-fd0f-4ab6-e59e-01f3578b551f"
      },
      "execution_count": 20,
      "outputs": [
        {
          "output_type": "execute_result",
          "data": {
            "text/plain": [
              "                           Movie_Genre  \\\n",
              "0                         Crime Comedy   \n",
              "1     Adventure Action Science Fiction   \n",
              "2                     Animation Family   \n",
              "3                 Comedy Drama Romance   \n",
              "4                                Drama   \n",
              "...                                ...   \n",
              "4755                            Horror   \n",
              "4756               Comedy Family Drama   \n",
              "4757                    Thriller Drama   \n",
              "4758                            Family   \n",
              "4759                       Documentary   \n",
              "\n",
              "                                         Movie_Keywords  \\\n",
              "0             hotel new year's eve witch bet hotel room   \n",
              "1           android galaxy hermit death star lightsaber   \n",
              "2     father son relationship harbor underwater fish...   \n",
              "3     vietnam veteran hippie mentally disabled runni...   \n",
              "4     male nudity female nudity adultery midlife cri...   \n",
              "...                                                 ...   \n",
              "4755                                                      \n",
              "4756                                                      \n",
              "4757                     christian film sex trafficking   \n",
              "4758                                                      \n",
              "4759  music actors legendary perfomer classic hollyw...   \n",
              "\n",
              "                                          Movie_Tagline  \\\n",
              "0     Twelve outrageous guests. Four scandalous requ...   \n",
              "1          A long time ago in a galaxy far, far away...   \n",
              "2     There are 3.7 trillion fish in the ocean, they...   \n",
              "3     The world will never be the same, once you've ...   \n",
              "4                                          Look closer.   \n",
              "...                                                 ...   \n",
              "4755                The hot spot where Satan's waitin'.   \n",
              "4756           It’s better to stand out than to fit in.   \n",
              "4757           She never knew it could happen to her...   \n",
              "4758                                                      \n",
              "4759                                                      \n",
              "\n",
              "                                             Movie_Cast     Movie_Director  \n",
              "0     Tim Roth Antonio Banderas Jennifer Beals Madon...     Allison Anders  \n",
              "1     Mark Hamill Harrison Ford Carrie Fisher Peter ...       George Lucas  \n",
              "2     Albert Brooks Ellen DeGeneres Alexander Gould ...     Andrew Stanton  \n",
              "3     Tom Hanks Robin Wright Gary Sinise Mykelti Wil...    Robert Zemeckis  \n",
              "4     Kevin Spacey Annette Bening Thora Birch Wes Be...         Sam Mendes  \n",
              "...                                                 ...                ...  \n",
              "4755  Lisa Hart Carroll Michael Des Barres Paul Drak...         Pece Dingo  \n",
              "4756  Roni Akurati Brighton Sharbino Jason Lee Anjul...       Frank Lotito  \n",
              "4757  Nicole Smolen Kim Baldwin Ariana Stephens Brys...       Jaco Booyens  \n",
              "4758                                                                        \n",
              "4759                                    Tony Oppedisano  Simon Napier-Bell  \n",
              "\n",
              "[4760 rows x 5 columns]"
            ],
            "text/html": [
              "\n",
              "  <div id=\"df-ff9ab66e-ebb7-4259-a78d-8b64e15f1e2c\" class=\"colab-df-container\">\n",
              "    <div>\n",
              "<style scoped>\n",
              "    .dataframe tbody tr th:only-of-type {\n",
              "        vertical-align: middle;\n",
              "    }\n",
              "\n",
              "    .dataframe tbody tr th {\n",
              "        vertical-align: top;\n",
              "    }\n",
              "\n",
              "    .dataframe thead th {\n",
              "        text-align: right;\n",
              "    }\n",
              "</style>\n",
              "<table border=\"1\" class=\"dataframe\">\n",
              "  <thead>\n",
              "    <tr style=\"text-align: right;\">\n",
              "      <th></th>\n",
              "      <th>Movie_Genre</th>\n",
              "      <th>Movie_Keywords</th>\n",
              "      <th>Movie_Tagline</th>\n",
              "      <th>Movie_Cast</th>\n",
              "      <th>Movie_Director</th>\n",
              "    </tr>\n",
              "  </thead>\n",
              "  <tbody>\n",
              "    <tr>\n",
              "      <th>0</th>\n",
              "      <td>Crime Comedy</td>\n",
              "      <td>hotel new year's eve witch bet hotel room</td>\n",
              "      <td>Twelve outrageous guests. Four scandalous requ...</td>\n",
              "      <td>Tim Roth Antonio Banderas Jennifer Beals Madon...</td>\n",
              "      <td>Allison Anders</td>\n",
              "    </tr>\n",
              "    <tr>\n",
              "      <th>1</th>\n",
              "      <td>Adventure Action Science Fiction</td>\n",
              "      <td>android galaxy hermit death star lightsaber</td>\n",
              "      <td>A long time ago in a galaxy far, far away...</td>\n",
              "      <td>Mark Hamill Harrison Ford Carrie Fisher Peter ...</td>\n",
              "      <td>George Lucas</td>\n",
              "    </tr>\n",
              "    <tr>\n",
              "      <th>2</th>\n",
              "      <td>Animation Family</td>\n",
              "      <td>father son relationship harbor underwater fish...</td>\n",
              "      <td>There are 3.7 trillion fish in the ocean, they...</td>\n",
              "      <td>Albert Brooks Ellen DeGeneres Alexander Gould ...</td>\n",
              "      <td>Andrew Stanton</td>\n",
              "    </tr>\n",
              "    <tr>\n",
              "      <th>3</th>\n",
              "      <td>Comedy Drama Romance</td>\n",
              "      <td>vietnam veteran hippie mentally disabled runni...</td>\n",
              "      <td>The world will never be the same, once you've ...</td>\n",
              "      <td>Tom Hanks Robin Wright Gary Sinise Mykelti Wil...</td>\n",
              "      <td>Robert Zemeckis</td>\n",
              "    </tr>\n",
              "    <tr>\n",
              "      <th>4</th>\n",
              "      <td>Drama</td>\n",
              "      <td>male nudity female nudity adultery midlife cri...</td>\n",
              "      <td>Look closer.</td>\n",
              "      <td>Kevin Spacey Annette Bening Thora Birch Wes Be...</td>\n",
              "      <td>Sam Mendes</td>\n",
              "    </tr>\n",
              "    <tr>\n",
              "      <th>...</th>\n",
              "      <td>...</td>\n",
              "      <td>...</td>\n",
              "      <td>...</td>\n",
              "      <td>...</td>\n",
              "      <td>...</td>\n",
              "    </tr>\n",
              "    <tr>\n",
              "      <th>4755</th>\n",
              "      <td>Horror</td>\n",
              "      <td></td>\n",
              "      <td>The hot spot where Satan's waitin'.</td>\n",
              "      <td>Lisa Hart Carroll Michael Des Barres Paul Drak...</td>\n",
              "      <td>Pece Dingo</td>\n",
              "    </tr>\n",
              "    <tr>\n",
              "      <th>4756</th>\n",
              "      <td>Comedy Family Drama</td>\n",
              "      <td></td>\n",
              "      <td>It’s better to stand out than to fit in.</td>\n",
              "      <td>Roni Akurati Brighton Sharbino Jason Lee Anjul...</td>\n",
              "      <td>Frank Lotito</td>\n",
              "    </tr>\n",
              "    <tr>\n",
              "      <th>4757</th>\n",
              "      <td>Thriller Drama</td>\n",
              "      <td>christian film sex trafficking</td>\n",
              "      <td>She never knew it could happen to her...</td>\n",
              "      <td>Nicole Smolen Kim Baldwin Ariana Stephens Brys...</td>\n",
              "      <td>Jaco Booyens</td>\n",
              "    </tr>\n",
              "    <tr>\n",
              "      <th>4758</th>\n",
              "      <td>Family</td>\n",
              "      <td></td>\n",
              "      <td></td>\n",
              "      <td></td>\n",
              "      <td></td>\n",
              "    </tr>\n",
              "    <tr>\n",
              "      <th>4759</th>\n",
              "      <td>Documentary</td>\n",
              "      <td>music actors legendary perfomer classic hollyw...</td>\n",
              "      <td></td>\n",
              "      <td>Tony Oppedisano</td>\n",
              "      <td>Simon Napier-Bell</td>\n",
              "    </tr>\n",
              "  </tbody>\n",
              "</table>\n",
              "<p>4760 rows × 5 columns</p>\n",
              "</div>\n",
              "    <div class=\"colab-df-buttons\">\n",
              "\n",
              "  <div class=\"colab-df-container\">\n",
              "    <button class=\"colab-df-convert\" onclick=\"convertToInteractive('df-ff9ab66e-ebb7-4259-a78d-8b64e15f1e2c')\"\n",
              "            title=\"Convert this dataframe to an interactive table.\"\n",
              "            style=\"display:none;\">\n",
              "\n",
              "  <svg xmlns=\"http://www.w3.org/2000/svg\" height=\"24px\" viewBox=\"0 -960 960 960\">\n",
              "    <path d=\"M120-120v-720h720v720H120Zm60-500h600v-160H180v160Zm220 220h160v-160H400v160Zm0 220h160v-160H400v160ZM180-400h160v-160H180v160Zm440 0h160v-160H620v160ZM180-180h160v-160H180v160Zm440 0h160v-160H620v160Z\"/>\n",
              "  </svg>\n",
              "    </button>\n",
              "\n",
              "  <style>\n",
              "    .colab-df-container {\n",
              "      display:flex;\n",
              "      gap: 12px;\n",
              "    }\n",
              "\n",
              "    .colab-df-convert {\n",
              "      background-color: #E8F0FE;\n",
              "      border: none;\n",
              "      border-radius: 50%;\n",
              "      cursor: pointer;\n",
              "      display: none;\n",
              "      fill: #1967D2;\n",
              "      height: 32px;\n",
              "      padding: 0 0 0 0;\n",
              "      width: 32px;\n",
              "    }\n",
              "\n",
              "    .colab-df-convert:hover {\n",
              "      background-color: #E2EBFA;\n",
              "      box-shadow: 0px 1px 2px rgba(60, 64, 67, 0.3), 0px 1px 3px 1px rgba(60, 64, 67, 0.15);\n",
              "      fill: #174EA6;\n",
              "    }\n",
              "\n",
              "    .colab-df-buttons div {\n",
              "      margin-bottom: 4px;\n",
              "    }\n",
              "\n",
              "    [theme=dark] .colab-df-convert {\n",
              "      background-color: #3B4455;\n",
              "      fill: #D2E3FC;\n",
              "    }\n",
              "\n",
              "    [theme=dark] .colab-df-convert:hover {\n",
              "      background-color: #434B5C;\n",
              "      box-shadow: 0px 1px 3px 1px rgba(0, 0, 0, 0.15);\n",
              "      filter: drop-shadow(0px 1px 2px rgba(0, 0, 0, 0.3));\n",
              "      fill: #FFFFFF;\n",
              "    }\n",
              "  </style>\n",
              "\n",
              "    <script>\n",
              "      const buttonEl =\n",
              "        document.querySelector('#df-ff9ab66e-ebb7-4259-a78d-8b64e15f1e2c button.colab-df-convert');\n",
              "      buttonEl.style.display =\n",
              "        google.colab.kernel.accessAllowed ? 'block' : 'none';\n",
              "\n",
              "      async function convertToInteractive(key) {\n",
              "        const element = document.querySelector('#df-ff9ab66e-ebb7-4259-a78d-8b64e15f1e2c');\n",
              "        const dataTable =\n",
              "          await google.colab.kernel.invokeFunction('convertToInteractive',\n",
              "                                                    [key], {});\n",
              "        if (!dataTable) return;\n",
              "\n",
              "        const docLinkHtml = 'Like what you see? Visit the ' +\n",
              "          '<a target=\"_blank\" href=https://colab.research.google.com/notebooks/data_table.ipynb>data table notebook</a>'\n",
              "          + ' to learn more about interactive tables.';\n",
              "        element.innerHTML = '';\n",
              "        dataTable['output_type'] = 'display_data';\n",
              "        await google.colab.output.renderOutput(dataTable, element);\n",
              "        const docLink = document.createElement('div');\n",
              "        docLink.innerHTML = docLinkHtml;\n",
              "        element.appendChild(docLink);\n",
              "      }\n",
              "    </script>\n",
              "  </div>\n",
              "\n",
              "\n",
              "<div id=\"df-77d8dead-cf09-48c8-8744-56dd346b41ab\">\n",
              "  <button class=\"colab-df-quickchart\" onclick=\"quickchart('df-77d8dead-cf09-48c8-8744-56dd346b41ab')\"\n",
              "            title=\"Suggest charts\"\n",
              "            style=\"display:none;\">\n",
              "\n",
              "<svg xmlns=\"http://www.w3.org/2000/svg\" height=\"24px\"viewBox=\"0 0 24 24\"\n",
              "     width=\"24px\">\n",
              "    <g>\n",
              "        <path d=\"M19 3H5c-1.1 0-2 .9-2 2v14c0 1.1.9 2 2 2h14c1.1 0 2-.9 2-2V5c0-1.1-.9-2-2-2zM9 17H7v-7h2v7zm4 0h-2V7h2v10zm4 0h-2v-4h2v4z\"/>\n",
              "    </g>\n",
              "</svg>\n",
              "  </button>\n",
              "\n",
              "<style>\n",
              "  .colab-df-quickchart {\n",
              "      --bg-color: #E8F0FE;\n",
              "      --fill-color: #1967D2;\n",
              "      --hover-bg-color: #E2EBFA;\n",
              "      --hover-fill-color: #174EA6;\n",
              "      --disabled-fill-color: #AAA;\n",
              "      --disabled-bg-color: #DDD;\n",
              "  }\n",
              "\n",
              "  [theme=dark] .colab-df-quickchart {\n",
              "      --bg-color: #3B4455;\n",
              "      --fill-color: #D2E3FC;\n",
              "      --hover-bg-color: #434B5C;\n",
              "      --hover-fill-color: #FFFFFF;\n",
              "      --disabled-bg-color: #3B4455;\n",
              "      --disabled-fill-color: #666;\n",
              "  }\n",
              "\n",
              "  .colab-df-quickchart {\n",
              "    background-color: var(--bg-color);\n",
              "    border: none;\n",
              "    border-radius: 50%;\n",
              "    cursor: pointer;\n",
              "    display: none;\n",
              "    fill: var(--fill-color);\n",
              "    height: 32px;\n",
              "    padding: 0;\n",
              "    width: 32px;\n",
              "  }\n",
              "\n",
              "  .colab-df-quickchart:hover {\n",
              "    background-color: var(--hover-bg-color);\n",
              "    box-shadow: 0 1px 2px rgba(60, 64, 67, 0.3), 0 1px 3px 1px rgba(60, 64, 67, 0.15);\n",
              "    fill: var(--button-hover-fill-color);\n",
              "  }\n",
              "\n",
              "  .colab-df-quickchart-complete:disabled,\n",
              "  .colab-df-quickchart-complete:disabled:hover {\n",
              "    background-color: var(--disabled-bg-color);\n",
              "    fill: var(--disabled-fill-color);\n",
              "    box-shadow: none;\n",
              "  }\n",
              "\n",
              "  .colab-df-spinner {\n",
              "    border: 2px solid var(--fill-color);\n",
              "    border-color: transparent;\n",
              "    border-bottom-color: var(--fill-color);\n",
              "    animation:\n",
              "      spin 1s steps(1) infinite;\n",
              "  }\n",
              "\n",
              "  @keyframes spin {\n",
              "    0% {\n",
              "      border-color: transparent;\n",
              "      border-bottom-color: var(--fill-color);\n",
              "      border-left-color: var(--fill-color);\n",
              "    }\n",
              "    20% {\n",
              "      border-color: transparent;\n",
              "      border-left-color: var(--fill-color);\n",
              "      border-top-color: var(--fill-color);\n",
              "    }\n",
              "    30% {\n",
              "      border-color: transparent;\n",
              "      border-left-color: var(--fill-color);\n",
              "      border-top-color: var(--fill-color);\n",
              "      border-right-color: var(--fill-color);\n",
              "    }\n",
              "    40% {\n",
              "      border-color: transparent;\n",
              "      border-right-color: var(--fill-color);\n",
              "      border-top-color: var(--fill-color);\n",
              "    }\n",
              "    60% {\n",
              "      border-color: transparent;\n",
              "      border-right-color: var(--fill-color);\n",
              "    }\n",
              "    80% {\n",
              "      border-color: transparent;\n",
              "      border-right-color: var(--fill-color);\n",
              "      border-bottom-color: var(--fill-color);\n",
              "    }\n",
              "    90% {\n",
              "      border-color: transparent;\n",
              "      border-bottom-color: var(--fill-color);\n",
              "    }\n",
              "  }\n",
              "</style>\n",
              "\n",
              "  <script>\n",
              "    async function quickchart(key) {\n",
              "      const quickchartButtonEl =\n",
              "        document.querySelector('#' + key + ' button');\n",
              "      quickchartButtonEl.disabled = true;  // To prevent multiple clicks.\n",
              "      quickchartButtonEl.classList.add('colab-df-spinner');\n",
              "      try {\n",
              "        const charts = await google.colab.kernel.invokeFunction(\n",
              "            'suggestCharts', [key], {});\n",
              "      } catch (error) {\n",
              "        console.error('Error during call to suggestCharts:', error);\n",
              "      }\n",
              "      quickchartButtonEl.classList.remove('colab-df-spinner');\n",
              "      quickchartButtonEl.classList.add('colab-df-quickchart-complete');\n",
              "    }\n",
              "    (() => {\n",
              "      let quickchartButtonEl =\n",
              "        document.querySelector('#df-77d8dead-cf09-48c8-8744-56dd346b41ab button');\n",
              "      quickchartButtonEl.style.display =\n",
              "        google.colab.kernel.accessAllowed ? 'block' : 'none';\n",
              "    })();\n",
              "  </script>\n",
              "</div>\n",
              "\n",
              "  <div id=\"id_bae81d97-4fe5-4689-8c6e-0eb7d6867201\">\n",
              "    <style>\n",
              "      .colab-df-generate {\n",
              "        background-color: #E8F0FE;\n",
              "        border: none;\n",
              "        border-radius: 50%;\n",
              "        cursor: pointer;\n",
              "        display: none;\n",
              "        fill: #1967D2;\n",
              "        height: 32px;\n",
              "        padding: 0 0 0 0;\n",
              "        width: 32px;\n",
              "      }\n",
              "\n",
              "      .colab-df-generate:hover {\n",
              "        background-color: #E2EBFA;\n",
              "        box-shadow: 0px 1px 2px rgba(60, 64, 67, 0.3), 0px 1px 3px 1px rgba(60, 64, 67, 0.15);\n",
              "        fill: #174EA6;\n",
              "      }\n",
              "\n",
              "      [theme=dark] .colab-df-generate {\n",
              "        background-color: #3B4455;\n",
              "        fill: #D2E3FC;\n",
              "      }\n",
              "\n",
              "      [theme=dark] .colab-df-generate:hover {\n",
              "        background-color: #434B5C;\n",
              "        box-shadow: 0px 1px 3px 1px rgba(0, 0, 0, 0.15);\n",
              "        filter: drop-shadow(0px 1px 2px rgba(0, 0, 0, 0.3));\n",
              "        fill: #FFFFFF;\n",
              "      }\n",
              "    </style>\n",
              "    <button class=\"colab-df-generate\" onclick=\"generateWithVariable('df_features')\"\n",
              "            title=\"Generate code using this dataframe.\"\n",
              "            style=\"display:none;\">\n",
              "\n",
              "  <svg xmlns=\"http://www.w3.org/2000/svg\" height=\"24px\"viewBox=\"0 0 24 24\"\n",
              "       width=\"24px\">\n",
              "    <path d=\"M7,19H8.4L18.45,9,17,7.55,7,17.6ZM5,21V16.75L18.45,3.32a2,2,0,0,1,2.83,0l1.4,1.43a1.91,1.91,0,0,1,.58,1.4,1.91,1.91,0,0,1-.58,1.4L9.25,21ZM18.45,9,17,7.55Zm-12,3A5.31,5.31,0,0,0,4.9,8.1,5.31,5.31,0,0,0,1,6.5,5.31,5.31,0,0,0,4.9,4.9,5.31,5.31,0,0,0,6.5,1,5.31,5.31,0,0,0,8.1,4.9,5.31,5.31,0,0,0,12,6.5,5.46,5.46,0,0,0,6.5,12Z\"/>\n",
              "  </svg>\n",
              "    </button>\n",
              "    <script>\n",
              "      (() => {\n",
              "      const buttonEl =\n",
              "        document.querySelector('#id_bae81d97-4fe5-4689-8c6e-0eb7d6867201 button.colab-df-generate');\n",
              "      buttonEl.style.display =\n",
              "        google.colab.kernel.accessAllowed ? 'block' : 'none';\n",
              "\n",
              "      buttonEl.onclick = () => {\n",
              "        google.colab.notebook.generateWithVariable('df_features');\n",
              "      }\n",
              "      })();\n",
              "    </script>\n",
              "  </div>\n",
              "\n",
              "    </div>\n",
              "  </div>\n"
            ],
            "application/vnd.google.colaboratory.intrinsic+json": {
              "type": "dataframe",
              "variable_name": "df_features",
              "summary": "{\n  \"name\": \"df_features\",\n  \"rows\": 4760,\n  \"fields\": [\n    {\n      \"column\": \"Movie_Genre\",\n      \"properties\": {\n        \"dtype\": \"category\",\n        \"num_unique_values\": 1164,\n        \"samples\": [\n          \"Family Animation Adventure\",\n          \"Adventure Science Fiction Action\",\n          \"Action Crime Drama Romance Thriller\"\n        ],\n        \"semantic_type\": \"\",\n        \"description\": \"\"\n      }\n    },\n    {\n      \"column\": \"Movie_Keywords\",\n      \"properties\": {\n        \"dtype\": \"string\",\n        \"num_unique_values\": 4203,\n        \"samples\": [\n          \"canada nazis sequel spin off ancient evil\",\n          \"sex professor wedding woman director columbia university\",\n          \"prophecy sea beach gold small town\"\n        ],\n        \"semantic_type\": \"\",\n        \"description\": \"\"\n      }\n    },\n    {\n      \"column\": \"Movie_Tagline\",\n      \"properties\": {\n        \"dtype\": \"string\",\n        \"num_unique_values\": 3928,\n        \"samples\": [\n          \"The messenger must be silenced.\",\n          \"It's not the house that's haunted.\",\n          \"The final hunt begins.\"\n        ],\n        \"semantic_type\": \"\",\n        \"description\": \"\"\n      }\n    },\n    {\n      \"column\": \"Movie_Cast\",\n      \"properties\": {\n        \"dtype\": \"string\",\n        \"num_unique_values\": 4715,\n        \"samples\": [\n          \"Robin Tunney Fairuza Balk Neve Campbell Rachel True Skeet Ulrich\",\n          \"Peter Sellers Christopher Plummer Herbert Lom Catherine Schell Peter Arne\",\n          \"John Wayne Laraine Day Cedric Hardwicke Judith Anderson Anthony Quinn\"\n        ],\n        \"semantic_type\": \"\",\n        \"description\": \"\"\n      }\n    },\n    {\n      \"column\": \"Movie_Director\",\n      \"properties\": {\n        \"dtype\": \"category\",\n        \"num_unique_values\": 2332,\n        \"samples\": [\n          \"Rob McKittrick\",\n          \"Terron R. Parsons\",\n          \"Cyrus Nowrasteh\"\n        ],\n        \"semantic_type\": \"\",\n        \"description\": \"\"\n      }\n    }\n  ]\n}"
            }
          },
          "metadata": {},
          "execution_count": 20
        }
      ]
    },
    {
      "cell_type": "code",
      "source": [
        "x = df_features['Movie_Genre'] + ' ' + df_features ['Movie_Keywords'] + ' ' + df_features ['Movie_Tagline'] + ' ' + df_features['Movie_Cast'] + '' + df_features ['Movie_Director']"
      ],
      "metadata": {
        "id": "ZBB0lwCyfvl5"
      },
      "execution_count": 27,
      "outputs": []
    },
    {
      "cell_type": "code",
      "source": [
        "x"
      ],
      "metadata": {
        "colab": {
          "base_uri": "https://localhost:8080/",
          "height": 458
        },
        "id": "A0TfEK0ug1Ey",
        "outputId": "c96a15c3-1ea5-4c35-f0dc-b61af6208228"
      },
      "execution_count": 28,
      "outputs": [
        {
          "output_type": "execute_result",
          "data": {
            "text/plain": [
              "0       Crime Comedy hotel new year's eve witch bet ho...\n",
              "1       Adventure Action Science Fiction android galax...\n",
              "2       Animation Family father son relationship harbo...\n",
              "3       Comedy Drama Romance vietnam veteran hippie me...\n",
              "4       Drama male nudity female nudity adultery midli...\n",
              "                              ...                        \n",
              "4755    Horror  The hot spot where Satan's waitin'. Li...\n",
              "4756    Comedy Family Drama  It’s better to stand out ...\n",
              "4757    Thriller Drama christian film sex trafficking ...\n",
              "4758                                            Family   \n",
              "4759    Documentary music actors legendary perfomer cl...\n",
              "Length: 4760, dtype: object"
            ],
            "text/html": [
              "<div>\n",
              "<style scoped>\n",
              "    .dataframe tbody tr th:only-of-type {\n",
              "        vertical-align: middle;\n",
              "    }\n",
              "\n",
              "    .dataframe tbody tr th {\n",
              "        vertical-align: top;\n",
              "    }\n",
              "\n",
              "    .dataframe thead th {\n",
              "        text-align: right;\n",
              "    }\n",
              "</style>\n",
              "<table border=\"1\" class=\"dataframe\">\n",
              "  <thead>\n",
              "    <tr style=\"text-align: right;\">\n",
              "      <th></th>\n",
              "      <th>0</th>\n",
              "    </tr>\n",
              "  </thead>\n",
              "  <tbody>\n",
              "    <tr>\n",
              "      <th>0</th>\n",
              "      <td>Crime Comedy hotel new year's eve witch bet ho...</td>\n",
              "    </tr>\n",
              "    <tr>\n",
              "      <th>1</th>\n",
              "      <td>Adventure Action Science Fiction android galax...</td>\n",
              "    </tr>\n",
              "    <tr>\n",
              "      <th>2</th>\n",
              "      <td>Animation Family father son relationship harbo...</td>\n",
              "    </tr>\n",
              "    <tr>\n",
              "      <th>3</th>\n",
              "      <td>Comedy Drama Romance vietnam veteran hippie me...</td>\n",
              "    </tr>\n",
              "    <tr>\n",
              "      <th>4</th>\n",
              "      <td>Drama male nudity female nudity adultery midli...</td>\n",
              "    </tr>\n",
              "    <tr>\n",
              "      <th>...</th>\n",
              "      <td>...</td>\n",
              "    </tr>\n",
              "    <tr>\n",
              "      <th>4755</th>\n",
              "      <td>Horror  The hot spot where Satan's waitin'. Li...</td>\n",
              "    </tr>\n",
              "    <tr>\n",
              "      <th>4756</th>\n",
              "      <td>Comedy Family Drama  It’s better to stand out ...</td>\n",
              "    </tr>\n",
              "    <tr>\n",
              "      <th>4757</th>\n",
              "      <td>Thriller Drama christian film sex trafficking ...</td>\n",
              "    </tr>\n",
              "    <tr>\n",
              "      <th>4758</th>\n",
              "      <td>Family</td>\n",
              "    </tr>\n",
              "    <tr>\n",
              "      <th>4759</th>\n",
              "      <td>Documentary music actors legendary perfomer cl...</td>\n",
              "    </tr>\n",
              "  </tbody>\n",
              "</table>\n",
              "<p>4760 rows × 1 columns</p>\n",
              "</div><br><label><b>dtype:</b> object</label>"
            ]
          },
          "metadata": {},
          "execution_count": 28
        }
      ]
    },
    {
      "cell_type": "code",
      "source": [
        "x.shape"
      ],
      "metadata": {
        "colab": {
          "base_uri": "https://localhost:8080/"
        },
        "id": "YzXu6kEXg0_P",
        "outputId": "93109abe-eb8d-45da-d11c-238ed397d970"
      },
      "execution_count": 34,
      "outputs": [
        {
          "output_type": "execute_result",
          "data": {
            "text/plain": [
              "(4760,)"
            ]
          },
          "metadata": {},
          "execution_count": 34
        }
      ]
    },
    {
      "cell_type": "code",
      "source": [
        "from sklearn.feature_extraction.text import TfidfVectorizer"
      ],
      "metadata": {
        "id": "7ZGIOiQ0hFym"
      },
      "execution_count": 35,
      "outputs": []
    },
    {
      "cell_type": "code",
      "source": [
        "tfidf= TfidfVectorizer()"
      ],
      "metadata": {
        "id": "xgUbgYWXhFt5"
      },
      "execution_count": 36,
      "outputs": []
    },
    {
      "cell_type": "code",
      "source": [
        "X = tfidf.fit_transform(x)"
      ],
      "metadata": {
        "id": "JK5nF0B-hnbW"
      },
      "execution_count": 39,
      "outputs": []
    },
    {
      "cell_type": "code",
      "source": [
        "x.shape"
      ],
      "metadata": {
        "colab": {
          "base_uri": "https://localhost:8080/"
        },
        "id": "geS9gsLthnUz",
        "outputId": "d1aeb00d-f1aa-42f2-f432-f15cd6e70f3a"
      },
      "execution_count": 40,
      "outputs": [
        {
          "output_type": "execute_result",
          "data": {
            "text/plain": [
              "(4760,)"
            ]
          },
          "metadata": {},
          "execution_count": 40
        }
      ]
    },
    {
      "cell_type": "code",
      "source": [
        "print(x)"
      ],
      "metadata": {
        "colab": {
          "base_uri": "https://localhost:8080/"
        },
        "id": "wEZ1VsL4hzJe",
        "outputId": "2c6930a5-7d9d-4967-86d6-8014c00b8359"
      },
      "execution_count": 33,
      "outputs": [
        {
          "output_type": "stream",
          "name": "stdout",
          "text": [
            "0       Crime Comedy hotel new year's eve witch bet ho...\n",
            "1       Adventure Action Science Fiction android galax...\n",
            "2       Animation Family father son relationship harbo...\n",
            "3       Comedy Drama Romance vietnam veteran hippie me...\n",
            "4       Drama male nudity female nudity adultery midli...\n",
            "                              ...                        \n",
            "4755    Horror  The hot spot where Satan's waitin'. Li...\n",
            "4756    Comedy Family Drama  It’s better to stand out ...\n",
            "4757    Thriller Drama christian film sex trafficking ...\n",
            "4758                                            Family   \n",
            "4759    Documentary music actors legendary perfomer cl...\n",
            "Length: 4760, dtype: object\n"
          ]
        }
      ]
    },
    {
      "cell_type": "code",
      "source": [
        "from sklearn.metrics.pairwise import cosine_similarity"
      ],
      "metadata": {
        "id": "7iQPN9HYh45z"
      },
      "execution_count": 41,
      "outputs": []
    },
    {
      "cell_type": "code",
      "source": [
        "Similarity_Score = cosine_similarity(X)"
      ],
      "metadata": {
        "id": "bEh4YUB9kLpN"
      },
      "execution_count": 42,
      "outputs": []
    },
    {
      "cell_type": "code",
      "source": [
        "Similarity_Score"
      ],
      "metadata": {
        "colab": {
          "base_uri": "https://localhost:8080/"
        },
        "id": "2IEIDHcikQo-",
        "outputId": "a4877d96-0500-479f-8b5c-744a11139669"
      },
      "execution_count": 43,
      "outputs": [
        {
          "output_type": "execute_result",
          "data": {
            "text/plain": [
              "array([[1.        , 0.01337921, 0.03525659, ..., 0.        , 0.        ,\n",
              "        0.        ],\n",
              "       [0.01337921, 1.        , 0.0079559 , ..., 0.        , 0.        ,\n",
              "        0.        ],\n",
              "       [0.03525659, 0.0079559 , 1.        , ..., 0.        , 0.07948776,\n",
              "        0.        ],\n",
              "       ...,\n",
              "       [0.        , 0.        , 0.        , ..., 1.        , 0.        ,\n",
              "        0.        ],\n",
              "       [0.        , 0.        , 0.07948776, ..., 0.        , 1.        ,\n",
              "        0.        ],\n",
              "       [0.        , 0.        , 0.        , ..., 0.        , 0.        ,\n",
              "        1.        ]])"
            ]
          },
          "metadata": {},
          "execution_count": 43
        }
      ]
    },
    {
      "cell_type": "code",
      "source": [
        "Similarity_Score.shape"
      ],
      "metadata": {
        "colab": {
          "base_uri": "https://localhost:8080/"
        },
        "id": "lVKKJsvOkTh1",
        "outputId": "b2472e7a-65ad-4a8b-da11-0ee2357bb4fc"
      },
      "execution_count": 44,
      "outputs": [
        {
          "output_type": "execute_result",
          "data": {
            "text/plain": [
              "(4760, 4760)"
            ]
          },
          "metadata": {},
          "execution_count": 44
        }
      ]
    },
    {
      "cell_type": "code",
      "source": [
        "Favourite_Movie_Name = input(' Enter your favourite movie name : ')"
      ],
      "metadata": {
        "colab": {
          "base_uri": "https://localhost:8080/"
        },
        "id": "ngVIQNlFkmUG",
        "outputId": "17290a8c-4a7e-4e04-9f94-edadc2bea86d"
      },
      "execution_count": 45,
      "outputs": [
        {
          "name": "stdout",
          "output_type": "stream",
          "text": [
            " Enter your favourite movie name : Spiderman\n"
          ]
        }
      ]
    },
    {
      "cell_type": "code",
      "source": [
        "All_Movies_Title_List = df['Movie_Title'].tolist()"
      ],
      "metadata": {
        "id": "nBu53brZkmMQ"
      },
      "execution_count": 46,
      "outputs": []
    },
    {
      "cell_type": "code",
      "source": [
        "import difflib"
      ],
      "metadata": {
        "id": "lumaIHagkmGv"
      },
      "execution_count": 47,
      "outputs": []
    },
    {
      "cell_type": "code",
      "source": [
        "Movie_Recommendation = difflib.get_close_matches(Favourite_Movie_Name, All_Movies_Title_List)\n",
        "print(Movie_Recommendation)"
      ],
      "metadata": {
        "colab": {
          "base_uri": "https://localhost:8080/"
        },
        "id": "qERxbgVslqpS",
        "outputId": "90d5e82d-4503-4124-e245-65537cc858a4"
      },
      "execution_count": 48,
      "outputs": [
        {
          "output_type": "stream",
          "name": "stdout",
          "text": [
            "['Spider-Man', 'Superman', 'Spider']\n"
          ]
        }
      ]
    },
    {
      "cell_type": "code",
      "source": [
        "Close_Match = Movie_Recommendation[0]\n",
        "print(Close_Match)"
      ],
      "metadata": {
        "colab": {
          "base_uri": "https://localhost:8080/"
        },
        "id": "PqBogrt4lqWq",
        "outputId": "a633a5e2-38cd-442f-f02f-a1b85e3593c8"
      },
      "execution_count": 49,
      "outputs": [
        {
          "output_type": "stream",
          "name": "stdout",
          "text": [
            "Spider-Man\n"
          ]
        }
      ]
    },
    {
      "cell_type": "code",
      "source": [
        "Index_of_Close_Match_Movie = df[df.Movie_Title == Close_Match] ['Movie_ID' ].values[0]\n",
        "print(Index_of_Close_Match_Movie)"
      ],
      "metadata": {
        "colab": {
          "base_uri": "https://localhost:8080/"
        },
        "id": "0yCR2wYOmkH1",
        "outputId": "039acbc9-9c9a-4002-950b-1005126c82bd"
      },
      "execution_count": 52,
      "outputs": [
        {
          "output_type": "stream",
          "name": "stdout",
          "text": [
            "231\n"
          ]
        }
      ]
    },
    {
      "cell_type": "code",
      "source": [
        "Close_Match = Movie_Recommendation[0]\n",
        "print(Close_Match)"
      ],
      "metadata": {
        "colab": {
          "base_uri": "https://localhost:8080/"
        },
        "id": "VTcf2kKtmjfC",
        "outputId": "b99b243e-4c46-49ad-a43b-d2c4b707edd3"
      },
      "execution_count": 53,
      "outputs": [
        {
          "output_type": "stream",
          "name": "stdout",
          "text": [
            "Spider-Man\n"
          ]
        }
      ]
    },
    {
      "cell_type": "code",
      "source": [
        "Index_of_Close_Match_Movie = df[df .Movie_Title == Close_Match] ['Movie_ID'].values[0]\n",
        "print(Index_of_Close_Match_Movie)"
      ],
      "metadata": {
        "colab": {
          "base_uri": "https://localhost:8080/"
        },
        "id": "ku8Hx7uWncL4",
        "outputId": "0019955d-d31c-41e9-ae4e-083327fc38d4"
      },
      "execution_count": 54,
      "outputs": [
        {
          "output_type": "stream",
          "name": "stdout",
          "text": [
            "231\n"
          ]
        }
      ]
    },
    {
      "cell_type": "code",
      "source": [
        "Recommendation_Score = list(enumerate(Similarity_Score[Index_of_Close_Match_Movie]))\n",
        "print(Recommendation_Score)"
      ],
      "metadata": {
        "colab": {
          "base_uri": "https://localhost:8080/"
        },
        "id": "-I-1E4CfoA5b",
        "outputId": "8d1c6e7d-8167-4ca0-c5b8-d2d1b8a99bcb"
      },
      "execution_count": 55,
      "outputs": [
        {
          "output_type": "stream",
          "name": "stdout",
          "text": [
            "[(0, 0.04706952822235737), (1, 0.021695203695340448), (2, 0.03763153542398535), (3, 0.013499714639565898), (4, 0.0), (5, 0.0), (6, 0.04876046635033492), (7, 0.0471230805618929), (8, 0.0), (9, 0.038164985205250496), (10, 0.0063087553040824295), (11, 0.0), (12, 0.0), (13, 0.0), (14, 0.0), (15, 0.08935375335994769), (16, 0.02135328755780463), (17, 0.026836159586605207), (18, 0.12423744990200891), (19, 0.030131535698853157), (20, 0.0), (21, 0.0), (22, 0.01539490334483834), (23, 0.012929225728968463), (24, 0.061041315605585574), (25, 0.051468753753289444), (26, 0.0), (27, 0.007906824308396508), (28, 0.011761679240390645), (29, 0.042188693328636506), (30, 0.0), (31, 0.012947010096808223), (32, 0.039005815524343554), (33, 0.012068107845806426), (34, 0.020679482799585397), (35, 0.049827706900921226), (36, 0.019243331262072408), (37, 0.012378663614066782), (38, 0.006677942896387731), (39, 0.013385109167532971), (40, 0.024011602121823197), (41, 0.04255626994180712), (42, 0.0), (43, 0.04186866015633944), (44, 0.030326701409280343), (45, 0.007164715648542761), (46, 0.01258622214404946), (47, 0.0), (48, 0.006434701249860905), (49, 0.0), (50, 0.0), (51, 0.013170929461472289), (52, 0.0), (53, 0.018206464881718704), (54, 0.0590162115568332), (55, 0.026227451123500133), (56, 0.04128640964317025), (57, 0.05373447961755934), (58, 0.016580442121274384), (59, 0.013677804181550339), (60, 0.036529665215816014), (61, 0.01139059594449684), (62, 0.04824540288787118), (63, 0.024701067072380845), (64, 0.0), (65, 0.02869663134803173), (66, 0.0), (67, 0.05308026926337697), (68, 0.03441888481376179), (69, 0.049179312055280436), (70, 0.01158273607529534), (71, 0.024483109167252073), (72, 0.02753528230670081), (73, 0.01864875410725629), (74, 0.0), (75, 0.028061573709458876), (76, 0.013456288752477917), (77, 0.0), (78, 0.04283592598791139), (79, 0.056126966750275724), (80, 0.025112366716011986), (81, 0.0), (82, 0.03321195307400031), (83, 0.015977723218447707), (84, 0.0056512012127164), (85, 0.14403866620446337), (86, 0.05125601913244452), (87, 0.03611719855844784), (88, 0.03871231693888756), (89, 0.02186811711427974), (90, 0.01318032856818245), (91, 0.006723394029888512), (92, 0.02638466626879944), (93, 0.013325583729889847), (94, 0.012752380057342506), (95, 0.01405684093214379), (96, 0.03172017924922786), (97, 0.0), (98, 0.0), (99, 0.0), (100, 0.021536249771519706), (101, 0.02316434660567749), (102, 0.01806235797754987), (103, 0.0), (104, 0.02776650290125629), (105, 0.039957664199018), (106, 0.023916203868203527), (107, 0.0), (108, 0.05447070401137871), (109, 0.04156782728466205), (110, 0.0), (111, 0.0), (112, 0.019964750439247676), (113, 0.03195997653023014), (114, 0.02661628452844267), (115, 0.0), (116, 0.023102804134282794), (117, 0.011629907382279453), (118, 0.04077129802731149), (119, 0.028088913966648504), (120, 0.0), (121, 0.03476217133613396), (122, 0.11072355164563022), (123, 0.035411180089149896), (124, 0.028377436156479176), (125, 0.08560513787326615), (126, 0.0), (127, 0.0), (128, 0.006391062605778704), (129, 0.022502940150860885), (130, 0.09563593738795169), (131, 0.015832772203495757), (132, 0.020697967963996595), (133, 0.0), (134, 0.0), (135, 0.00579673793667062), (136, 0.035901479129010844), (137, 0.02984607659609334), (138, 0.019289368575243215), (139, 0.0065647645662769896), (140, 0.0), (141, 0.024162637889443762), (142, 0.03778864291444249), (143, 0.018020465300031548), (144, 0.020075952191133797), (145, 0.0), (146, 0.0), (147, 0.013453727528012419), (148, 0.005284110677353883), (149, 0.0), (150, 0.02538033204966702), (151, 0.013783210063640418), (152, 0.02353961175991242), (153, 0.04463212595656091), (154, 0.0), (155, 0.0857106854605324), (156, 0.021511823000658535), (157, 0.026513345440360384), (158, 0.024644248132956313), (159, 0.017073176506688062), (160, 0.027513768218068946), (161, 0.039444638676168244), (162, 0.035764959614246514), (163, 0.01618083136772573), (164, 0.014965516697584587), (165, 0.011886371940005885), (166, 0.0), (167, 0.0247271483822184), (168, 0.020893522345034818), (169, 0.08729944713661174), (170, 0.00538184433142327), (171, 0.012757711525767025), (172, 0.03852408226705657), (173, 0.04397447473710846), (174, 0.015822692932123354), (175, 0.013207556967577614), (176, 0.0), (177, 0.023346077154971293), (178, 0.07290934753656815), (179, 0.018506267850963133), (180, 0.01863528224609176), (181, 0.10894335666640383), (182, 0.038181760497627115), (183, 0.014193047039130711), (184, 0.047543578795098164), (185, 0.021617553811498262), (186, 0.021255195799589198), (187, 0.0), (188, 0.011554145968346115), (189, 0.01379887165159269), (190, 0.0), (191, 0.02526549296907719), (192, 0.02687088528386627), (193, 0.059355688454805586), (194, 0.02891791282944188), (195, 0.0), (196, 0.0), (197, 0.014955460854605402), (198, 0.034247997237078665), (199, 0.04178586540156638), (200, 0.017422818726364885), (201, 0.013992049596638495), (202, 0.00715901210285239), (203, 0.0205270220511749), (204, 0.0682925935263665), (205, 0.0), (206, 0.02667078329776705), (207, 0.0), (208, 0.03124577434205679), (209, 0.016155510812443902), (210, 0.00631125028280511), (211, 0.012857928960614952), (212, 0.021772623721525212), (213, 0.0), (214, 0.0), (215, 0.0), (216, 0.028268459776453453), (217, 0.018805211481415007), (218, 0.10541833610810744), (219, 0.007853086979216894), (220, 0.006178209872638214), (221, 0.0), (222, 0.027367935372109166), (223, 0.016075624539271263), (224, 0.025756583704967643), (225, 0.026776597067586755), (226, 0.015082771888317267), (227, 0.013376273804823393), (228, 0.017638073628593903), (229, 0.07071858509236095), (230, 0.29590885567711284), (231, 1.0), (232, 0.4577976443839418), (233, 0.01904314450713787), (234, 0.011470813856323973), (235, 0.0), (236, 0.0), (237, 0.015002065746416623), (238, 0.03227139666957013), (239, 0.019385416886946852), (240, 0.010179066024308658), (241, 0.03581463493587528), (242, 0.02029848479660983), (243, 0.011085566516023136), (244, 0.005709346633580234), (245, 0.014041454367933377), (246, 0.0), (247, 0.04112727333265235), (248, 0.014533573735419872), (249, 0.0), (250, 0.0), (251, 0.022939187987257862), (252, 0.035265278517945385), (253, 0.016148553893909727), (254, 0.01506802634249536), (255, 0.0), (256, 0.0), (257, 0.016909099235890512), (258, 0.013663525374618912), (259, 0.005834575390128155), (260, 0.01316072784672853), (261, 0.013144719333346854), (262, 0.0), (263, 0.052957341683589385), (264, 0.04054257758478395), (265, 0.0), (266, 0.02483650813221948), (267, 0.0), (268, 0.0), (269, 0.08823134318745572), (270, 0.0), (271, 0.034602759318950224), (272, 0.0), (273, 0.03003444496248661), (274, 0.016977709327509968), (275, 0.0862247444210398), (276, 0.012793600997944708), (277, 0.05422733133612782), (278, 0.040244664618852725), (279, 0.033086625722342805), (280, 0.015577085637764252), (281, 0.0), (282, 0.01496145502389132), (283, 0.02588858755535118), (284, 0.04197172279638449), (285, 0.009677408794980576), (286, 0.01738027940013329), (287, 0.014818941439638033), (288, 0.041715483659793745), (289, 0.010987584613382345), (290, 0.011227284155323088), (291, 0.0), (292, 0.02820172273724767), (293, 0.0), (294, 0.010908783030981525), (295, 0.04431342053153714), (296, 0.027843007660716342), (297, 0.020387591441965107), (298, 0.05739074722404819), (299, 0.04504357123802988), (300, 0.03314906746076195), (301, 0.036134065419455866), (302, 0.011235988819283936), (303, 0.021247738715312277), (304, 0.0), (305, 0.01340654392060496), (306, 0.025334042116654444), (307, 0.05879663293616044), (308, 0.0), (309, 0.031795097913041054), (310, 0.012976078776897944), (311, 0.010047672511006205), (312, 0.0), (313, 0.01593191076393139), (314, 0.01139272619238721), (315, 0.04004899138554629), (316, 0.04340441488738879), (317, 0.03699458940860178), (318, 0.013881495428948735), (319, 0.013612556439482983), (320, 0.02840478531451461), (321, 0.027944677802342766), (322, 0.05482160925671293), (323, 0.03591321277023962), (324, 0.03662348548104055), (325, 0.024474897527214143), (326, 0.015076769790893937), (327, 0.04761354356332721), (328, 0.05500992093452852), (329, 0.02943620365533725), (330, 0.043599499568803914), (331, 0.0), (332, 0.035819655898285646), (333, 0.01483045092523632), (334, 0.048337550351958976), (335, 0.0), (336, 0.03578216353940173), (337, 0.05299688104074272), (338, 0.09119581864867422), (339, 0.06820424123853572), (340, 0.03697349789426253), (341, 0.016635465233782936), (342, 0.04450846285255556), (343, 0.06591533488595999), (344, 0.0), (345, 0.017682116370544884), (346, 0.02991944824983899), (347, 0.019693001202329634), (348, 0.0), (349, 0.0), (350, 0.03539909248463496), (351, 0.008257690283287772), (352, 0.027685420429253697), (353, 0.04742130868871686), (354, 0.03219449750819376), (355, 0.06840666515860067), (356, 0.07918281473327321), (357, 0.0), (358, 0.04382951841909831), (359, 0.05990146475865167), (360, 0.0), (361, 0.020409013978135108), (362, 0.03286059764125547), (363, 0.03739084295173069), (364, 0.0065721495851605), (365, 0.035755756861284196), (366, 0.0), (367, 0.0), (368, 0.009149435001889299), (369, 0.0), (370, 0.0), (371, 0.0), (372, 0.0), (373, 0.035453259316351224), (374, 0.043295699498755676), (375, 0.017583324388558405), (376, 0.011991201399707819), (377, 0.023380525016254386), (378, 0.0), (379, 0.012426549772345022), (380, 0.0), (381, 0.05670407611667688), (382, 0.023283919042746945), (383, 0.029363754449403097), (384, 0.0), (385, 0.12447014684847849), (386, 0.022400870238805992), (387, 0.0), (388, 0.0), (389, 0.0), (390, 0.027277281757070993), (391, 0.04052005981161001), (392, 0.028506921082048758), (393, 0.011806805732352939), (394, 0.0049289524285764195), (395, 0.012586520390299871), (396, 0.010549107893760823), (397, 0.012508754475247604), (398, 0.0), (399, 0.056850456384980604), (400, 0.019747580006856343), (401, 0.0306047888633776), (402, 0.018793637537427427), (403, 0.022426742683382756), (404, 0.036247254273925944), (405, 0.0), (406, 0.02831123281130448), (407, 0.04463378210598072), (408, 0.0), (409, 0.007016348897496107), (410, 0.026447044669208615), (411, 0.016255569659719596), (412, 0.01270152856491667), (413, 0.01640842163458848), (414, 0.02021773219303765), (415, 0.012391234892591746), (416, 0.0), (417, 0.012328184942133624), (418, 0.03322971654480184), (419, 0.00859000283757084), (420, 0.0), (421, 0.005922453293317751), (422, 0.0), (423, 0.0), (424, 0.015138210796833793), (425, 0.04543812089433374), (426, 0.03724525456115041), (427, 0.0), (428, 0.02101044050996087), (429, 0.0), (430, 0.023632314354998483), (431, 0.0), (432, 0.0), (433, 0.04739104372050362), (434, 0.036604574788166595), (435, 0.03283883135840236), (436, 0.0), (437, 0.03023035888718197), (438, 0.016344360127547215), (439, 0.0), (440, 0.01337782519521355), (441, 0.012952951195996489), (442, 0.06185436189908838), (443, 0.0), (444, 0.014900655666566735), (445, 0.013476316280961086), (446, 0.02883136506294917), (447, 0.0), (448, 0.028105244747920033), (449, 0.06501207193259995), (450, 0.0), (451, 0.01719267301163442), (452, 0.03390401848681587), (453, 0.0), (454, 0.011441044873778578), (455, 0.04673192336345886), (456, 0.025433742657335907), (457, 0.006985745703338667), (458, 0.006505323900228696), (459, 0.0), (460, 0.0), (461, 0.009075174459806826), (462, 0.0), (463, 0.014395448734900161), (464, 0.14106087471465967), (465, 0.038446994048440104), (466, 0.027919726729317713), (467, 0.02848559601102037), (468, 0.027215359495265854), (469, 0.011251246067987502), (470, 0.022737251283595557), (471, 0.011671082660727267), (472, 0.06662505573530063), (473, 0.0), (474, 0.0), (475, 0.0777979435714082), (476, 0.01518958575846614), (477, 0.045697432260739496), (478, 0.015677813570863373), (479, 0.0), (480, 0.03263340669676813), (481, 0.0), (482, 0.03061854107110913), (483, 0.012371728425912665), (484, 0.00766607581955164), (485, 0.015983783954675524), (486, 0.013000932500241934), (487, 0.06384704439221539), (488, 0.0), (489, 0.0), (490, 0.10896449632521055), (491, 0.07953683219265431), (492, 0.016473336216269497), (493, 0.025859217812043346), (494, 0.016724307103288066), (495, 0.01575241375529357), (496, 0.047318244486773395), (497, 0.01182232684578389), (498, 0.03614609018380008), (499, 0.014549257750922034), (500, 0.0057343710210589075), (501, 0.012166089918064806), (502, 0.0), (503, 0.0), (504, 0.020068191558321388), (505, 0.0), (506, 0.05664572680235283), (507, 0.0), (508, 0.04182779920250012), (509, 0.015242702563656675), (510, 0.0), (511, 0.028440587862144696), (512, 0.006821836515547947), (513, 0.006240121471008576), (514, 0.04623249675808611), (515, 0.0052730369720793415), (516, 0.006030583433632099), (517, 0.0271026528687988), (518, 0.0), (519, 0.03821116308941201), (520, 0.0), (521, 0.02920044797883057), (522, 0.03707112683586813), (523, 0.016137048757342), (524, 0.02156521331762029), (525, 0.08198916427188138), (526, 0.0), (527, 0.03585992234393702), (528, 0.04122544540081745), (529, 0.012409627792987342), (530, 0.059363933920550414), (531, 0.0), (532, 0.02832831261393494), (533, 0.021914477601545482), (534, 0.033041058413765256), (535, 0.0), (536, 0.0), (537, 0.07786300949043479), (538, 0.0789143461021958), (539, 0.013246646510714513), (540, 0.012684772456632416), (541, 0.0), (542, 0.049577088686315954), (543, 0.0), (544, 0.0), (545, 0.01617941472648899), (546, 0.018594345166292686), (547, 0.04804507717175162), (548, 0.03611302276328452), (549, 0.02210507731448863), (550, 0.02918462756244316), (551, 0.047777871807580245), (552, 0.0), (553, 0.05982736256465898), (554, 0.005675748483436314), (555, 0.05533877780408665), (556, 0.0), (557, 0.0), (558, 0.0), (559, 0.0), (560, 0.005852262330871574), (561, 0.02368266106436797), (562, 0.028757549875330576), (563, 0.012379343670903669), (564, 0.0), (565, 0.10303131656826475), (566, 0.0568229135301847), (567, 0.07807928208379397), (568, 0.04881830592482465), (569, 0.023059458581205564), (570, 0.033853280554621196), (571, 0.0), (572, 0.08260772410898849), (573, 0.0), (574, 0.0), (575, 0.0), (576, 0.0), (577, 0.012163082750689044), (578, 0.0), (579, 0.046818326980107135), (580, 0.0), (581, 0.0), (582, 0.06560395751367594), (583, 0.014099741584235178), (584, 0.04055522682536373), (585, 0.0), (586, 0.01974182169637452), (587, 0.0), (588, 0.0), (589, 0.011586652113305895), (590, 0.02326554600394869), (591, 0.01464045407553168), (592, 0.025323070590154893), (593, 0.0), (594, 0.11455212299305163), (595, 0.006246154339072185), (596, 0.0), (597, 0.02603784506929879), (598, 0.07614500860392556), (599, 0.022591098454188694), (600, 0.04556996495411289), (601, 0.011608092550939005), (602, 0.021111521155230524), (603, 0.014211823350960136), (604, 0.012320979621282716), (605, 0.020428285172622344), (606, 0.0), (607, 0.0), (608, 0.007029561665829254), (609, 0.043550084352105216), (610, 0.024645654739440144), (611, 0.0), (612, 0.015856385224267314), (613, 0.02474224379277697), (614, 0.035743714558641226), (615, 0.10995883361466337), (616, 0.035928808813877486), (617, 0.011729442962093033), (618, 0.0664605560465819), (619, 0.005803329026735845), (620, 0.04426183269865404), (621, 0.03306190043079684), (622, 0.05009177097517688), (623, 0.015721574285110874), (624, 0.0), (625, 0.0), (626, 0.0), (627, 0.010511233561694084), (628, 0.0), (629, 0.02299458317424795), (630, 0.049326139193101026), (631, 0.05005955034246827), (632, 0.00541451496273488), (633, 0.0), (634, 0.03294822129828275), (635, 0.044374142932781815), (636, 0.01275056415881169), (637, 0.026714438467887222), (638, 0.0), (639, 0.0210614256167951), (640, 0.021364716421427673), (641, 0.016747124122066408), (642, 0.0), (643, 0.014808372215299586), (644, 0.01729472241698948), (645, 0.0), (646, 0.0), (647, 0.009576559436840305), (648, 0.07921748094369298), (649, 0.011802539615169116), (650, 0.007222589597799652), (651, 0.020823099595553715), (652, 0.0), (653, 0.005151399240941169), (654, 0.006118986074813679), (655, 0.0), (656, 0.020467246833642205), (657, 0.04302290977665302), (658, 0.0), (659, 0.0), (660, 0.025702570624784163), (661, 0.02016176467426761), (662, 0.011446359616191412), (663, 0.03816646753210946), (664, 0.03305911422646077), (665, 0.01242959889648853), (666, 0.09072647753592816), (667, 0.0), (668, 0.013376044946946932), (669, 0.01958211872463326), (670, 0.04108384699427936), (671, 0.036189783006900976), (672, 0.021555511028375), (673, 0.006334433289771957), (674, 0.025340586507711923), (675, 0.0), (676, 0.013303088278563517), (677, 0.008396486442356502), (678, 0.0), (679, 0.0), (680, 0.0), (681, 0.04599406978566008), (682, 0.006411017915135931), (683, 0.02158308749273222), (684, 0.02662327564443496), (685, 0.0), (686, 0.00835107210801613), (687, 0.013067218550560762), (688, 0.0065019713250606655), (689, 0.015280820654837612), (690, 0.005415945098286148), (691, 0.02139109606387198), (692, 0.03785518896729111), (693, 0.01232051986021738), (694, 0.0), (695, 0.0), (696, 0.0), (697, 0.06880659161090726), (698, 0.03471670289852146), (699, 0.03471652912410095), (700, 0.03433654369194638), (701, 0.015476827197322057), (702, 0.012521222633882757), (703, 0.0105790586640984), (704, 0.0), (705, 0.04589141553734611), (706, 0.0813801295891141), (707, 0.029328025326391775), (708, 0.0), (709, 0.0492191376902308), (710, 0.042966503941439575), (711, 0.0), (712, 0.010331230305858571), (713, 0.025925257900756622), (714, 0.038705353413325996), (715, 0.08669902589222556), (716, 0.014130176898776287), (717, 0.02544874623897042), (718, 0.0), (719, 0.017295666936690553), (720, 0.018696953959222374), (721, 0.0), (722, 0.0), (723, 0.004926408122094976), (724, 0.01932763465545811), (725, 0.0538303762877621), (726, 0.01613020515996149), (727, 0.032082449164473885), (728, 0.006209578911422493), (729, 0.006446694496226022), (730, 0.025292047541201977), (731, 0.0), (732, 0.023172729643641084), (733, 0.0), (734, 0.014546951983937677), (735, 0.0), (736, 0.011621062030668039), (737, 0.06396708227093645), (738, 0.01607457870833019), (739, 0.0), (740, 0.0), (741, 0.01179073192549579), (742, 0.0409525671665057), (743, 0.0), (744, 0.025178627735788918), (745, 0.030962211644181344), (746, 0.0), (747, 0.0), (748, 0.0368701691091125), (749, 0.005777392466255991), (750, 0.0334215195186166), (751, 0.023057111431719755), (752, 0.043442131284195766), (753, 0.00673633376998633), (754, 0.0), (755, 0.01460604061648941), (756, 0.05305583476997691), (757, 0.02456994156192701), (758, 0.0352294674074386), (759, 0.02680745148079461), (760, 0.014953043703198162), (761, 0.0), (762, 0.053366763204553525), (763, 0.06306984599244328), (764, 0.0), (765, 0.044174545558125), (766, 0.01438173956080283), (767, 0.0), (768, 0.0), (769, 0.026130410062431712), (770, 0.010916085798347169), (771, 0.0), (772, 0.023648666131446998), (773, 0.01324074586340002), (774, 0.05616837998193587), (775, 0.03852771795697693), (776, 0.013729930969015234), (777, 0.0), (778, 0.03663813463584338), (779, 0.03283110202029463), (780, 0.05053941676760437), (781, 0.012449104693129076), (782, 0.01488881672497767), (783, 0.0), (784, 0.0), (785, 0.0), (786, 0.0), (787, 0.018091838283673486), (788, 0.04130968164493693), (789, 0.0), (790, 0.01038241076958942), (791, 0.0), (792, 0.011353500839989974), (793, 0.02765914373534558), (794, 0.0602404061136436), (795, 0.006771675782515888), (796, 0.0), (797, 0.0), (798, 0.0), (799, 0.0), (800, 0.018860698140368528), (801, 0.0), (802, 0.0), (803, 0.00524241686680602), (804, 0.01485050737745354), (805, 0.0), (806, 0.013814362036566932), (807, 0.019942414070091147), (808, 0.04031388041959531), (809, 0.02156047817509167), (810, 0.01154204569504967), (811, 0.01257172769058059), (812, 0.059922776970202915), (813, 0.0), (814, 0.05996280616834288), (815, 0.0), (816, 0.0), (817, 0.015570455930537012), (818, 0.01892866937091542), (819, 0.030026782710519027), (820, 0.0), (821, 0.039417046051918724), (822, 0.03734517085356575), (823, 0.017457720832167224), (824, 0.03061607791249571), (825, 0.005671568070762398), (826, 0.029200912819817525), (827, 0.005486030602410921), (828, 0.0), (829, 0.009832369438970687), (830, 0.0), (831, 0.0), (832, 0.01266875111920326), (833, 0.039005631948163394), (834, 0.04121699188172544), (835, 0.03938004951448756), (836, 0.010237472060883721), (837, 0.01060073370903648), (838, 0.06618691551963224), (839, 0.011965182800043616), (840, 0.014163770741263544), (841, 0.031878480764694204), (842, 0.024160097267195646), (843, 0.044717160362854544), (844, 0.016465116027674576), (845, 0.006134030885283625), (846, 0.033948342484121784), (847, 0.017556555440931616), (848, 0.006018748754166585), (849, 0.025249879845367224), (850, 0.1090828948434505), (851, 0.015572561673735252), (852, 0.007269954741206962), (853, 0.01187542065838343), (854, 0.005565321242241623), (855, 0.0), (856, 0.017338547504402384), (857, 0.0), (858, 0.0), (859, 0.024007993390850836), (860, 0.0), (861, 0.03034827575326774), (862, 0.0), (863, 0.0), (864, 0.015516953762162413), (865, 0.015428343211058005), (866, 0.005501234220192687), (867, 0.04541343741798032), (868, 0.03073574927223409), (869, 0.006005070634477928), (870, 0.02969925603115387), (871, 0.041547460555856036), (872, 0.014571857406844694), (873, 0.0), (874, 0.04238762004692057), (875, 0.043347789261633206), (876, 0.0), (877, 0.0), (878, 0.01824429621291574), (879, 0.0), (880, 0.046970889239094885), (881, 0.008456516902506747), (882, 0.03562640032911422), (883, 0.03675153690591913), (884, 0.0), (885, 0.0), (886, 0.0), (887, 0.012689562316772835), (888, 0.0), (889, 0.0), (890, 0.014204174257811874), (891, 0.017946622126411627), (892, 0.04118422922355815), (893, 0.0), (894, 0.019945531459908492), (895, 0.05202580100576992), (896, 0.0), (897, 0.0307567928116395), (898, 0.0), (899, 0.039708340512096596), (900, 0.02674525716829393), (901, 0.0), (902, 0.049226937471978656), (903, 0.00805501404794976), (904, 0.007008695704974281), (905, 0.00666666426621277), (906, 0.06855645575960069), (907, 0.0), (908, 0.006058649762108134), (909, 0.01964686145340773), (910, 0.0), (911, 0.02597544682387405), (912, 0.020021121924400354), (913, 0.0062639636328415986), (914, 0.05802864208520432), (915, 0.026030315813720187), (916, 0.03281789013896809), (917, 0.030080016189259387), (918, 0.04333026255300354), (919, 0.04318120568258837), (920, 0.007056642890998252), (921, 0.06328031197728543), (922, 0.029979182509783382), (923, 0.04805992997434053), (924, 0.048922952296335226), (925, 0.0), (926, 0.006000528404619517), (927, 0.0), (928, 0.04909094801809101), (929, 0.023538401614597082), (930, 0.0), (931, 0.05843020405985426), (932, 0.0), (933, 0.0), (934, 0.04032434687388778), (935, 0.007204378483022241), (936, 0.054944476593895106), (937, 0.0), (938, 0.01469327156169338), (939, 0.012776950303342834), (940, 0.01914344847529746), (941, 0.0), (942, 0.0), (943, 0.0), (944, 0.02648166546441041), (945, 0.024609771067632), (946, 0.024339547599469928), (947, 0.0082402180416789), (948, 0.04003615164350986), (949, 0.03524418802079485), (950, 0.014495599381830891), (951, 0.016519439843259705), (952, 0.050226735826153), (953, 0.009376107099076691), (954, 0.022667738502292006), (955, 0.0), (956, 0.014420185561098964), (957, 0.08995402679593668), (958, 0.05110815935947967), (959, 0.0), (960, 0.0), (961, 0.011831503090625518), (962, 0.025053268110713962), (963, 0.03418248939252706), (964, 0.0), (965, 0.013342016545336044), (966, 0.03948741856249317), (967, 0.0), (968, 0.039928368675750794), (969, 0.020330634205089584), (970, 0.041485326198961704), (971, 0.026851212920633895), (972, 0.020817284148532303), (973, 0.012333467816742874), (974, 0.0055068858535935305), (975, 0.02336653691991582), (976, 0.0), (977, 0.03745747758195346), (978, 0.0), (979, 0.013734832446562954), (980, 0.01994996437864573), (981, 0.014888232714398056), (982, 0.0), (983, 0.012568852017897989), (984, 0.014234743827359082), (985, 0.0), (986, 0.006060093339508518), (987, 0.0), (988, 0.01346808984507177), (989, 0.019314150084133886), (990, 0.05021341191819553), (991, 0.012597062425875513), (992, 0.04210187269125193), (993, 0.0), (994, 0.04628590357168065), (995, 0.04581940136048101), (996, 0.008279249810361971), (997, 0.014959358267564367), (998, 0.02803153121813914), (999, 0.03053915310022853), (1000, 0.01506813107395505), (1001, 0.01284062447974408), (1002, 0.0), (1003, 0.0), (1004, 0.03525100828312069), (1005, 0.016526296175411757), (1006, 0.031985038282856475), (1007, 0.02219829593447661), (1008, 0.00927364105523945), (1009, 0.14279799314837663), (1010, 0.00501125888855334), (1011, 0.02371267448926964), (1012, 0.029024189895564913), (1013, 0.008246858192839853), (1014, 0.025198166451584188), (1015, 0.022973050789272816), (1016, 0.0672859313870858), (1017, 0.020908411970813248), (1018, 0.013402852543392949), (1019, 0.015180374255621527), (1020, 0.015405072298200886), (1021, 0.02844207540455724), (1022, 0.018398472767161327), (1023, 0.038886021188978645), (1024, 0.00602088939828764), (1025, 0.012190305699030209), (1026, 0.04788047796219986), (1027, 0.0), (1028, 0.0), (1029, 0.010075229261093218), (1030, 0.0), (1031, 0.006113719740988077), (1032, 0.0), (1033, 0.05587552199455319), (1034, 0.0), (1035, 0.005701759396462892), (1036, 0.0), (1037, 0.012827311273100023), (1038, 0.040387355803844935), (1039, 0.0), (1040, 0.010537329465460633), (1041, 0.01413115694229436), (1042, 0.025691911308167267), (1043, 0.045574306117340035), (1044, 0.005563403010587562), (1045, 0.060568472345833), (1046, 0.04335778275970895), (1047, 0.0), (1048, 0.03171749359530346), (1049, 0.0), (1050, 0.00664379274533485), (1051, 0.023714231710543043), (1052, 0.0), (1053, 0.0), (1054, 0.005451206956589299), (1055, 0.010675709220158737), (1056, 0.006152841316141985), (1057, 0.03698032171685905), (1058, 0.0), (1059, 0.0), (1060, 0.0), (1061, 0.013352454461322319), (1062, 0.0), (1063, 0.012921018292565648), (1064, 0.0), (1065, 0.005414459850508292), (1066, 0.0054735628611991835), (1067, 0.018264532552002777), (1068, 0.027234423675744204), (1069, 0.0393065768628877), (1070, 0.0), (1071, 0.0), (1072, 0.0), (1073, 0.0), (1074, 0.09917206215271071), (1075, 0.015955056118588353), (1076, 0.005521262838165681), (1077, 0.015545884635756128), (1078, 0.0), (1079, 0.007021334929236572), (1080, 0.0), (1081, 0.02543603121138279), (1082, 0.005574025439871936), (1083, 0.0), (1084, 0.012064115550421426), (1085, 0.007870341363052598), (1086, 0.0), (1087, 0.02311745691278834), (1088, 0.0), (1089, 0.01484957541614346), (1090, 0.0971567321083636), (1091, 0.014591705867258054), (1092, 0.004901855595968297), (1093, 0.018112649485542396), (1094, 0.06794657883629315), (1095, 0.013751491860017995), (1096, 0.03278632503530787), (1097, 0.0), (1098, 0.0), (1099, 0.03104744740417849), (1100, 0.010574261075070708), (1101, 0.0), (1102, 0.005815979639708921), (1103, 0.0), (1104, 0.0), (1105, 0.0137425538712512), (1106, 0.0), (1107, 0.0), (1108, 0.013723336668145101), (1109, 0.015386825062794965), (1110, 0.0), (1111, 0.1003844031443138), (1112, 0.0), (1113, 0.013128927627307477), (1114, 0.08479451430373076), (1115, 0.03650639535806989), (1116, 0.016506257720992203), (1117, 0.026370072701100068), (1118, 0.04514304962614335), (1119, 0.0), (1120, 0.0), (1121, 0.01847884623899576), (1122, 0.005950337670167153), (1123, 0.024186579611555903), (1124, 0.029052343590146697), (1125, 0.0), (1126, 0.020107162741495835), (1127, 0.005859026458975051), (1128, 0.015281587389569634), (1129, 0.06177419778719387), (1130, 0.010474420125799962), (1131, 0.0), (1132, 0.0186953706577436), (1133, 0.01060686067407887), (1134, 0.05994054938495233), (1135, 0.025803822993431008), (1136, 0.013725687311518178), (1137, 0.02103291494759949), (1138, 0.005889799165770388), (1139, 0.0), (1140, 0.0), (1141, 0.02304947754244616), (1142, 0.012352424801015362), (1143, 0.013324890814105404), (1144, 0.012499504320062074), (1145, 0.0), (1146, 0.015129221315743227), (1147, 0.0), (1148, 0.01578407681462411), (1149, 0.011377224984563622), (1150, 0.026950248465987557), (1151, 0.01340164463630832), (1152, 0.0), (1153, 0.004209473391713123), (1154, 0.005229509294221283), (1155, 0.03599440673600653), (1156, 0.0), (1157, 0.10218572047247546), (1158, 0.0), (1159, 0.0), (1160, 0.0), (1161, 0.0), (1162, 0.05614620550515631), (1163, 0.0), (1164, 0.004742628488000694), (1165, 0.03364981123615636), (1166, 0.012503688349799069), (1167, 0.0), (1168, 0.0), (1169, 0.0), (1170, 0.0), (1171, 0.0414329124729636), (1172, 0.11175415915434248), (1173, 0.025956061758602926), (1174, 0.005905253670263196), (1175, 0.03205888486815537), (1176, 0.011786464581156968), (1177, 0.0), (1178, 0.029051353265529704), (1179, 0.013424213158009417), (1180, 0.018597402850016428), (1181, 0.0), (1182, 0.016067625850554972), (1183, 0.005460582666457073), (1184, 0.0), (1185, 0.01416556474725046), (1186, 0.0), (1187, 0.0), (1188, 0.0), (1189, 0.0), (1190, 0.011290136445132012), (1191, 0.0), (1192, 0.03195701677560826), (1193, 0.0), (1194, 0.020197932220509474), (1195, 0.04730987584300776), (1196, 0.01135560257620375), (1197, 0.0), (1198, 0.04671862564853159), (1199, 0.03471735787975144), (1200, 0.0116009451866762), (1201, 0.0), (1202, 0.0), (1203, 0.0), (1204, 0.0), (1205, 0.0), (1206, 0.02909949681963498), (1207, 0.03171664438268582), (1208, 0.015544559526057978), (1209, 0.011478047528490114), (1210, 0.00997217692036108), (1211, 0.013085328956714751), (1212, 0.024274985010817315), (1213, 0.009453992901377132), (1214, 0.048596805001808005), (1215, 0.04509130804269951), (1216, 0.0328960979768897), (1217, 0.0), (1218, 0.010892643159124821), (1219, 0.01914139804209569), (1220, 0.013848827343086676), (1221, 0.006405261290274559), (1222, 0.016492486848906054), (1223, 0.011708140358262), (1224, 0.0), (1225, 0.014287679375817357), (1226, 0.02098672255206779), (1227, 0.013305952353017562), (1228, 0.022721570740782987), (1229, 0.035479806487801635), (1230, 0.005667483298444058), (1231, 0.007339465602870975), (1232, 0.0), (1233, 0.0), (1234, 0.020990333005196492), (1235, 0.013019163816939888), (1236, 0.024355716180984577), (1237, 0.03947003796266847), (1238, 0.04312725899460447), (1239, 0.030867350175849118), (1240, 0.028376919551372788), (1241, 0.004913880937733506), (1242, 0.03449069221983166), (1243, 0.0), (1244, 0.027655153665005833), (1245, 0.036538004054729914), (1246, 0.01287205582050954), (1247, 0.013144468331896964), (1248, 0.010475169531976001), (1249, 0.05971242775918437), (1250, 0.0278414549455354), (1251, 0.0), (1252, 0.005838163936516028), (1253, 0.027339274156355876), (1254, 0.08009174620329859), (1255, 0.014763412075325954), (1256, 0.023878755972358445), (1257, 0.036839514563893845), (1258, 0.030030004500545292), (1259, 0.025346798434325524), (1260, 0.0), (1261, 0.011301200261495434), (1262, 0.028818076084232515), (1263, 0.051779451033752144), (1264, 0.0), (1265, 0.10003742453995451), (1266, 0.03829043871000608), (1267, 0.025018048488248033), (1268, 0.02041982482015744), (1269, 0.056128121256179414), (1270, 0.03109668112952734), (1271, 0.0), (1272, 0.007513142606162016), (1273, 0.048101706882187935), (1274, 0.0055798249618601746), (1275, 0.015714627040493586), (1276, 0.004342510522417884), (1277, 0.008177011668056082), (1278, 0.07305766168916128), (1279, 0.11850157033160125), (1280, 0.014596261541128759), (1281, 0.005317987009363019), (1282, 0.0), (1283, 0.034349768614630384), (1284, 0.0), (1285, 0.03127043571659), (1286, 0.0), (1287, 0.007500400075840733), (1288, 0.007012161076275395), (1289, 0.0), (1290, 0.005116417894887641), (1291, 0.02290984120825727), (1292, 0.08881321417019963), (1293, 0.04277368399540602), (1294, 0.0), (1295, 0.023930443333500168), (1296, 0.036662828502164076), (1297, 0.0), (1298, 0.0), (1299, 0.015336587052148559), (1300, 0.0), (1301, 0.011639937026805583), (1302, 0.021418883915126037), (1303, 0.0), (1304, 0.0), (1305, 0.049041178733919166), (1306, 0.011389549427522091), (1307, 0.021727601762302606), (1308, 0.04445975696181084), (1309, 0.011590528041041838), (1310, 0.05033024099323696), (1311, 0.0), (1312, 0.0134981434394881), (1313, 0.0), (1314, 0.03892058622054964), (1315, 0.012959667894630801), (1316, 0.03612457463079934), (1317, 0.01273033051615267), (1318, 0.0), (1319, 0.0), (1320, 0.013979243806132196), (1321, 0.04656114340802518), (1322, 0.015291989501400009), (1323, 0.0), (1324, 0.014336300942350146), (1325, 0.0), (1326, 0.03123347401536599), (1327, 0.02180986841411312), (1328, 0.014137860142080818), (1329, 0.04275145829894345), (1330, 0.0), (1331, 0.0), (1332, 0.03345848915212901), (1333, 0.00815120237205903), (1334, 0.030773706954051065), (1335, 0.005842017103278943), (1336, 0.024237824916430707), (1337, 0.005822015334215458), (1338, 0.005708742543064894), (1339, 0.0), (1340, 0.0), (1341, 0.0669661999730064), (1342, 0.0), (1343, 0.0), (1344, 0.008778579728844773), (1345, 0.03523497813489133), (1346, 0.11360613624962285), (1347, 0.0), (1348, 0.00508216090788842), (1349, 0.0), (1350, 0.014129769504518726), (1351, 0.007985192251247619), (1352, 0.01169479746045738), (1353, 0.0), (1354, 0.012399841683870165), (1355, 0.014039204435413163), (1356, 0.02820619269138268), (1357, 0.029124046254315028), (1358, 0.013269790041954397), (1359, 0.016471968733846636), (1360, 0.0), (1361, 0.0), (1362, 0.009310492536550334), (1363, 0.08614436416161834), (1364, 0.01438391947614651), (1365, 0.04309042564938065), (1366, 0.040009018301849504), (1367, 0.038668186528689405), (1368, 0.03462795185120677), (1369, 0.03968746143919218), (1370, 0.009995236164264027), (1371, 0.0), (1372, 0.01845849208378538), (1373, 0.019043112765852275), (1374, 0.07891057914820776), (1375, 0.0), (1376, 0.029331723597130797), (1377, 0.01734488700236198), (1378, 0.011698445652804956), (1379, 0.02520228958608299), (1380, 0.014143146182790445), (1381, 0.015422119834193927), (1382, 0.112967606358107), (1383, 0.03747606703117734), (1384, 0.0052854607019539954), (1385, 0.041325455394811896), (1386, 0.09393897599814674), (1387, 0.011983350763810602), (1388, 0.007880528384288652), (1389, 0.00801158731084462), (1390, 0.03079888321271175), (1391, 0.0), (1392, 0.019675325376395766), (1393, 0.01704524678980877), (1394, 0.0), (1395, 0.0), (1396, 0.030029266071024074), (1397, 0.03601100076044831), (1398, 0.07446494755200835), (1399, 0.0), (1400, 0.012087988432243077), (1401, 0.1289874296541704), (1402, 0.020807637168909165), (1403, 0.060623233843331126), (1404, 0.010242327409670566), (1405, 0.010199378684955344), (1406, 0.005702522140923825), (1407, 0.016288144880341637), (1408, 0.02932114810310086), (1409, 0.02515145316266875), (1410, 0.013835681393143472), (1411, 0.011068249685292143), (1412, 0.08926945190154349), (1413, 0.02207399865937064), (1414, 0.010286005810456854), (1415, 0.0), (1416, 0.019256665477268797), (1417, 0.016778899317793257), (1418, 0.04331005010582538), (1419, 0.016652677826256408), (1420, 0.027070750988185906), (1421, 0.0), (1422, 0.0), (1423, 0.03617465893976457), (1424, 0.0), (1425, 0.015602904405926961), (1426, 0.042022065103532444), (1427, 0.0), (1428, 0.018659719735750792), (1429, 0.0), (1430, 0.012497941008559253), (1431, 0.010839253198459204), (1432, 0.006026232424988771), (1433, 0.02832143313456085), (1434, 0.0), (1435, 0.0), (1436, 0.014111095242250769), (1437, 0.015278807289738815), (1438, 0.012300373382449922), (1439, 0.0), (1440, 0.027614774122035245), (1441, 0.0), (1442, 0.01954553789903493), (1443, 0.052293216695933356), (1444, 0.0), (1445, 0.03968916650994388), (1446, 0.014879187433917222), (1447, 0.013513796867636103), (1448, 0.0), (1449, 0.0), (1450, 0.0), (1451, 0.010267249285333192), (1452, 0.0), (1453, 0.012560914175100432), (1454, 0.03560588876986707), (1455, 0.020792378672519887), (1456, 0.024951528549274713), (1457, 0.0), (1458, 0.031807158730951815), (1459, 0.013658579354514977), (1460, 0.07184063335133163), (1461, 0.015453607335194793), (1462, 0.0), (1463, 0.0), (1464, 0.05612115575215304), (1465, 0.043948165120641675), (1466, 0.02908535535690783), (1467, 0.04104575254215928), (1468, 0.022764893473254028), (1469, 0.005915215845442901), (1470, 0.05601775673156548), (1471, 0.027484114591523376), (1472, 0.0), (1473, 0.0), (1474, 0.008504100268026067), (1475, 0.06631259411804236), (1476, 0.014997177255487297), (1477, 0.032255393200315216), (1478, 0.018705500955619653), (1479, 0.014842884926298365), (1480, 0.0), (1481, 0.0), (1482, 0.0), (1483, 0.005868966458327585), (1484, 0.006134591271502807), (1485, 0.0), (1486, 0.023334247244465648), (1487, 0.0), (1488, 0.019676430853959006), (1489, 0.0), (1490, 0.007368080502487578), (1491, 0.0), (1492, 0.01349534234925334), (1493, 0.05735887589346918), (1494, 0.1459696706749464), (1495, 0.044511139803730795), (1496, 0.03315112271383229), (1497, 0.01724349201920748), (1498, 0.0), (1499, 0.0), (1500, 0.015025166714817321), (1501, 0.02888137122402354), (1502, 0.04039673262546077), (1503, 0.029455131014365935), (1504, 0.005801757209621837), (1505, 0.015596559245273056), (1506, 0.010641043822514518), (1507, 0.012370418345837228), (1508, 0.013483505725048714), (1509, 0.01986330896739279), (1510, 0.06246290135739169), (1511, 0.01903779342833161), (1512, 0.048280417547636637), (1513, 0.006218370112911053), (1514, 0.021859466334719007), (1515, 0.04119567569363829), (1516, 0.006019417947984745), (1517, 0.060979815986828764), (1518, 0.0), (1519, 0.014685993283265133), (1520, 0.021148511099250294), (1521, 0.0066724706188022505), (1522, 0.039433626266112146), (1523, 0.011581500658010313), (1524, 0.039658020343889266), (1525, 0.03737946785216522), (1526, 0.015296251408853847), (1527, 0.005717925697207386), (1528, 0.0), (1529, 0.03477662382201291), (1530, 0.01114378145375768), (1531, 0.014456233056175646), (1532, 0.0), (1533, 0.011736217302088655), (1534, 0.0), (1535, 0.004895474957403209), (1536, 0.005997684334619626), (1537, 0.006219729381873364), (1538, 0.04911170399834773), (1539, 0.03407075399128345), (1540, 0.006750675150221387), (1541, 0.0), (1542, 0.0), (1543, 0.012413892697992854), (1544, 0.005609329861046469), (1545, 0.005563505188515151), (1546, 0.0051137101874465405), (1547, 0.01595708843398384), (1548, 0.007369933065198115), (1549, 0.10344561272906001), (1550, 0.012095433089600769), (1551, 0.015205598967874987), (1552, 0.042029223657882114), (1553, 0.013489895316271145), (1554, 0.014577960972132256), (1555, 0.01270992666404928), (1556, 0.0), (1557, 0.0), (1558, 0.025330984277902514), (1559, 0.009236112384295805), (1560, 0.006520728175457227), (1561, 0.010423230451649394), (1562, 0.0), (1563, 0.011672567714022801), (1564, 0.01723786245097203), (1565, 0.010603090086801678), (1566, 0.013394576267268442), (1567, 0.0368312789559658), (1568, 0.0), (1569, 0.02000576914874044), (1570, 0.01399248985541225), (1571, 0.012955094590598652), (1572, 0.031337003332842034), (1573, 0.0), (1574, 0.010784253394215354), (1575, 0.016221035934350488), (1576, 0.031156302532584564), (1577, 0.027288470149609317), (1578, 0.012150012991160647), (1579, 0.1276919278847865), (1580, 0.06825799974133777), (1581, 0.014555085178682694), (1582, 0.0), (1583, 0.01697271452198209), (1584, 0.009825376774336456), (1585, 0.027816938720096253), (1586, 0.008827674629685683), (1587, 0.013684191612935066), (1588, 0.0), (1589, 0.02666797791012272), (1590, 0.0), (1591, 0.006587461335778234), (1592, 0.0326961215910506), (1593, 0.0), (1594, 0.0), (1595, 0.0), (1596, 0.0), (1597, 0.01305953402783772), (1598, 0.0076795972155669955), (1599, 0.06669479474182571), (1600, 0.043010216582038796), (1601, 0.016981109252347547), (1602, 0.0), (1603, 0.1382906013241624), (1604, 0.0381014392050399), (1605, 0.0), (1606, 0.011590515229168357), (1607, 0.007425481232200285), (1608, 0.0), (1609, 0.014615921717433167), (1610, 0.011065574358226951), (1611, 0.01357536899518883), (1612, 0.04013459204857911), (1613, 0.011895133693818796), (1614, 0.0), (1615, 0.022259433609408193), (1616, 0.06758700931299279), (1617, 0.019348661647711086), (1618, 0.0), (1619, 0.0165470008716615), (1620, 0.0), (1621, 0.04672606950311248), (1622, 0.0), (1623, 0.0), (1624, 0.0), (1625, 0.0), (1626, 0.0), (1627, 0.015118992865827671), (1628, 0.0), (1629, 0.029976288179348977), (1630, 0.0), (1631, 0.0), (1632, 0.010430987651389683), (1633, 0.011031197881161671), (1634, 0.0), (1635, 0.0), (1636, 0.0), (1637, 0.0), (1638, 0.0), (1639, 0.0), (1640, 0.024703847106795747), (1641, 0.0), (1642, 0.0), (1643, 0.0), (1644, 0.028946376727281266), (1645, 0.013123590941835593), (1646, 0.008674609139471864), (1647, 0.014473112670270035), (1648, 0.05177969715395879), (1649, 0.08498313642144169), (1650, 0.040786461312722525), (1651, 0.010637860467946505), (1652, 0.020054434599421425), (1653, 0.0058172828300723355), (1654, 0.0807149632033059), (1655, 0.06917068731819469), (1656, 0.0), (1657, 0.005435554664925109), (1658, 0.017393094301031056), (1659, 0.006116778217351314), (1660, 0.0), (1661, 0.0), (1662, 0.037420220830588165), (1663, 0.0), (1664, 0.032912919952178744), (1665, 0.005466787153661209), (1666, 0.04679909199913935), (1667, 0.0), (1668, 0.0), (1669, 0.031480814752241265), (1670, 0.0), (1671, 0.0), (1672, 0.0), (1673, 0.0), (1674, 0.0), (1675, 0.035408973179915225), (1676, 0.0), (1677, 0.03787551220615535), (1678, 0.0463873348426717), (1679, 0.011856590463546658), (1680, 0.023711598938469032), (1681, 0.006362546430425508), (1682, 0.04924657385489167), (1683, 0.012421940878125712), (1684, 0.024134891215542145), (1685, 0.01645985943656225), (1686, 0.03186262530656384), (1687, 0.00612701858424108), (1688, 0.04684216506305089), (1689, 0.03419507152652379), (1690, 0.07399042760751695), (1691, 0.0), (1692, 0.03591262641895312), (1693, 0.011647508032710457), (1694, 0.0), (1695, 0.012509218774524466), (1696, 0.03520714942807789), (1697, 0.027678456130667575), (1698, 0.07028076994417734), (1699, 0.0), (1700, 0.027690308772078356), (1701, 0.03114107963273744), (1702, 0.0), (1703, 0.015345154277236114), (1704, 0.0), (1705, 0.014575146195609638), (1706, 0.03515702455558246), (1707, 0.05434731371655922), (1708, 0.023081198892137687), (1709, 0.06155751095269498), (1710, 0.01461033466895159), (1711, 0.0), (1712, 0.017210679833904237), (1713, 0.034268837428766755), (1714, 0.08103986207501583), (1715, 0.014149227687040975), (1716, 0.0), (1717, 0.015201288005348671), (1718, 0.06203429147875161), (1719, 0.0), (1720, 0.0), (1721, 0.03566000093140066), (1722, 0.025130047359914733), (1723, 0.04320145250155739), (1724, 0.014663534457886504), (1725, 0.008448115587180545), (1726, 0.011957606457325411), (1727, 0.006167771548144264), (1728, 0.0045256796662706995), (1729, 0.030919201289852895), (1730, 0.014144226109759264), (1731, 0.008259564552913596), (1732, 0.018636163634438), (1733, 0.0), (1734, 0.006102458069337175), (1735, 0.00623433327269385), (1736, 0.006147409170888078), (1737, 0.016469041030887217), (1738, 0.007197979924119672), (1739, 0.0), (1740, 0.005925481385640516), (1741, 0.0), (1742, 0.0), (1743, 0.09820578656412698), (1744, 0.0), (1745, 0.011951689117519707), (1746, 0.014458383324431704), (1747, 0.012097005604503802), (1748, 0.0), (1749, 0.005571600145918278), (1750, 0.010660840666038897), (1751, 0.005886033137422457), (1752, 0.0), (1753, 0.0), (1754, 0.0), (1755, 0.007423532619355433), (1756, 0.0), (1757, 0.025122707548686195), (1758, 0.008967865402694538), (1759, 0.0), (1760, 0.0), (1761, 0.029633721095259063), (1762, 0.13163151377431143), (1763, 0.02046158984165071), (1764, 0.061009693011250185), (1765, 0.0), (1766, 0.0), (1767, 0.0), (1768, 0.0), (1769, 0.0151168367063978), (1770, 0.023168823154557268), (1771, 0.024793032546139158), (1772, 0.03632749672967879), (1773, 0.015338656371489371), (1774, 0.03711267896736784), (1775, 0.0), (1776, 0.023688331455704877), (1777, 0.011010838178911677), (1778, 0.023192573730536785), (1779, 0.05101538150729319), (1780, 0.0), (1781, 0.00490338228628484), (1782, 0.013575649653265237), (1783, 0.0), (1784, 0.022821306552771065), (1785, 0.014448753313753879), (1786, 0.0), (1787, 0.07971267094584203), (1788, 0.07860269722816883), (1789, 0.024236999414120143), (1790, 0.01819450907010769), (1791, 0.025582264693231375), (1792, 0.0), (1793, 0.014667286316713645), (1794, 0.0), (1795, 0.0), (1796, 0.005366842377202619), (1797, 0.011946941073363412), (1798, 0.07581683464756445), (1799, 0.15335699053241583), (1800, 0.0), (1801, 0.0), (1802, 0.020873605893059526), (1803, 0.0), (1804, 0.022173735798019394), (1805, 0.0), (1806, 0.013268098651094047), (1807, 0.015170525230197896), (1808, 0.019314558417655572), (1809, 0.03631977787347984), (1810, 0.020547927253504177), (1811, 0.0), (1812, 0.03199484067767958), (1813, 0.0), (1814, 0.018339793632465136), (1815, 0.006822245574727929), (1816, 0.009776309037482408), (1817, 0.0), (1818, 0.020068181644280994), (1819, 0.013124644297649073), (1820, 0.0), (1821, 0.035109355320343476), (1822, 0.006178801835993008), (1823, 0.005484309383748152), (1824, 0.01304494769205094), (1825, 0.0), (1826, 0.0), (1827, 0.04458132015210995), (1828, 0.005005486925428286), (1829, 0.0), (1830, 0.0), (1831, 0.032920424556945604), (1832, 0.0), (1833, 0.0201882417078902), (1834, 0.0), (1835, 0.0), (1836, 0.013267038038625627), (1837, 0.0), (1838, 0.0), (1839, 0.10017551516363726), (1840, 0.0), (1841, 0.07555916688463495), (1842, 0.0447055370086618), (1843, 0.03554481754876864), (1844, 0.008531036141400798), (1845, 0.025973614528316674), (1846, 0.026522379216978968), (1847, 0.02136737161462198), (1848, 0.09949755044773298), (1849, 0.015260769504011434), (1850, 0.01969211574786072), (1851, 0.01424433307679449), (1852, 0.03972176611170158), (1853, 0.00608837444571477), (1854, 0.0), (1855, 0.01822631587904523), (1856, 0.0), (1857, 0.013694482069840566), (1858, 0.0), (1859, 0.011372980564811957), (1860, 0.08444953192976767), (1861, 0.01536137455988831), (1862, 0.0), (1863, 0.01357238608984089), (1864, 0.0148482954201031), (1865, 0.009825029152130578), (1866, 0.0), (1867, 0.015191931883817062), (1868, 0.0), (1869, 0.02553110117377861), (1870, 0.032947524511659235), (1871, 0.07366616807385011), (1872, 0.0), (1873, 0.015458904756889073), (1874, 0.0), (1875, 0.03215933607642981), (1876, 0.045711218795238553), (1877, 0.0), (1878, 0.034055667344127294), (1879, 0.0), (1880, 0.0398746458786763), (1881, 0.04283879238801984), (1882, 0.0), (1883, 0.006345057371001483), (1884, 0.0), (1885, 0.0), (1886, 0.010655327674316071), (1887, 0.0), (1888, 0.012094596431259408), (1889, 0.007777793700308042), (1890, 0.013722089213509276), (1891, 0.014638775773192768), (1892, 0.0), (1893, 0.0), (1894, 0.014486316028227553), (1895, 0.012849786729226254), (1896, 0.0), (1897, 0.06142232130308938), (1898, 0.012512079140581677), (1899, 0.0), (1900, 0.0), (1901, 0.03942937487611919), (1902, 0.01535009045792655), (1903, 0.0736046365406749), (1904, 0.014522777607077007), (1905, 0.0), (1906, 0.0), (1907, 0.0), (1908, 0.034815664580240165), (1909, 0.0), (1910, 0.030164201347032106), (1911, 0.05750448583153529), (1912, 0.007344531742198069), (1913, 0.05877995665137254), (1914, 0.0), (1915, 0.0), (1916, 0.0), (1917, 0.0), (1918, 0.020896596224629468), (1919, 0.01381075466565623), (1920, 0.04992968976012215), (1921, 0.012246833709492005), (1922, 0.0), (1923, 0.0), (1924, 0.0), (1925, 0.01880150196698636), (1926, 0.03460385422459977), (1927, 0.0), (1928, 0.0), (1929, 0.06445996018957668), (1930, 0.0), (1931, 0.027591168970843453), (1932, 0.035868987949247345), (1933, 0.028517479121100073), (1934, 0.0449721469805233), (1935, 0.06484864093183174), (1936, 0.029413122962438996), (1937, 0.03586303960499649), (1938, 0.016456774249504324), (1939, 0.017565657854942206), (1940, 0.0), (1941, 0.006878067990118882), (1942, 0.05778414973478094), (1943, 0.010028913480088133), (1944, 0.0), (1945, 0.029257134929465054), (1946, 0.0), (1947, 0.0), (1948, 0.08266919549808487), (1949, 0.006201908294422498), (1950, 0.02505508863650793), (1951, 0.030353043871432697), (1952, 0.0), (1953, 0.0), (1954, 0.017504480576118083), (1955, 0.02018609445693391), (1956, 0.0), (1957, 0.036640853713274114), (1958, 0.0), (1959, 0.0), (1960, 0.0), (1961, 0.04789353008510259), (1962, 0.0), (1963, 0.0), (1964, 0.09312753163979937), (1965, 0.02022476084555052), (1966, 0.0), (1967, 0.06986438056053726), (1968, 0.020080173324483357), (1969, 0.0), (1970, 0.0), (1971, 0.004948746817818805), (1972, 0.0), (1973, 0.00542070333625414), (1974, 0.0), (1975, 0.0), (1976, 0.006412448920255602), (1977, 0.05004884773903204), (1978, 0.00962006432821726), (1979, 0.0), (1980, 0.011243475178473152), (1981, 0.0), (1982, 0.09699206185311655), (1983, 0.012814186385405876), (1984, 0.0), (1985, 0.021457917990754298), (1986, 0.03471481530920444), (1987, 0.012507678382664974), (1988, 0.042659275823083966), (1989, 0.006203558093176115), (1990, 0.010671413685738089), (1991, 0.020240508672987004), (1992, 0.02427313641038948), (1993, 0.025236793388373847), (1994, 0.02739801002648341), (1995, 0.0), (1996, 0.02861969731798577), (1997, 0.0), (1998, 0.01187597401240612), (1999, 0.008567659724123305), (2000, 0.03609718878940153), (2001, 0.0), (2002, 0.0), (2003, 0.0), (2004, 0.012940896396650208), (2005, 0.046307151630068724), (2006, 0.006587735222830644), (2007, 0.01937614893965205), (2008, 0.03449870034603195), (2009, 0.0), (2010, 0.010771559921750391), (2011, 0.013970064243247132), (2012, 0.006624692611944873), (2013, 0.023298164120162477), (2014, 0.013250071208367652), (2015, 0.014162115482378092), (2016, 0.014125036698276906), (2017, 0.0), (2018, 0.009743622393863404), (2019, 0.03883809047756995), (2020, 0.018640865472432575), (2021, 0.012633581648628371), (2022, 0.04258990737833622), (2023, 0.0), (2024, 0.005664474868892961), (2025, 0.004910398865537909), (2026, 0.0), (2027, 0.06113356020118659), (2028, 0.026567025702175104), (2029, 0.0), (2030, 0.0), (2031, 0.0), (2032, 0.0), (2033, 0.01576257188616189), (2034, 0.011491779506368153), (2035, 0.07824950767277865), (2036, 0.10649438426692287), (2037, 0.13801238661696555), (2038, 0.0), (2039, 0.016506345902761732), (2040, 0.023068022869485977), (2041, 0.0), (2042, 0.0), (2043, 0.024533589497950217), (2044, 0.006181398339857245), (2045, 0.029031954404505875), (2046, 0.0), (2047, 0.0), (2048, 0.02067340019662147), (2049, 0.017587304735493758), (2050, 0.02039379126195228), (2051, 0.07826678872869046), (2052, 0.034971352709053743), (2053, 0.011499104550428983), (2054, 0.0), (2055, 0.054519494459874744), (2056, 0.014982524254883656), (2057, 0.0), (2058, 0.07798009787791743), (2059, 0.0), (2060, 0.0), (2061, 0.019561765169266665), (2062, 0.03684713575540406), (2063, 0.0), (2064, 0.011519501985271862), (2065, 0.01206883351441975), (2066, 0.01492643337999312), (2067, 0.013646582801410692), (2068, 0.012219857867462222), (2069, 0.0), (2070, 0.013211965924439524), (2071, 0.0), (2072, 0.0), (2073, 0.03183149619573634), (2074, 0.03348001513429128), (2075, 0.033621181601920506), (2076, 0.02790633120730919), (2077, 0.007205116250807345), (2078, 0.00468567712414694), (2079, 0.0), (2080, 0.0), (2081, 0.00584535788864794), (2082, 0.006327080345636098), (2083, 0.0059800408495977965), (2084, 0.0), (2085, 0.05510349660221867), (2086, 0.012390230490761269), (2087, 0.015068029885301377), (2088, 0.020489726189546992), (2089, 0.0), (2090, 0.0), (2091, 0.0058995741837861125), (2092, 0.0), (2093, 0.012741263871969215), (2094, 0.031337122216671634), (2095, 0.030043241857846136), (2096, 0.016893550834685474), (2097, 0.0), (2098, 0.013286899736890635), (2099, 0.0), (2100, 0.03990714146538618), (2101, 0.05020606550714049), (2102, 0.04487276337471296), (2103, 0.051156381638299914), (2104, 0.011437034999865222), (2105, 0.013143348036807034), (2106, 0.0), (2107, 0.012834652925313406), (2108, 0.0), (2109, 0.027696061751785305), (2110, 0.014354471832648503), (2111, 0.04319277103668616), (2112, 0.05411488956957706), (2113, 0.018249718474825944), (2114, 0.09191478655030877), (2115, 0.031117266702651074), (2116, 0.06355922582481102), (2117, 0.02659404339466978), (2118, 0.020313987045164145), (2119, 0.0326231804616028), (2120, 0.0), (2121, 0.027777030741580996), (2122, 0.01078256668501528), (2123, 0.01536066517764882), (2124, 0.049806519411439286), (2125, 0.035108794995051776), (2126, 0.0), (2127, 0.011324249674900169), (2128, 0.0), (2129, 0.018261036797785717), (2130, 0.007814884835333477), (2131, 0.014284397272933815), (2132, 0.010498862305001603), (2133, 0.0), (2134, 0.0), (2135, 0.0), (2136, 0.027046105951573737), (2137, 0.019208656628999732), (2138, 0.0), (2139, 0.012719893925271899), (2140, 0.0204559643517062), (2141, 0.0), (2142, 0.0), (2143, 0.01470605354673971), (2144, 0.031605289193767996), (2145, 0.028169830804722133), (2146, 0.0), (2147, 0.0), (2148, 0.0), (2149, 0.02665933937257425), (2150, 0.012896894989374578), (2151, 0.0), (2152, 0.0), (2153, 0.038673529503959386), (2154, 0.01961894064680064), (2155, 0.027050697698891714), (2156, 0.02702805046147492), (2157, 0.01146458654066518), (2158, 0.035108788352967546), (2159, 0.02507709054432819), (2160, 0.015025295175010807), (2161, 0.02409716647911907), (2162, 0.0), (2163, 0.0), (2164, 0.015436921230797072), (2165, 0.0), (2166, 0.005458951305954467), (2167, 0.03566650550722155), (2168, 0.0), (2169, 0.0), (2170, 0.010809826965545275), (2171, 0.021396126079751276), (2172, 0.00801947775963523), (2173, 0.0), (2174, 0.07871501942774517), (2175, 0.014447515854756631), (2176, 0.0), (2177, 0.04682905715290775), (2178, 0.005662044762198061), (2179, 0.03201642721579917), (2180, 0.006673842141501133), (2181, 0.036467705314480826), (2182, 0.006437769518899505), (2183, 0.00708513967735771), (2184, 0.00560295275639634), (2185, 0.0437973221907289), (2186, 0.0), (2187, 0.014440765374922351), (2188, 0.006914889303083625), (2189, 0.0), (2190, 0.014825166764416128), (2191, 0.023386636872253008), (2192, 0.015032924608055259), (2193, 0.015306237356312941), (2194, 0.0), (2195, 0.012470308701678283), (2196, 0.011546910516442112), (2197, 0.041106423486477126), (2198, 0.06232747484433637), (2199, 0.0), (2200, 0.0), (2201, 0.010086443415154508), (2202, 0.01469554883110226), (2203, 0.014144361962131303), (2204, 0.009128760359382987), (2205, 0.12376353838470697), (2206, 0.0378806516281608), (2207, 0.018637241533470322), (2208, 0.014333124119432808), (2209, 0.017293640170398618), (2210, 0.01965109607544537), (2211, 0.046980938535123404), (2212, 0.005832470673860739), (2213, 0.0), (2214, 0.0), (2215, 0.0), (2216, 0.0), (2217, 0.006051129000722994), (2218, 0.0085304219466006), (2219, 0.0), (2220, 0.016505803543595304), (2221, 0.036877250209952875), (2222, 0.0), (2223, 0.0), (2224, 0.005489607501217727), (2225, 0.0), (2226, 0.01330772352350286), (2227, 0.032035980173708366), (2228, 0.0), (2229, 0.0), (2230, 0.0), (2231, 0.0), (2232, 0.005646464135121316), (2233, 0.014579181984075066), (2234, 0.05760008930071279), (2235, 0.02595081082826558), (2236, 0.026430809560373157), (2237, 0.03097705801356724), (2238, 0.006275252741224304), (2239, 0.03405341529327799), (2240, 0.0), (2241, 0.006086692851512976), (2242, 0.011018239580493057), (2243, 0.020867499094173778), (2244, 0.01676570849256659), (2245, 0.0), (2246, 0.020061253359714797), (2247, 0.0), (2248, 0.0), (2249, 0.022125791691531987), (2250, 0.049958258178591446), (2251, 0.0), (2252, 0.0), (2253, 0.0), (2254, 0.04532959363114528), (2255, 0.0), (2256, 0.0), (2257, 0.0), (2258, 0.013581401381779431), (2259, 0.028373494226522453), (2260, 0.0), (2261, 0.0), (2262, 0.009667779922865096), (2263, 0.03304944955216595), (2264, 0.0), (2265, 0.05569002294775252), (2266, 0.024195662176793795), (2267, 0.0), (2268, 0.013269127837432768), (2269, 0.013716477191300296), (2270, 0.012938841664235106), (2271, 0.0), (2272, 0.0), (2273, 0.0), (2274, 0.0052861453926974595), (2275, 0.0079607538129136), (2276, 0.021754931560611042), (2277, 0.02928236682334777), (2278, 0.0), (2279, 0.012049905729247927), (2280, 0.0), (2281, 0.0), (2282, 0.0), (2283, 0.020866776960471498), (2284, 0.013798322474167362), (2285, 0.04029469329949613), (2286, 0.01500390236903022), (2287, 0.012742278363492579), (2288, 0.0), (2289, 0.0), (2290, 0.013904421359180059), (2291, 0.013122249381074383), (2292, 0.01319248887244775), (2293, 0.0), (2294, 0.07436355143829296), (2295, 0.0), (2296, 0.011304459797377472), (2297, 0.011434611301506399), (2298, 0.013188889309696), (2299, 0.0), (2300, 0.0), (2301, 0.07452615351366954), (2302, 0.0), (2303, 0.015792689974918554), (2304, 0.0), (2305, 0.0), (2306, 0.019492395704699128), (2307, 0.0), (2308, 0.016547040432037224), (2309, 0.026865146636179386), (2310, 0.0), (2311, 0.01013124588562677), (2312, 0.0), (2313, 0.028357572448738485), (2314, 0.0), (2315, 0.005370516328359752), (2316, 0.022670356943588044), (2317, 0.04393925943299606), (2318, 0.012744643947521079), (2319, 0.012958710894914573), (2320, 0.0), (2321, 0.0), (2322, 0.011325784528350374), (2323, 0.0), (2324, 0.010076085077023613), (2325, 0.0), (2326, 0.00906641977349122), (2327, 0.01011166589886471), (2328, 0.0), (2329, 0.01821409695228264), (2330, 0.04214256392776977), (2331, 0.0), (2332, 0.007871084506648895), (2333, 0.0), (2334, 0.0), (2335, 0.027612822788216), (2336, 0.0), (2337, 0.00792924231076314), (2338, 0.0), (2339, 0.017259953407948867), (2340, 0.0), (2341, 0.0), (2342, 0.0165609259639055), (2343, 0.0), (2344, 0.0), (2345, 0.0), (2346, 0.0), (2347, 0.009986173577942483), (2348, 0.0), (2349, 0.0), (2350, 0.0), (2351, 0.014659046503319678), (2352, 0.006617534449386639), (2353, 0.025134426851779336), (2354, 0.013419784234428123), (2355, 0.02328453533047363), (2356, 0.01516290607119933), (2357, 0.0), (2358, 0.0), (2359, 0.0884665891893062), (2360, 0.017568179522815676), (2361, 0.006266161181261669), (2362, 0.031618857285511386), (2363, 0.00739084755200491), (2364, 0.00623969798159633), (2365, 0.010410503715389915), (2366, 0.0), (2367, 0.012787897530153547), (2368, 0.029490247745440797), (2369, 0.0), (2370, 0.0), (2371, 0.012871429732931641), (2372, 0.032492967630916456), (2373, 0.0), (2374, 0.0), (2375, 0.014689261688867613), (2376, 0.054246152666667796), (2377, 0.0), (2378, 0.019544458134297206), (2379, 0.0), (2380, 0.0), (2381, 0.030132471042884378), (2382, 0.05723743536529424), (2383, 0.006403371600640354), (2384, 0.0), (2385, 0.0), (2386, 0.0), (2387, 0.03282163369825526), (2388, 0.0), (2389, 0.022615664460668178), (2390, 0.015017267618128547), (2391, 0.021705529707722583), (2392, 0.0), (2393, 0.03112200438762474), (2394, 0.0), (2395, 0.0), (2396, 0.0), (2397, 0.039209958430940786), (2398, 0.0471152159195234), (2399, 0.045338827589206675), (2400, 0.0), (2401, 0.03328441528088862), (2402, 0.0), (2403, 0.01781504442816222), (2404, 0.0), (2405, 0.015560842801578297), (2406, 0.0), (2407, 0.0), (2408, 0.0), (2409, 0.022204980651846142), (2410, 0.0), (2411, 0.030448941628923396), (2412, 0.005034653799066035), (2413, 0.03480293210276478), (2414, 0.007785804770668172), (2415, 0.007621289162110493), (2416, 0.019760909695467007), (2417, 0.01811653085943324), (2418, 0.016282165950440627), (2419, 0.0), (2420, 0.0), (2421, 0.04244754878735174), (2422, 0.012232219457125564), (2423, 0.0), (2424, 0.005396547557038541), (2425, 0.0), (2426, 0.026208638806646284), (2427, 0.01586505847495845), (2428, 0.015085098316056665), (2429, 0.005355757692270511), (2430, 0.030555334748885478), (2431, 0.015422197363769704), (2432, 0.018702293573887217), (2433, 0.012080327969392703), (2434, 0.0), (2435, 0.0), (2436, 0.017339534355556328), (2437, 0.05615378636922484), (2438, 0.0), (2439, 0.04082374982649856), (2440, 0.0), (2441, 0.0), (2442, 0.04450072618867449), (2443, 0.0380864349892242), (2444, 0.01374435028612572), (2445, 0.0), (2446, 0.0), (2447, 0.0), (2448, 0.0), (2449, 0.0), (2450, 0.007347141041791975), (2451, 0.008290657868110915), (2452, 0.0), (2453, 0.0), (2454, 0.0), (2455, 0.0), (2456, 0.011993405141541328), (2457, 0.02911174459191909), (2458, 0.0), (2459, 0.023253875554149074), (2460, 0.010860218990988208), (2461, 0.019120021405907496), (2462, 0.0), (2463, 0.03517971086471321), (2464, 0.0), (2465, 0.045120363151101774), (2466, 0.0), (2467, 0.0), (2468, 0.0069413711028317076), (2469, 0.02392771334004274), (2470, 0.0067891060255168625), (2471, 0.013609576072450521), (2472, 0.01558652777141782), (2473, 0.02202419091620142), (2474, 0.040556073622485395), (2475, 0.0), (2476, 0.006648659639633604), (2477, 0.0), (2478, 0.0), (2479, 0.01578694546077777), (2480, 0.015224364080297889), (2481, 0.04885338473360331), (2482, 0.0), (2483, 0.0), (2484, 0.0), (2485, 0.0), (2486, 0.0), (2487, 0.015679429762370425), (2488, 0.0), (2489, 0.03341310318595217), (2490, 0.0), (2491, 0.022892134512263483), (2492, 0.0), (2493, 0.006428440837188938), (2494, 0.06814327354022776), (2495, 0.0), (2496, 0.013049973727193907), (2497, 0.010809966912786566), (2498, 0.0), (2499, 0.006223516146462203), (2500, 0.016552245759257095), (2501, 0.013646915823537008), (2502, 0.0), (2503, 0.015371072918417583), (2504, 0.007602831916310849), (2505, 0.01772081568979728), (2506, 0.04419960622005122), (2507, 0.011516435731586807), (2508, 0.0), (2509, 0.0341464370458298), (2510, 0.11111229856466259), (2511, 0.0), (2512, 0.007572529063033484), (2513, 0.059693211061456516), (2514, 0.02761238488731867), (2515, 0.0), (2516, 0.0), (2517, 0.13181188574708214), (2518, 0.0), (2519, 0.0), (2520, 0.03815209355013539), (2521, 0.007493773160751021), (2522, 0.014307220835247875), (2523, 0.0), (2524, 0.02491194157610782), (2525, 0.010011644857996257), (2526, 0.0), (2527, 0.020503589907492854), (2528, 0.011686683992465967), (2529, 0.0), (2530, 0.017210365597861932), (2531, 0.0), (2532, 0.02161985382382838), (2533, 0.013831090758702376), (2534, 0.0), (2535, 0.0), (2536, 0.0), (2537, 0.0), (2538, 0.0859144691738), (2539, 0.04904842872507788), (2540, 0.015908121334151544), (2541, 0.049651354909732735), (2542, 0.011396740247885617), (2543, 0.0), (2544, 0.011701178679633417), (2545, 0.01622635999596829), (2546, 0.04028193394671295), (2547, 0.0075446924265597445), (2548, 0.02497959730247205), (2549, 0.020636328943030132), (2550, 0.011581365413906006), (2551, 0.03310177640329977), (2552, 0.021764203186782728), (2553, 0.04806823343839012), (2554, 0.013916111280798397), (2555, 0.03749160842224665), (2556, 0.0), (2557, 0.0), (2558, 0.0), (2559, 0.01786418450010105), (2560, 0.08953285961268445), (2561, 0.0), (2562, 0.01615375535226373), (2563, 0.022024714539164963), (2564, 0.0), (2565, 0.03259924198951341), (2566, 0.0), (2567, 0.05956093072241392), (2568, 0.021150628236251665), (2569, 0.0076247719479797), (2570, 0.02339267505237491), (2571, 0.0), (2572, 0.029057442669841234), (2573, 0.00480062679209459), (2574, 0.01489320280100119), (2575, 0.008325513473698287), (2576, 0.006600492008451496), (2577, 0.0), (2578, 0.0), (2579, 0.014140723342441788), (2580, 0.009601251738278884), (2581, 0.007035590727708702), (2582, 0.16142028271544798), (2583, 0.0), (2584, 0.019738817571804335), (2585, 0.0), (2586, 0.0), (2587, 0.03921486129717993), (2588, 0.013380872033043034), (2589, 0.0), (2590, 0.017990076390800896), (2591, 0.0), (2592, 0.0), (2593, 0.0), (2594, 0.013169061152263732), (2595, 0.0), (2596, 0.0), (2597, 0.0), (2598, 0.013003053898497959), (2599, 0.0), (2600, 0.007530999041667169), (2601, 0.02742067612192546), (2602, 0.0), (2603, 0.037138618176351806), (2604, 0.014549433429447688), (2605, 0.023840305643684407), (2606, 0.0), (2607, 0.014002349351905858), (2608, 0.012200226146947688), (2609, 0.020453800736600823), (2610, 0.0), (2611, 0.017555859251439005), (2612, 0.0), (2613, 0.0), (2614, 0.03458927544926252), (2615, 0.019595820585308673), (2616, 0.024292277565382634), (2617, 0.010862537058802139), (2618, 0.0), (2619, 0.0), (2620, 0.0), (2621, 0.013384438641863367), (2622, 0.01409886576626786), (2623, 0.0), (2624, 0.015242160995037054), (2625, 0.022570491091949123), (2626, 0.006296035699180373), (2627, 0.0), (2628, 0.01866269846230092), (2629, 0.013915906637892573), (2630, 0.0), (2631, 0.0), (2632, 0.026365135599627033), (2633, 0.016517790771841113), (2634, 0.005555566883463742), (2635, 0.0), (2636, 0.025060518997346282), (2637, 0.04018095111952816), (2638, 0.017770613919666698), (2639, 0.0), (2640, 0.030024760752783), (2641, 0.024326339994292765), (2642, 0.03929664717692336), (2643, 0.0), (2644, 0.02725697716254631), (2645, 0.007725323869184701), (2646, 0.061475546304964324), (2647, 0.013582294052084522), (2648, 0.0), (2649, 0.0), (2650, 0.0), (2651, 0.013334077318317872), (2652, 0.01188864764517466), (2653, 0.014635949759688315), (2654, 0.021895915728371428), (2655, 0.0), (2656, 0.0), (2657, 0.008193590459024838), (2658, 0.0), (2659, 0.008316863824525296), (2660, 0.017350421022763456), (2661, 0.0), (2662, 0.013924208776959664), (2663, 0.01076687849375222), (2664, 0.0), (2665, 0.012901669164502829), (2666, 0.012714014079641194), (2667, 0.007990367494168668), (2668, 0.04745821662443469), (2669, 0.0), (2670, 0.0064658308477285095), (2671, 0.008119815380737777), (2672, 0.02841546372043828), (2673, 0.0), (2674, 0.005444791423014269), (2675, 0.0), (2676, 0.006835320149303991), (2677, 0.0), (2678, 0.0), (2679, 0.0), (2680, 0.020421029134539706), (2681, 0.0), (2682, 0.05690234168684111), (2683, 0.0), (2684, 0.019845180926534454), (2685, 0.0), (2686, 0.009177850329173984), (2687, 0.023053209763779683), (2688, 0.042893017113584266), (2689, 0.020636772939653197), (2690, 0.0), (2691, 0.04148070433983042), (2692, 0.013509144800893219), (2693, 0.01954830199652293), (2694, 0.018154133693143306), (2695, 0.0), (2696, 0.014871970037351655), (2697, 0.033633737708746204), (2698, 0.025770497043865644), (2699, 0.0), (2700, 0.0), (2701, 0.0), (2702, 0.0), (2703, 0.02521717767347453), (2704, 0.015970954751724997), (2705, 0.0), (2706, 0.020537417097105166), (2707, 0.016037847725412942), (2708, 0.028525966169572585), (2709, 0.0), (2710, 0.015333728068015848), (2711, 0.005599566434049818), (2712, 0.044318472234613215), (2713, 0.04000196057458189), (2714, 0.018610563112947145), (2715, 0.04239625923000844), (2716, 0.0), (2717, 0.0), (2718, 0.011827886306537506), (2719, 0.0), (2720, 0.006718187571458375), (2721, 0.0), (2722, 0.0), (2723, 0.0), (2724, 0.0), (2725, 0.019488475959174363), (2726, 0.016178328685320112), (2727, 0.0), (2728, 0.0), (2729, 0.02613093231705036), (2730, 0.03138430569585972), (2731, 0.0), (2732, 0.015813498755863308), (2733, 0.012950081070812698), (2734, 0.025972815155690467), (2735, 0.0), (2736, 0.018941672959795115), (2737, 0.0), (2738, 0.0), (2739, 0.0), (2740, 0.05158366699217531), (2741, 0.007185140504094687), (2742, 0.019910451518538368), (2743, 0.0), (2744, 0.01599723736055972), (2745, 0.0), (2746, 0.012039789729060314), (2747, 0.0), (2748, 0.0), (2749, 0.042308108219043114), (2750, 0.012997061565885057), (2751, 0.03069564690967453), (2752, 0.02631790273256209), (2753, 0.011007162278951823), (2754, 0.00620517248617168), (2755, 0.008368997405513454), (2756, 0.0), (2757, 0.0), (2758, 0.009687928797655327), (2759, 0.028477977899166028), (2760, 0.029880961286732812), (2761, 0.011641109151140099), (2762, 0.0), (2763, 0.007468452638407334), (2764, 0.0), (2765, 0.014081042416461659), (2766, 0.08219690294460036), (2767, 0.01540139983687027), (2768, 0.008104800201940468), (2769, 0.01830440285618666), (2770, 0.0), (2771, 0.011427112540780398), (2772, 0.0231314227246024), (2773, 0.0), (2774, 0.033332429500315154), (2775, 0.0), (2776, 0.011663633455366145), (2777, 0.020056397030757775), (2778, 0.007179338454720858), (2779, 0.011997815204717543), (2780, 0.038000581441574026), (2781, 0.016647603961783882), (2782, 0.0), (2783, 0.026772428456833502), (2784, 0.0), (2785, 0.0), (2786, 0.0), (2787, 0.005592064635985063), (2788, 0.03539090893813456), (2789, 0.029980337569938217), (2790, 0.04977236071384583), (2791, 0.005327567698912316), (2792, 0.0), (2793, 0.0), (2794, 0.0), (2795, 0.007236465847942777), (2796, 0.0), (2797, 0.0), (2798, 0.015967650623586193), (2799, 0.016852765805322863), (2800, 0.0), (2801, 0.00914810764940612), (2802, 0.024626134618399985), (2803, 0.026271900338405953), (2804, 0.020961938858299806), (2805, 0.0), (2806, 0.00859507791103045), (2807, 0.02333006037621259), (2808, 0.015174113714048382), (2809, 0.011232916495331906), (2810, 0.006468847485833899), (2811, 0.006243735237998271), (2812, 0.014664063509632385), (2813, 0.022847021572268065), (2814, 0.0), (2815, 0.06307138963797902), (2816, 0.01605449107632293), (2817, 0.039811228734615234), (2818, 0.0), (2819, 0.03142601996836151), (2820, 0.01874412835645033), (2821, 0.0), (2822, 0.02169504728286849), (2823, 0.0), (2824, 0.019416754378820695), (2825, 0.005711060274491586), (2826, 0.02416446886133078), (2827, 0.0), (2828, 0.0), (2829, 0.010308301622267304), (2830, 0.043320698359244895), (2831, 0.062262812853852934), (2832, 0.0), (2833, 0.0), (2834, 0.02443799948629648), (2835, 0.0), (2836, 0.01936465829685324), (2837, 0.014105892011091702), (2838, 0.0), (2839, 0.0), (2840, 0.006567403661839189), (2841, 0.01888765523527297), (2842, 0.01674182354554246), (2843, 0.08194421184771813), (2844, 0.053226067482827544), (2845, 0.00993255663244486), (2846, 0.0), (2847, 0.02450688127993908), (2848, 0.014080057164931865), (2849, 0.0), (2850, 0.11159946689672783), (2851, 0.0), (2852, 0.012193121437744736), (2853, 0.012648999167168485), (2854, 0.04375954137628577), (2855, 0.0), (2856, 0.0204207814806078), (2857, 0.0), (2858, 0.0), (2859, 0.108521389434914), (2860, 0.014769902126713346), (2861, 0.0), (2862, 0.005446202919524004), (2863, 0.0), (2864, 0.0209468087044428), (2865, 0.0), (2866, 0.0), (2867, 0.027481419885142994), (2868, 0.0286839445928455), (2869, 0.0), (2870, 0.0), (2871, 0.0), (2872, 0.0), (2873, 0.03277608159051351), (2874, 0.014214893609096294), (2875, 0.016301987827704086), (2876, 0.0), (2877, 0.0), (2878, 0.015585517072649343), (2879, 0.0), (2880, 0.006141860717332739), (2881, 0.006672519888287278), (2882, 0.0), (2883, 0.0), (2884, 0.0), (2885, 0.0054876114074039134), (2886, 0.0), (2887, 0.007607772705422298), (2888, 0.014858178959143126), (2889, 0.0), (2890, 0.0), (2891, 0.0), (2892, 0.0), (2893, 0.0), (2894, 0.0), (2895, 0.0327804622445893), (2896, 0.015388365624247394), (2897, 0.0), (2898, 0.014543551373731348), (2899, 0.0054840323726522335), (2900, 0.0), (2901, 0.0), (2902, 0.054641783110061196), (2903, 0.006530649640836519), (2904, 0.015378589733935738), (2905, 0.0), (2906, 0.0), (2907, 0.0), (2908, 0.04166700075659469), (2909, 0.0), (2910, 0.005553322983816923), (2911, 0.014315858156363203), (2912, 0.010587963747707235), (2913, 0.005043276077734801), (2914, 0.0), (2915, 0.032082323634094065), (2916, 0.0), (2917, 0.024435379214742786), (2918, 0.018900648877674193), (2919, 0.0), (2920, 0.01870979179406667), (2921, 0.0), (2922, 0.007880599285234742), (2923, 0.0), (2924, 0.0), (2925, 0.0), (2926, 0.0), (2927, 0.023174376241394228), (2928, 0.0), (2929, 0.01401435162309864), (2930, 0.0), (2931, 0.01393285602953611), (2932, 0.0), (2933, 0.013461219842633994), (2934, 0.0), (2935, 0.029255588432829743), (2936, 0.017453890749600878), (2937, 0.019117539439084584), (2938, 0.011285787166794615), (2939, 0.0), (2940, 0.11850217636026045), (2941, 0.0), (2942, 0.02296519492954604), (2943, 0.005994165386233013), (2944, 0.046207345064001884), (2945, 0.0), (2946, 0.0), (2947, 0.005973280041858331), (2948, 0.007500624949543737), (2949, 0.0), (2950, 0.013011244467061927), (2951, 0.0), (2952, 0.0), (2953, 0.0), (2954, 0.0), (2955, 0.05692230478497592), (2956, 0.022190977541187852), (2957, 0.016678408208096535), (2958, 0.005446294782045841), (2959, 0.006308054863848012), (2960, 0.014584783645417437), (2961, 0.0), (2962, 0.015639384418848365), (2963, 0.006236646602689746), (2964, 0.016427640470008928), (2965, 0.0), (2966, 0.0), (2967, 0.0), (2968, 0.0), (2969, 0.030839701642891394), (2970, 0.0), (2971, 0.005165853179626152), (2972, 0.0), (2973, 0.0), (2974, 0.0), (2975, 0.013699793877732179), (2976, 0.0), (2977, 0.016133156038815374), (2978, 0.0), (2979, 0.03806826547428568), (2980, 0.027977910785505614), (2981, 0.03631953967548938), (2982, 0.015729405064654003), (2983, 0.0), (2984, 0.0), (2985, 0.012942089623516008), (2986, 0.0), (2987, 0.0), (2988, 0.01623720203219439), (2989, 0.008274903213193846), (2990, 0.025991181043329155), (2991, 0.0), (2992, 0.020059179047490015), (2993, 0.0), (2994, 0.0), (2995, 0.011705751929750362), (2996, 0.011605193670444755), (2997, 0.0), (2998, 0.019795638772504003), (2999, 0.0), (3000, 0.026154681049803258), (3001, 0.0), (3002, 0.0058896242220174335), (3003, 0.022083095224514727), (3004, 0.0), (3005, 0.0), (3006, 0.0), (3007, 0.0), (3008, 0.032349585421642436), (3009, 0.0), (3010, 0.010326731771812253), (3011, 0.0), (3012, 0.0), (3013, 0.01377940971121354), (3014, 0.010298675873226089), (3015, 0.0), (3016, 0.0), (3017, 0.0), (3018, 0.0), (3019, 0.0), (3020, 0.0), (3021, 0.0), (3022, 0.019278254185530946), (3023, 0.015034716186429284), (3024, 0.016175258968085637), (3025, 0.0), (3026, 0.0), (3027, 0.030339303605341754), (3028, 0.0), (3029, 0.0), (3030, 0.0), (3031, 0.016879141490488178), (3032, 0.0), (3033, 0.015344456152766039), (3034, 0.0), (3035, 0.0), (3036, 0.0), (3037, 0.0), (3038, 0.0), (3039, 0.017595122932561384), (3040, 0.0), (3041, 0.0), (3042, 0.0), (3043, 0.036151435072666875), (3044, 0.022043250196084423), (3045, 0.013905396199126351), (3046, 0.028419279504365652), (3047, 0.013028005704728724), (3048, 0.0), (3049, 0.01736866101899842), (3050, 0.0), (3051, 0.03642892724637434), (3052, 0.0), (3053, 0.0), (3054, 0.0), (3055, 0.0), (3056, 0.010385414397645867), (3057, 0.01187948388948104), (3058, 0.019020034400111303), (3059, 0.006563618807733278), (3060, 0.0), (3061, 0.013214624094355245), (3062, 0.015292740899019153), (3063, 0.011065105139979211), (3064, 0.006572908570574481), (3065, 0.025300940775226703), (3066, 0.04835258084607647), (3067, 0.028021048699457273), (3068, 0.0), (3069, 0.062975241164593), (3070, 0.005286382097093148), (3071, 0.0), (3072, 0.0), (3073, 0.0), (3074, 0.0), (3075, 0.0), (3076, 0.0), (3077, 0.012787116706049316), (3078, 0.017320611391727674), (3079, 0.0), (3080, 0.0), (3081, 0.0), (3082, 0.0), (3083, 0.055006444318469946), (3084, 0.0), (3085, 0.020357935351098918), (3086, 0.0), (3087, 0.0), (3088, 0.0), (3089, 0.013850952492287063), (3090, 0.033408371245190825), (3091, 0.0747896351449254), (3092, 0.0), (3093, 0.011886454073045), (3094, 0.01821270284703916), (3095, 0.016730468090493427), (3096, 0.05154504171128434), (3097, 0.03349542087526462), (3098, 0.03053537097787451), (3099, 0.0121784648108564), (3100, 0.027036313092401978), (3101, 0.016343427104835658), (3102, 0.023874919939825236), (3103, 0.0), (3104, 0.027029273258197793), (3105, 0.0518489950015934), (3106, 0.0), (3107, 0.0), (3108, 0.027280892505840683), (3109, 0.0), (3110, 0.0), (3111, 0.04538143119567874), (3112, 0.006174409229396063), (3113, 0.011086051865454749), (3114, 0.02654279766971857), (3115, 0.02959294663653099), (3116, 0.02981104570075345), (3117, 0.012315853484573647), (3118, 0.0), (3119, 0.0), (3120, 0.0098782249257995), (3121, 0.017370341509047017), (3122, 0.014592767260006129), (3123, 0.0), (3124, 0.013837457630531146), (3125, 0.0), (3126, 0.016847528042574868), (3127, 0.0), (3128, 0.0), (3129, 0.04018663775842893), (3130, 0.07055536802450299), (3131, 0.014191134608942665), (3132, 0.11890138048954493), (3133, 0.10533844806644807), (3134, 0.11669769337160957), (3135, 0.012598265485855239), (3136, 0.0259660284224004), (3137, 0.0), (3138, 0.0), (3139, 0.0), (3140, 0.03243937337368399), (3141, 0.03794212172703483), (3142, 0.0), (3143, 0.005405443441645939), (3144, 0.01204476827128659), (3145, 0.0), (3146, 0.0), (3147, 0.045675728660660345), (3148, 0.0), (3149, 0.013075144237620375), (3150, 0.0), (3151, 0.026955909235956158), (3152, 0.02724398923573656), (3153, 0.0), (3154, 0.0), (3155, 0.0), (3156, 0.03301619722139276), (3157, 0.017463258589818547), (3158, 0.0), (3159, 0.0), (3160, 0.0), (3161, 0.0533370220900776), (3162, 0.02458920796807748), (3163, 0.08969934201273735), (3164, 0.013065536461284118), (3165, 0.006787410460136219), (3166, 0.0), (3167, 0.0), (3168, 0.006581315530396203), (3169, 0.00595600492045914), (3170, 0.0), (3171, 0.0), (3172, 0.0162822684595563), (3173, 0.014937587891135114), (3174, 0.04282956141907203), (3175, 0.024666866121394487), (3176, 0.0), (3177, 0.011900615275145745), (3178, 0.0), (3179, 0.0), (3180, 0.0), (3181, 0.035173076969631546), (3182, 0.0), (3183, 0.027505221805666273), (3184, 0.03847523193503803), (3185, 0.00856982814216748), (3186, 0.05625208176816502), (3187, 0.0), (3188, 0.0), (3189, 0.01435905162247898), (3190, 0.05793220123425406), (3191, 0.017798121176074884), (3192, 0.03678523458480796), (3193, 0.012623498451013782), (3194, 0.0), (3195, 0.010459371801810781), (3196, 0.0), (3197, 0.0), (3198, 0.0), (3199, 0.0), (3200, 0.0), (3201, 0.019241714319763892), (3202, 0.05605774239258005), (3203, 0.0), (3204, 0.0), (3205, 0.021420580767701244), (3206, 0.032897649085791444), (3207, 0.013758311107864322), (3208, 0.008348380965052896), (3209, 0.02773502192198486), (3210, 0.006062613404821236), (3211, 0.017550160360463807), (3212, 0.0), (3213, 0.0048772870933467445), (3214, 0.0), (3215, 0.04620307473739901), (3216, 0.0), (3217, 0.0), (3218, 0.016353147666591895), (3219, 0.0), (3220, 0.0), (3221, 0.021550812252420608), (3222, 0.01296231701754918), (3223, 0.008920721090125145), (3224, 0.011429825907818384), (3225, 0.01989903506854209), (3226, 0.028713487906740515), (3227, 0.006015960205201542), (3228, 0.036167502872606366), (3229, 0.01117148923502856), (3230, 0.0), (3231, 0.016526041664252058), (3232, 0.01175128429488444), (3233, 0.0), (3234, 0.0), (3235, 0.05190860512213072), (3236, 0.014538937945296537), (3237, 0.027868608157129077), (3238, 0.01717485069155423), (3239, 0.0), (3240, 0.026846498846516215), (3241, 0.006067908230858551), (3242, 0.01309820273520319), (3243, 0.0), (3244, 0.0237219996780815), (3245, 0.0), (3246, 0.040206052506913725), (3247, 0.023301389431096376), (3248, 0.0), (3249, 0.0), (3250, 0.0), (3251, 0.0), (3252, 0.043747606285591614), (3253, 0.041822572265576764), (3254, 0.011085101236910139), (3255, 0.0), (3256, 0.030680314326389426), (3257, 0.0), (3258, 0.0), (3259, 0.006212216547567563), (3260, 0.0), (3261, 0.0), (3262, 0.0), (3263, 0.006657259148040509), (3264, 0.037963848881992494), (3265, 0.01593178644672191), (3266, 0.0), (3267, 0.005332500174597761), (3268, 0.0), (3269, 0.0), (3270, 0.016384914151700625), (3271, 0.0), (3272, 0.03420732199730714), (3273, 0.015032836975023979), (3274, 0.0), (3275, 0.006793437937616483), (3276, 0.02019470229744836), (3277, 0.0), (3278, 0.03013340417771517), (3279, 0.009497998637976297), (3280, 0.0), (3281, 0.0), (3282, 0.0), (3283, 0.0), (3284, 0.038568795398940856), (3285, 0.0), (3286, 0.04865889098589829), (3287, 0.02300651022956931), (3288, 0.01539099909819), (3289, 0.02033946968554785), (3290, 0.0), (3291, 0.0), (3292, 0.0), (3293, 0.012969589013800131), (3294, 0.01438410490435085), (3295, 0.0), (3296, 0.0), (3297, 0.006059418516064427), (3298, 0.0), (3299, 0.045628368688145196), (3300, 0.0), (3301, 0.0), (3302, 0.027427220915086422), (3303, 0.01395386634529171), (3304, 0.04085090352940124), (3305, 0.0), (3306, 0.00539808297945961), (3307, 0.0), (3308, 0.029261752265331918), (3309, 0.04661889142586042), (3310, 0.017983821980218414), (3311, 0.014905252748696033), (3312, 0.006714224524816088), (3313, 0.0), (3314, 0.01462177789921268), (3315, 0.03765870317895669), (3316, 0.011980463207669986), (3317, 0.0), (3318, 0.0), (3319, 0.0), (3320, 0.03952878048334114), (3321, 0.0), (3322, 0.0), (3323, 0.034128495919908186), (3324, 0.0), (3325, 0.035367598835357984), (3326, 0.0), (3327, 0.006871502864129441), (3328, 0.008822993752605616), (3329, 0.02404416359550124), (3330, 0.013736022809215582), (3331, 0.0), (3332, 0.005908823101545467), (3333, 0.0), (3334, 0.0), (3335, 0.025230480054920998), (3336, 0.005221051787523004), (3337, 0.0), (3338, 0.01001202009087381), (3339, 0.005041537882605259), (3340, 0.0058007388864809275), (3341, 0.0), (3342, 0.07944630575841848), (3343, 0.005799692043590043), (3344, 0.022382708838959972), (3345, 0.0), (3346, 0.03664640263689443), (3347, 0.0), (3348, 0.0), (3349, 0.0), (3350, 0.0), (3351, 0.01428675326486565), (3352, 0.0), (3353, 0.027325525446455695), (3354, 0.0), (3355, 0.013685394481019684), (3356, 0.0), (3357, 0.0), (3358, 0.0), (3359, 0.0), (3360, 0.053081662926544745), (3361, 0.01278156253891843), (3362, 0.048989762007178375), (3363, 0.0), (3364, 0.0), (3365, 0.02584872596085345), (3366, 0.078116029106512), (3367, 0.043462249486514136), (3368, 0.030465938830582285), (3369, 0.023877802938152073), (3370, 0.010286871014649042), (3371, 0.0), (3372, 0.0), (3373, 0.039846943024703985), (3374, 0.005948960317707747), (3375, 0.0), (3376, 0.05805042077624964), (3377, 0.009093907701529118), (3378, 0.0), (3379, 0.0), (3380, 0.0), (3381, 0.0), (3382, 0.0), (3383, 0.0068058690288038005), (3384, 0.04798435541431038), (3385, 0.043991399884238884), (3386, 0.028155825053525853), (3387, 0.038266755852595584), (3388, 0.0), (3389, 0.02670335450428496), (3390, 0.019145321509063194), (3391, 0.0), (3392, 0.013305638651175416), (3393, 0.02144920671386999), (3394, 0.0169755670477596), (3395, 0.05018357652303827), (3396, 0.0), (3397, 0.007012013423326801), (3398, 0.012017447186282074), (3399, 0.02503282473198654), (3400, 0.010978278407199865), (3401, 0.0), (3402, 0.0), (3403, 0.08291464421379091), (3404, 0.05273419298023156), (3405, 0.08340536458872523), (3406, 0.0), (3407, 0.034050420242495286), (3408, 0.02750970770607973), (3409, 0.013387206038338317), (3410, 0.03460368748167801), (3411, 0.009612588864395855), (3412, 0.010285513210543662), (3413, 0.0), (3414, 0.0), (3415, 0.0), (3416, 0.04598195292461287), (3417, 0.027657562027552735), (3418, 0.0), (3419, 0.031698917361199605), (3420, 0.038741484671784496), (3421, 0.0), (3422, 0.0), (3423, 0.018179186948958453), (3424, 0.02063001684950873), (3425, 0.0), (3426, 0.021955045018598556), (3427, 0.01364473101691507), (3428, 0.0), (3429, 0.003982985284031511), (3430, 0.011438400457050676), (3431, 0.0), (3432, 0.02097865910809568), (3433, 0.0), (3434, 0.013760359685556632), (3435, 0.0), (3436, 0.0), (3437, 0.0), (3438, 0.014925552495291296), (3439, 0.010167857074185842), (3440, 0.006739611848923292), (3441, 0.005730947686355843), (3442, 0.014606481848624755), (3443, 0.019217673615084193), (3444, 0.039794732155381415), (3445, 0.017709991788550095), (3446, 0.0), (3447, 0.0252708323855393), (3448, 0.016529306153586845), (3449, 0.013268349396811345), (3450, 0.03773993612985887), (3451, 0.04179988896840583), (3452, 0.010241107361260791), (3453, 0.006547243581478366), (3454, 0.02435122004586404), (3455, 0.0), (3456, 0.047962781421276884), (3457, 0.01628490393255295), (3458, 0.02038413682225304), (3459, 0.025946542468656485), (3460, 0.0), (3461, 0.02051437838208229), (3462, 0.0), (3463, 0.05775408684514896), (3464, 0.01820345735258983), (3465, 0.005520159191807376), (3466, 0.005579865767333534), (3467, 0.03523518329024185), (3468, 0.00631332012156661), (3469, 0.10433738881607146), (3470, 0.025906946602669866), (3471, 0.0), (3472, 0.022996759234969244), (3473, 0.01582846465867544), (3474, 0.02384208942567413), (3475, 0.0), (3476, 0.0), (3477, 0.0), (3478, 0.0), (3479, 0.01844554953692037), (3480, 0.009824141651560174), (3481, 0.0), (3482, 0.04134014101087409), (3483, 0.03184335157460732), (3484, 0.0167557674738641), (3485, 0.01215076597683084), (3486, 0.013858658140169823), (3487, 0.010455618544662953), (3488, 0.0), (3489, 0.0), (3490, 0.0), (3491, 0.0), (3492, 0.019284870286224172), (3493, 0.0), (3494, 0.0), (3495, 0.0), (3496, 0.0), (3497, 0.017186630488632386), (3498, 0.0), (3499, 0.0), (3500, 0.01168857329425934), (3501, 0.0), (3502, 0.0), (3503, 0.04245364949924216), (3504, 0.014914938048933717), (3505, 0.0), (3506, 0.0), (3507, 0.0061032587953820374), (3508, 0.030460731411908387), (3509, 0.06831240186451455), (3510, 0.0), (3511, 0.01328979124018061), (3512, 0.0), (3513, 0.006047913976073306), (3514, 0.00604378300286581), (3515, 0.05060759276503153), (3516, 0.00620195787808403), (3517, 0.012614759740257402), (3518, 0.044533309948005945), (3519, 0.0), (3520, 0.024476942401397746), (3521, 0.0), (3522, 0.03179937104124762), (3523, 0.0), (3524, 0.03276286323508944), (3525, 0.005166051551800853), (3526, 0.0), (3527, 0.0), (3528, 0.005440938859604661), (3529, 0.011517051353118212), (3530, 0.0), (3531, 0.005678064061826784), (3532, 0.047573467112228894), (3533, 0.0), (3534, 0.0), (3535, 0.0), (3536, 0.04398708739386917), (3537, 0.0), (3538, 0.011211956533372347), (3539, 0.042118676348735576), (3540, 0.0), (3541, 0.04415615182387886), (3542, 0.0), (3543, 0.0), (3544, 0.0), (3545, 0.0), (3546, 0.005705957121864809), (3547, 0.0), (3548, 0.0), (3549, 0.0), (3550, 0.018324421560473265), (3551, 0.015126160462558222), (3552, 0.0), (3553, 0.015674602364629527), (3554, 0.0368059029181949), (3555, 0.04095342412153841), (3556, 0.01699794866797029), (3557, 0.0), (3558, 0.051650734937821366), (3559, 0.023164699711417838), (3560, 0.01494134777588652), (3561, 0.0), (3562, 0.046445321682742055), (3563, 0.0), (3564, 0.0), (3565, 0.0), (3566, 0.051566912330921755), (3567, 0.007353401717300088), (3568, 0.026259255958538463), (3569, 0.012814401469108993), (3570, 0.0), (3571, 0.0), (3572, 0.0), (3573, 0.0), (3574, 0.011707585932052103), (3575, 0.0), (3576, 0.0), (3577, 0.014338710703467003), (3578, 0.0197468694179217), (3579, 0.05230374870187969), (3580, 0.0), (3581, 0.0), (3582, 0.03950410261060709), (3583, 0.0), (3584, 0.015005652128062864), (3585, 0.010706562340174938), (3586, 0.014457365101467903), (3587, 0.021839290714720454), (3588, 0.007014809159116376), (3589, 0.02172443013608407), (3590, 0.0), (3591, 0.006115497691823649), (3592, 0.014219851551551725), (3593, 0.006564363134400419), (3594, 0.01584557714363464), (3595, 0.005596391514850989), (3596, 0.015465635907537263), (3597, 0.10941446306476409), (3598, 0.057566321951630646), (3599, 0.04500751299906655), (3600, 0.02362084384479418), (3601, 0.0), (3602, 0.018903415645396063), (3603, 0.01886711806991857), (3604, 0.1430349324680955), (3605, 0.005727398106108235), (3606, 0.013584425504253254), (3607, 0.03760856461841977), (3608, 0.0), (3609, 0.016722108427051963), (3610, 0.0), (3611, 0.0), (3612, 0.04066036714614041), (3613, 0.014313661720668051), (3614, 0.011510720877850465), (3615, 0.02632138481855163), (3616, 0.0), (3617, 0.0), (3618, 0.0), (3619, 0.0), (3620, 0.0), (3621, 0.01632782155684011), (3622, 0.0), (3623, 0.05802677200678602), (3624, 0.0), (3625, 0.0), (3626, 0.0), (3627, 0.0), (3628, 0.014999467222797911), (3629, 0.013157148711261975), (3630, 0.17442747461087954), (3631, 0.0), (3632, 0.027369245224584605), (3633, 0.0), (3634, 0.08196000127665228), (3635, 0.01843047648500156), (3636, 0.0), (3637, 0.014649030877149138), (3638, 0.009438932595528887), (3639, 0.0), (3640, 0.014208284926105035), (3641, 0.01913561289942597), (3642, 0.006258264931505125), (3643, 0.048759261230772365), (3644, 0.013452300436027324), (3645, 0.004483235549662602), (3646, 0.09548933594814563), (3647, 0.0), (3648, 0.031275905693290515), (3649, 0.0), (3650, 0.0), (3651, 0.02958775319155731), (3652, 0.0), (3653, 0.014124905108309271), (3654, 0.013259623782959003), (3655, 0.09580547922057281), (3656, 0.014185622497664686), (3657, 0.021615754484611994), (3658, 0.03580253534425148), (3659, 0.026477694788299214), (3660, 0.024556965497879394), (3661, 0.017782609179761842), (3662, 0.0), (3663, 0.0), (3664, 0.0), (3665, 0.010705033889771376), (3666, 0.0), (3667, 0.021542417680531903), (3668, 0.042189722810192405), (3669, 0.010980189117213365), (3670, 0.0), (3671, 0.0), (3672, 0.0), (3673, 0.0), (3674, 0.009188699229214151), (3675, 0.0), (3676, 0.006093574157109758), (3677, 0.0), (3678, 0.02531187373958871), (3679, 0.0), (3680, 0.03783633206642613), (3681, 0.013642789701429675), (3682, 0.0), (3683, 0.020269425397161922), (3684, 0.005049617135156921), (3685, 0.007577855243316601), (3686, 0.0), (3687, 0.0), (3688, 0.0), (3689, 0.057485352686443), (3690, 0.08263611519423293), (3691, 0.0), (3692, 0.0644445803757826), (3693, 0.011714727254971666), (3694, 0.043596061725080466), (3695, 0.14013821049640732), (3696, 0.0), (3697, 0.04235087889108417), (3698, 0.0341101088201586), (3699, 0.0), (3700, 0.01321376108748858), (3701, 0.04704723689309453), (3702, 0.0), (3703, 0.008770494168320955), (3704, 0.0), (3705, 0.02754437500735841), (3706, 0.043295255213358017), (3707, 0.005970687534666853), (3708, 0.006888310186390172), (3709, 0.029264168707476834), (3710, 0.006138087555568125), (3711, 0.012407440985959353), (3712, 0.0), (3713, 0.013190999829319127), (3714, 0.015384498376562973), (3715, 0.00787231615075559), (3716, 0.0097561894660018), (3717, 0.0), (3718, 0.0071269575935350256), (3719, 0.0), (3720, 0.0056108917813494), (3721, 0.01834460563471785), (3722, 0.029097719689296517), (3723, 0.08066744973944077), (3724, 0.03672583897211863), (3725, 0.0), (3726, 0.03779623524951944), (3727, 0.0), (3728, 0.02839922326870816), (3729, 0.0), (3730, 0.0), (3731, 0.022153585432955016), (3732, 0.03738584460411714), (3733, 0.01575579932895325), (3734, 0.018508145582550928), (3735, 0.024630289681259653), (3736, 0.0), (3737, 0.0), (3738, 0.01623638014817279), (3739, 0.0), (3740, 0.017101975327478165), (3741, 0.023096935319781877), (3742, 0.017477748085312748), (3743, 0.013813288100401833), (3744, 0.016296515516744645), (3745, 0.0), (3746, 0.039471384553850714), (3747, 0.07995207070796928), (3748, 0.013781611637501068), (3749, 0.0), (3750, 0.0), (3751, 0.024009527089090252), (3752, 0.032260715294034535), (3753, 0.0), (3754, 0.05019813576906523), (3755, 0.0), (3756, 0.0), (3757, 0.0), (3758, 0.014618235695368237), (3759, 0.0), (3760, 0.0), (3761, 0.0), (3762, 0.0), (3763, 0.0), (3764, 0.0), (3765, 0.0), (3766, 0.017106754100193647), (3767, 0.026634067490912308), (3768, 0.0), (3769, 0.020216789929484016), (3770, 0.014891837358910101), (3771, 0.0063498047519251625), (3772, 0.0), (3773, 0.013211058120041731), (3774, 0.0), (3775, 0.0), (3776, 0.00503756673006192), (3777, 0.0), (3778, 0.0), (3779, 0.0), (3780, 0.02889389287289835), (3781, 0.014795377723316535), (3782, 0.02590236395843488), (3783, 0.08782641415003788), (3784, 0.014683251946067297), (3785, 0.05216244138756746), (3786, 0.11859245579569974), (3787, 0.014934380478582046), (3788, 0.0), (3789, 0.0), (3790, 0.047830988028472694), (3791, 0.0), (3792, 0.0), (3793, 0.02826848942802503), (3794, 0.015630765502401823), (3795, 0.011955349625346876), (3796, 0.0), (3797, 0.016892404390689945), (3798, 0.026508829297192116), (3799, 0.0), (3800, 0.0), (3801, 0.041402512506643556), (3802, 0.04079272657917714), (3803, 0.024000533478815755), (3804, 0.0), (3805, 0.019952271203985263), (3806, 0.0), (3807, 0.005883173193602896), (3808, 0.0), (3809, 0.0), (3810, 0.0), (3811, 0.03752082574366634), (3812, 0.011998951289919728), (3813, 0.013624309863686379), (3814, 0.005913372685670906), (3815, 0.0), (3816, 0.0), (3817, 0.028905377367751395), (3818, 0.0), (3819, 0.0), (3820, 0.0), (3821, 0.013278232480884384), (3822, 0.02868553748981342), (3823, 0.0), (3824, 0.0), (3825, 0.01420333819467843), (3826, 0.03536457433609595), (3827, 0.0), (3828, 0.0), (3829, 0.04806106835310053), (3830, 0.0), (3831, 0.0), (3832, 0.0), (3833, 0.0), (3834, 0.044682729760523815), (3835, 0.01800388302174903), (3836, 0.0), (3837, 0.0), (3838, 0.0), (3839, 0.014468326898127918), (3840, 0.027924807555695826), (3841, 0.0), (3842, 0.0), (3843, 0.0), (3844, 0.0), (3845, 0.012969466651801353), (3846, 0.026903491780070003), (3847, 0.011929672053716384), (3848, 0.0), (3849, 0.03494037770509795), (3850, 0.04753263351007643), (3851, 0.0), (3852, 0.0), (3853, 0.012832170414891444), (3854, 0.009932739910555585), (3855, 0.0), (3856, 0.0), (3857, 0.0), (3858, 0.0), (3859, 0.0), (3860, 0.005374259320334227), (3861, 0.0), (3862, 0.0061675025492857844), (3863, 0.0), (3864, 0.026904260252301603), (3865, 0.020916000281468863), (3866, 0.0), (3867, 0.013959475594160485), (3868, 0.0), (3869, 0.014788961045261385), (3870, 0.05626775615865645), (3871, 0.008009735980511024), (3872, 0.0), (3873, 0.0), (3874, 0.0), (3875, 0.047855620676588134), (3876, 0.04399259774904775), (3877, 0.008721583338754349), (3878, 0.019553892507838375), (3879, 0.07951646813403271), (3880, 0.03474772400615768), (3881, 0.0), (3882, 0.024407527789843425), (3883, 0.015817181318478594), (3884, 0.017333355037626015), (3885, 0.0), (3886, 0.0), (3887, 0.0), (3888, 0.01354909485366613), (3889, 0.0), (3890, 0.0), (3891, 0.037664064367220265), (3892, 0.0), (3893, 0.0), (3894, 0.05005336054065584), (3895, 0.01191255988412116), (3896, 0.0), (3897, 0.014981215699757909), (3898, 0.012133347235974628), (3899, 0.0), (3900, 0.0), (3901, 0.0), (3902, 0.0), (3903, 0.026487102388562393), (3904, 0.0), (3905, 0.0), (3906, 0.0), (3907, 0.01393695243532693), (3908, 0.005872153069815295), (3909, 0.014486648868036904), (3910, 0.030123408575957997), (3911, 0.0), (3912, 0.0), (3913, 0.02406962035063489), (3914, 0.0), (3915, 0.016020279451347506), (3916, 0.022950450097484296), (3917, 0.01329795330932575), (3918, 0.0), (3919, 0.016579711901267107), (3920, 0.0), (3921, 0.022662298734527863), (3922, 0.0), (3923, 0.012263332973128562), (3924, 0.011886408649201303), (3925, 0.0), (3926, 0.04423481242155792), (3927, 0.013235849489840124), (3928, 0.0), (3929, 0.0), (3930, 0.0), (3931, 0.0), (3932, 0.011692894552039949), (3933, 0.07017440086342308), (3934, 0.0), (3935, 0.0), (3936, 0.0), (3937, 0.04167669882033441), (3938, 0.013435112530120401), (3939, 0.0), (3940, 0.02166903351436033), (3941, 0.0), (3942, 0.0), (3943, 0.025224129517356933), (3944, 0.0), (3945, 0.0), (3946, 0.016916972327864967), (3947, 0.006611269064256033), (3948, 0.010412122267774456), (3949, 0.019434562888265876), (3950, 0.01370151852485459), (3951, 0.018164786249578787), (3952, 0.0), (3953, 0.005350344616204369), (3954, 0.02637305499181869), (3955, 0.005822299788474889), (3956, 0.0), (3957, 0.012863841827090999), (3958, 0.005761926698891727), (3959, 0.0), (3960, 0.012190389318546884), (3961, 0.0), (3962, 0.0), (3963, 0.028015093721526642), (3964, 0.02199132444312873), (3965, 0.04744697604499354), (3966, 0.010106163167250336), (3967, 0.0), (3968, 0.14842391937678712), (3969, 0.030738192367759667), (3970, 0.04567978684226861), (3971, 0.0), (3972, 0.10455994483428954), (3973, 0.016631249749785307), (3974, 0.0), (3975, 0.0), (3976, 0.0), (3977, 0.014617083732024881), (3978, 0.005672171190395804), (3979, 0.15884871664999092), (3980, 0.029502873680151434), (3981, 0.0), (3982, 0.11121689448674581), (3983, 0.04030055180510994), (3984, 0.0), (3985, 0.0), (3986, 0.0), (3987, 0.0), (3988, 0.0), (3989, 0.0), (3990, 0.037697073930787736), (3991, 0.007289236921525043), (3992, 0.0), (3993, 0.005364076853869817), (3994, 0.0), (3995, 0.02052896060572322), (3996, 0.0), (3997, 0.021156688551218543), (3998, 0.020573127967454988), (3999, 0.01553658682125892), (4000, 0.0), (4001, 0.0734749161955986), (4002, 0.0), (4003, 0.015115557207129895), (4004, 0.028652720890027863), (4005, 0.006229112615581196), (4006, 0.0), (4007, 0.04269984163041121), (4008, 0.016071545794688873), (4009, 0.03308709405700029), (4010, 0.01614684474104153), (4011, 0.010961632991430294), (4012, 0.0058465521750408755), (4013, 0.014539045372151872), (4014, 0.0), (4015, 0.013823612604914978), (4016, 0.007659332262849263), (4017, 0.018646678720401717), (4018, 0.0), (4019, 0.11484086232601902), (4020, 0.020503212028959522), (4021, 0.0), (4022, 0.0), (4023, 0.015943541403239277), (4024, 0.013671125862299389), (4025, 0.01620540988679127), (4026, 0.0), (4027, 0.0), (4028, 0.0), (4029, 0.0), (4030, 0.0), (4031, 0.008879327195584113), (4032, 0.018077553237414352), (4033, 0.019049986826219452), (4034, 0.03463534651642014), (4035, 0.013594249816190502), (4036, 0.018953438880127373), (4037, 0.005494511934782013), (4038, 0.006251011106833178), (4039, 0.005709972174679379), (4040, 0.0), (4041, 0.0998528136766509), (4042, 0.0), (4043, 0.0), (4044, 0.005467779522295901), (4045, 0.006061822681158348), (4046, 0.021163195124335413), (4047, 0.01898494031455389), (4048, 0.0), (4049, 0.0), (4050, 0.0), (4051, 0.0), (4052, 0.01666383592250529), (4053, 0.05003837816057205), (4054, 0.026837271175763795), (4055, 0.03681457078592199), (4056, 0.013802805901089621), (4057, 0.0140438111535805), (4058, 0.016861503279612545), (4059, 0.0), (4060, 0.014237378896462403), (4061, 0.07292552403367299), (4062, 0.034691189186702484), (4063, 0.0), (4064, 0.0), (4065, 0.0), (4066, 0.0), (4067, 0.018344682732751767), (4068, 0.005901921324980209), (4069, 0.0), (4070, 0.1370475112464452), (4071, 0.05232532529902863), (4072, 0.0), (4073, 0.0), (4074, 0.047652069292685756), (4075, 0.1090638491726715), (4076, 0.05041480348874755), (4077, 0.03191725594021712), (4078, 0.013923136446037453), (4079, 0.025050474365869956), (4080, 0.0), (4081, 0.013479299813295199), (4082, 0.0), (4083, 0.0), (4084, 0.0), (4085, 0.0), (4086, 0.008358870332455247), (4087, 0.0), (4088, 0.005831904313382125), (4089, 0.0), (4090, 0.03082909040284765), (4091, 0.014766495658974468), (4092, 0.028493559003152025), (4093, 0.0376326102082774), (4094, 0.012572856505350062), (4095, 0.015500813101023959), (4096, 0.0), (4097, 0.0), (4098, 0.021108877077731), (4099, 0.04119135732636545), (4100, 0.006079816544704082), (4101, 0.026790200731215554), (4102, 0.0), (4103, 0.04208577731854469), (4104, 0.0), (4105, 0.0), (4106, 0.013867285893291574), (4107, 0.0), (4108, 0.0), (4109, 0.0278551040780525), (4110, 0.02599452468588716), (4111, 0.0), (4112, 0.013067811243696874), (4113, 0.0), (4114, 0.005083002107918134), (4115, 0.0), (4116, 0.006280117981054448), (4117, 0.012277669593132529), (4118, 0.008325081582092659), (4119, 0.0063955733855257475), (4120, 0.0), (4121, 0.006622350000594141), (4122, 0.020657435055627744), (4123, 0.0), (4124, 0.0), (4125, 0.0155852551921388), (4126, 0.0), (4127, 0.0), (4128, 0.013529110454187135), (4129, 0.0), (4130, 0.014858051923831484), (4131, 0.006537429268464495), (4132, 0.05822318766044708), (4133, 0.0), (4134, 0.021690199314351236), (4135, 0.0), (4136, 0.02655969601401427), (4137, 0.0), (4138, 0.0), (4139, 0.02486503968841466), (4140, 0.0), (4141, 0.02832567323708832), (4142, 0.03556230538912612), (4143, 0.015040898729275162), (4144, 0.0360968912460287), (4145, 0.0), (4146, 0.0), (4147, 0.012753510161890672), (4148, 0.005828551608572568), (4149, 0.0), (4150, 0.0), (4151, 0.0), (4152, 0.007276386718569075), (4153, 0.025019798641628704), (4154, 0.0), (4155, 0.024678032184536833), (4156, 0.04059199493530746), (4157, 0.05295660898048209), (4158, 0.013322187976562677), (4159, 0.012917702385748055), (4160, 0.0084072575168887), (4161, 0.0), (4162, 0.0), (4163, 0.0), (4164, 0.030285594097450585), (4165, 0.0309801073801046), (4166, 0.0), (4167, 0.012429343294346296), (4168, 0.007831922391063008), (4169, 0.02793094097151359), (4170, 0.0), (4171, 0.026349281109128424), (4172, 0.0), (4173, 0.014836494551190012), (4174, 0.01816644755043533), (4175, 0.013313497724149179), (4176, 0.0), (4177, 0.022862591084609366), (4178, 0.0), (4179, 0.0), (4180, 0.0), (4181, 0.0889429764808896), (4182, 0.07242644703478185), (4183, 0.02498086192932559), (4184, 0.0), (4185, 0.006428368485730574), (4186, 0.025007430108062806), (4187, 0.0), (4188, 0.02511988538645981), (4189, 0.0350856989050878), (4190, 0.0), (4191, 0.010507665376814607), (4192, 0.0), (4193, 0.012490599542246227), (4194, 0.026341692886268094), (4195, 0.03629006033249935), (4196, 0.03331026756980518), (4197, 0.0), (4198, 0.0), (4199, 0.050313448597937196), (4200, 0.06646549718311495), (4201, 0.0), (4202, 0.008238787869085998), (4203, 0.034728873101078014), (4204, 0.0), (4205, 0.014217369724418531), (4206, 0.0), (4207, 0.0), (4208, 0.0), (4209, 0.016343491558043162), (4210, 0.05468148433471175), (4211, 0.0412074507179052), (4212, 0.0), (4213, 0.0), (4214, 0.0), (4215, 0.0), (4216, 0.0), (4217, 0.01506323253179603), (4218, 0.032582082987627596), (4219, 0.0), (4220, 0.02461982921180511), (4221, 0.007511569113165755), (4222, 0.0), (4223, 0.0), (4224, 0.013410667923184221), (4225, 0.0), (4226, 0.01692713770496772), (4227, 0.0), (4228, 0.0), (4229, 0.0), (4230, 0.0), (4231, 0.0), (4232, 0.011005390637425876), (4233, 0.04559680658413723), (4234, 0.0), (4235, 0.0), (4236, 0.027202360350218117), (4237, 0.010480835880001238), (4238, 0.04892159173257742), (4239, 0.0), (4240, 0.016472534236464567), (4241, 0.016403084846081262), (4242, 0.013604443297599488), (4243, 0.0), (4244, 0.0069496439174096414), (4245, 0.05579274559721861), (4246, 0.0), (4247, 0.0), (4248, 0.005813421201040981), (4249, 0.006017484361547784), (4250, 0.0), (4251, 0.0), (4252, 0.0), (4253, 0.01342579572561886), (4254, 0.0), (4255, 0.0218022964682755), (4256, 0.014501047336333473), (4257, 0.014647850158989019), (4258, 0.040406343166306265), (4259, 0.016393116229047742), (4260, 0.0), (4261, 0.004349538818353711), (4262, 0.0), (4263, 0.0), (4264, 0.0057268818498791415), (4265, 0.0), (4266, 0.0), (4267, 0.0), (4268, 0.03603885637840098), (4269, 0.008317396368263504), (4270, 0.05114165935892334), (4271, 0.0), (4272, 0.027762722157756273), (4273, 0.0), (4274, 0.05174920086562127), (4275, 0.0), (4276, 0.006547476740269694), (4277, 0.0), (4278, 0.0), (4279, 0.011250816203214848), (4280, 0.0), (4281, 0.0), (4282, 0.0), (4283, 0.013818297687134558), (4284, 0.0), (4285, 0.006849812619658467), (4286, 0.014556604484112005), (4287, 0.033628579274810236), (4288, 0.007935835837102797), (4289, 0.05942586588273491), (4290, 0.0), (4291, 0.0), (4292, 0.02925206043524627), (4293, 0.0066699575199054085), (4294, 0.057552423031262255), (4295, 0.015826568741701377), (4296, 0.0), (4297, 0.0), (4298, 0.017351192088894803), (4299, 0.0), (4300, 0.007751827390331803), (4301, 0.0), (4302, 0.0), (4303, 0.022435709222945938), (4304, 0.014438088770280274), (4305, 0.0274858168863928), (4306, 0.0), (4307, 0.035813138262129285), (4308, 0.0411403647606497), (4309, 0.0), (4310, 0.005794216448822176), (4311, 0.0), (4312, 0.03395057495746312), (4313, 0.04627638635264666), (4314, 0.02666117822929464), (4315, 0.0), (4316, 0.016786387933195222), (4317, 0.0), (4318, 0.0), (4319, 0.01267512632885492), (4320, 0.0261027824185322), (4321, 0.011890400421235858), (4322, 0.0), (4323, 0.020653099048353562), (4324, 0.028089151743593617), (4325, 0.02962174907585935), (4326, 0.0), (4327, 0.0), (4328, 0.005463247349600415), (4329, 0.0), (4330, 0.013720218962069363), (4331, 0.0), (4332, 0.0), (4333, 0.0), (4334, 0.0), (4335, 0.0324362803372093), (4336, 0.015170462632576287), (4337, 0.06763797336896199), (4338, 0.037917928575252315), (4339, 0.0), (4340, 0.0), (4341, 0.009023238500435762), (4342, 0.042735651597611515), (4343, 0.03248318985789893), (4344, 0.024692251859401576), (4345, 0.005511092611588665), (4346, 0.01321122006917413), (4347, 0.0080501990890002), (4348, 0.013974730884475798), (4349, 0.0), (4350, 0.023315490998639114), (4351, 0.038883019565972884), (4352, 0.0), (4353, 0.05012852196779832), (4354, 0.008064519368386511), (4355, 0.040816813233948666), (4356, 0.014341527540443629), (4357, 0.01325927991827098), (4358, 0.0), (4359, 0.0), (4360, 0.0), (4361, 0.0), (4362, 0.0), (4363, 0.0), (4364, 0.02156040472125432), (4365, 0.0), (4366, 0.030025045784952846), (4367, 0.02766755195670148), (4368, 0.015452953529784404), (4369, 0.030166161888535284), (4370, 0.05303614916211865), (4371, 0.01683939167940018), (4372, 0.0), (4373, 0.016318675772293196), (4374, 0.028648909020437117), (4375, 0.0), (4376, 0.005978216257363816), (4377, 0.0), (4378, 0.05340557032362929), (4379, 0.006059228692866036), (4380, 0.011192360763899034), (4381, 0.0), (4382, 0.013163101841768962), (4383, 0.0), (4384, 0.019685386686365092), (4385, 0.01346954288531877), (4386, 0.0), (4387, 0.0), (4388, 0.04449819030784481), (4389, 0.0), (4390, 0.006151496637154714), (4391, 0.0), (4392, 0.020735405479328638), (4393, 0.006630219745751187), (4394, 0.0), (4395, 0.0), (4396, 0.0), (4397, 0.0), (4398, 0.0), (4399, 0.0), (4400, 0.0), (4401, 0.1357285833191937), (4402, 0.0), (4403, 0.0), (4404, 0.0), (4405, 0.030558848636324545), (4406, 0.11782572061923727), (4407, 0.0), (4408, 0.0), (4409, 0.012279934140166926), (4410, 0.03474972801559921), (4411, 0.0), (4412, 0.0), (4413, 0.0), (4414, 0.014981043183479698), (4415, 0.07885633180672094), (4416, 0.0), (4417, 0.0), (4418, 0.00982926506482247), (4419, 0.027149617512478103), (4420, 0.027437902339857108), (4421, 0.0), (4422, 0.0), (4423, 0.0), (4424, 0.0), (4425, 0.0), (4426, 0.009342593150678164), (4427, 0.01947631528240751), (4428, 0.007416294720505168), (4429, 0.005160565987509254), (4430, 0.006086864324203766), (4431, 0.0), (4432, 0.0051280956816124644), (4433, 0.02987774558026165), (4434, 0.0), (4435, 0.0060794480794892376), (4436, 0.02351483499648447), (4437, 0.0), (4438, 0.0), (4439, 0.012497327465772444), (4440, 0.0434980227480701), (4441, 0.010119440557869086), (4442, 0.0), (4443, 0.11025375716288331), (4444, 0.02546723148942468), (4445, 0.012646443601157957), (4446, 0.0160844453946662), (4447, 0.017820169012083928), (4448, 0.0), (4449, 0.0), (4450, 0.005244585413810033), (4451, 0.012637405177048913), (4452, 0.0), (4453, 0.006336439459154216), (4454, 0.022071383496134103), (4455, 0.02450593701424826), (4456, 0.013828119570450503), (4457, 0.007809791692427034), (4458, 0.0), (4459, 0.014686009204386835), (4460, 0.015304768238347241), (4461, 0.0), (4462, 0.006534421826508186), (4463, 0.03189453766979555), (4464, 0.018101093003674504), (4465, 0.0), (4466, 0.06589719763340901), (4467, 0.06708927223419522), (4468, 0.0), (4469, 0.0), (4470, 0.013036762716621665), (4471, 0.0), (4472, 0.018827266858692925), (4473, 0.0), (4474, 0.0), (4475, 0.0118970381620156), (4476, 0.0), (4477, 0.006951757395962344), (4478, 0.02052767144751027), (4479, 0.01145936865224407), (4480, 0.0), (4481, 0.005686042312464271), (4482, 0.019118026143521465), (4483, 0.0), (4484, 0.0), (4485, 0.0), (4486, 0.021623065247797578), (4487, 0.019608831512830292), (4488, 0.0), (4489, 0.0), (4490, 0.006927112529992576), (4491, 0.01505060175068427), (4492, 0.008148152123992065), (4493, 0.1206123701474888), (4494, 0.0), (4495, 0.0), (4496, 0.05509600511202203), (4497, 0.0), (4498, 0.03397038543047523), (4499, 0.0), (4500, 0.0), (4501, 0.034393022324596456), (4502, 0.012550041862653072), (4503, 0.005900632438094188), (4504, 0.013243324613315453), (4505, 0.0), (4506, 0.0), (4507, 0.0), (4508, 0.0), (4509, 0.025102226229263905), (4510, 0.013278978905910135), (4511, 0.015128373545845345), (4512, 0.0), (4513, 0.0), (4514, 0.0), (4515, 0.0), (4516, 0.021921868579022043), (4517, 0.030353883798362853), (4518, 0.01642470648158316), (4519, 0.006694289893123218), (4520, 0.0), (4521, 0.0), (4522, 0.0), (4523, 0.020257667049568558), (4524, 0.018087067006116373), (4525, 0.04007452619344144), (4526, 0.009174739202502419), (4527, 0.0), (4528, 0.0), (4529, 0.0), (4530, 0.0), (4531, 0.03390137774873447), (4532, 0.025440221209493557), (4533, 0.021741037369369838), (4534, 0.016173566300334504), (4535, 0.00862832007690609), (4536, 0.0), (4537, 0.0), (4538, 0.0), (4539, 0.0), (4540, 0.0), (4541, 0.0), (4542, 0.011230580385452897), (4543, 0.03410990580569201), (4544, 0.017720505291773627), (4545, 0.0), (4546, 0.0), (4547, 0.0), (4548, 0.022981989393912168), (4549, 0.006376430643239125), (4550, 0.013191473551418094), (4551, 0.011648551034013358), (4552, 0.041247204469483004), (4553, 0.005205619260787132), (4554, 0.0182093704889247), (4555, 0.0), (4556, 0.0), (4557, 0.052143721060848), (4558, 0.0), (4559, 0.0), (4560, 0.014077557147369085), (4561, 0.0), (4562, 0.0), (4563, 0.01406102130578766), (4564, 0.1469499838726209), (4565, 0.0), (4566, 0.03802666127035155), (4567, 0.010480712804928252), (4568, 0.005501944634869551), (4569, 0.01791867582386297), (4570, 0.008896409295715316), (4571, 0.0), (4572, 0.0), (4573, 0.00589767029689), (4574, 0.014532334573685291), (4575, 0.0), (4576, 0.038626712791741964), (4577, 0.0), (4578, 0.0), (4579, 0.0), (4580, 0.015516779068537703), (4581, 0.05053603779724142), (4582, 0.012066141089795205), (4583, 0.0), (4584, 0.016302209672887737), (4585, 0.0), (4586, 0.020823032434120325), (4587, 0.02332022627025089), (4588, 0.007333858593111098), (4589, 0.016025387301177283), (4590, 0.01743832509768909), (4591, 0.0054718499059598), (4592, 0.0), (4593, 0.0), (4594, 0.0), (4595, 0.0), (4596, 0.05742139484958455), (4597, 0.006888941309594373), (4598, 0.0), (4599, 0.0), (4600, 0.005444040348028254), (4601, 0.0), (4602, 0.0), (4603, 0.01491216920808855), (4604, 0.0), (4605, 0.031251711588317896), (4606, 0.021641139693845353), (4607, 0.016130855772539365), (4608, 0.005161301358982399), (4609, 0.08597038001151752), (4610, 0.013135379535569952), (4611, 0.015083270322632777), (4612, 0.0), (4613, 0.042573925301780634), (4614, 0.0), (4615, 0.0), (4616, 0.0), (4617, 0.0), (4618, 0.0), (4619, 0.006623979424044286), (4620, 0.0), (4621, 0.014462389146997188), (4622, 0.0), (4623, 0.02409446263388001), (4624, 0.0), (4625, 0.0), (4626, 0.011274234296510973), (4627, 0.011696179984004153), (4628, 0.053981725766493266), (4629, 0.006153682409451278), (4630, 0.03751610212589224), (4631, 0.007375447877020931), (4632, 0.016147701690593874), (4633, 0.0), (4634, 0.0), (4635, 0.0), (4636, 0.0), (4637, 0.0), (4638, 0.0), (4639, 0.014512167726700711), (4640, 0.0), (4641, 0.024404811374607333), (4642, 0.00685788949136087), (4643, 0.022228260860234737), (4644, 0.0), (4645, 0.0), (4646, 0.026540757817627936), (4647, 0.05987853373252246), (4648, 0.0), (4649, 0.03194331492074292), (4650, 0.01223012569072004), (4651, 0.0), (4652, 0.06663408740323629), (4653, 0.007011280155839219), (4654, 0.0), (4655, 0.03084884521382961), (4656, 0.006292663764850334), (4657, 0.0), (4658, 0.03815087997310017), (4659, 0.006298990183413063), (4660, 0.0), (4661, 0.01735441552371366), (4662, 0.020654760698215598), (4663, 0.044857398869584064), (4664, 0.0), (4665, 0.0), (4666, 0.007861319287885771), (4667, 0.02720108328400509), (4668, 0.033583841605008546), (4669, 0.0), (4670, 0.0), (4671, 0.0), (4672, 0.0), (4673, 0.0057818847729849895), (4674, 0.017450518196632833), (4675, 0.0), (4676, 0.04376754189164593), (4677, 0.010801751610555485), (4678, 0.0), (4679, 0.0), (4680, 0.0), (4681, 0.0), (4682, 0.02074694751255384), (4683, 0.010887703322688343), (4684, 0.005957266482777245), (4685, 0.01605009668635172), (4686, 0.0), (4687, 0.014552646793015109), (4688, 0.02495857806483578), (4689, 0.0), (4690, 0.005415228367747558), (4691, 0.0), (4692, 0.0), (4693, 0.0), (4694, 0.0), (4695, 0.016140962366091045), (4696, 0.0), (4697, 0.0), (4698, 0.007168435139793479), (4699, 0.0), (4700, 0.0), (4701, 0.0), (4702, 0.0), (4703, 0.01448414991212486), (4704, 0.0), (4705, 0.008468020604511387), (4706, 0.0), (4707, 0.0), (4708, 0.01950437166539689), (4709, 0.007768562852878103), (4710, 0.0), (4711, 0.0), (4712, 0.0), (4713, 0.0), (4714, 0.0), (4715, 0.0), (4716, 0.006122569091156971), (4717, 0.0), (4718, 0.0), (4719, 0.0), (4720, 0.0), (4721, 0.0), (4722, 0.0), (4723, 0.007171252511588205), (4724, 0.0), (4725, 0.025780134489651586), (4726, 0.0486431648049257), (4727, 0.006266529174800097), (4728, 0.0), (4729, 0.0), (4730, 0.0), (4731, 0.0), (4732, 0.014834995117966189), (4733, 0.004986915534464753), (4734, 0.0), (4735, 0.01475945191901583), (4736, 0.010711779702338452), (4737, 0.0), (4738, 0.01580980006302284), (4739, 0.04369523825882084), (4740, 0.0), (4741, 0.0299702479244073), (4742, 0.02840585886448392), (4743, 0.029679551982263665), (4744, 0.010357684849782143), (4745, 0.006017743644131071), (4746, 0.0), (4747, 0.04184135475733031), (4748, 0.025475981150356954), (4749, 0.018319513527333183), (4750, 0.0), (4751, 0.0), (4752, 0.02809118647699331), (4753, 0.0), (4754, 0.03246130872740013), (4755, 0.0), (4756, 0.011146187924648844), (4757, 0.0), (4758, 0.0), (4759, 0.0)]\n"
          ]
        }
      ]
    },
    {
      "cell_type": "code",
      "source": [
        "len(Recommendation_Score)"
      ],
      "metadata": {
        "colab": {
          "base_uri": "https://localhost:8080/"
        },
        "id": "I68dvfM_oJKh",
        "outputId": "7c60032b-a409-4136-f0ca-282d7e74c176"
      },
      "execution_count": 56,
      "outputs": [
        {
          "output_type": "execute_result",
          "data": {
            "text/plain": [
              "4760"
            ]
          },
          "metadata": {},
          "execution_count": 56
        }
      ]
    },
    {
      "cell_type": "code",
      "source": [
        "Sorted_Similar_Movies = sorted(Recommendation_Score, key = lambda x:x[1], reverse = True)\n",
        "print(Sorted_Similar_Movies)"
      ],
      "metadata": {
        "colab": {
          "base_uri": "https://localhost:8080/"
        },
        "id": "G-03g8bmoRe9",
        "outputId": "d0920c90-279c-4bea-f34a-6e033a09ec6c"
      },
      "execution_count": 57,
      "outputs": [
        {
          "output_type": "stream",
          "name": "stdout",
          "text": [
            "[(231, 1.0), (232, 0.4577976443839418), (230, 0.29590885567711284), (3630, 0.17442747461087954), (2582, 0.16142028271544798), (3979, 0.15884871664999092), (1799, 0.15335699053241583), (3968, 0.14842391937678712), (4564, 0.1469499838726209), (1494, 0.1459696706749464), (85, 0.14403866620446337), (3604, 0.1430349324680955), (1009, 0.14279799314837663), (464, 0.14106087471465967), (3695, 0.14013821049640732), (1603, 0.1382906013241624), (2037, 0.13801238661696555), (4070, 0.1370475112464452), (4401, 0.1357285833191937), (2517, 0.13181188574708214), (1762, 0.13163151377431143), (1401, 0.1289874296541704), (1579, 0.1276919278847865), (385, 0.12447014684847849), (18, 0.12423744990200891), (2205, 0.12376353838470697), (4493, 0.1206123701474888), (3132, 0.11890138048954493), (3786, 0.11859245579569974), (2940, 0.11850217636026045), (1279, 0.11850157033160125), (4406, 0.11782572061923727), (3134, 0.11669769337160957), (4019, 0.11484086232601902), (594, 0.11455212299305163), (1346, 0.11360613624962285), (1382, 0.112967606358107), (1172, 0.11175415915434248), (2850, 0.11159946689672783), (3982, 0.11121689448674581), (2510, 0.11111229856466259), (122, 0.11072355164563022), (4443, 0.11025375716288331), (615, 0.10995883361466337), (3597, 0.10941446306476409), (850, 0.1090828948434505), (4075, 0.1090638491726715), (490, 0.10896449632521055), (181, 0.10894335666640383), (2859, 0.108521389434914), (2036, 0.10649438426692287), (218, 0.10541833610810744), (3133, 0.10533844806644807), (3972, 0.10455994483428954), (3469, 0.10433738881607146), (1549, 0.10344561272906001), (565, 0.10303131656826475), (1157, 0.10218572047247546), (1111, 0.1003844031443138), (1839, 0.10017551516363726), (1265, 0.10003742453995451), (4041, 0.0998528136766509), (1848, 0.09949755044773298), (1074, 0.09917206215271071), (1743, 0.09820578656412698), (1090, 0.0971567321083636), (1982, 0.09699206185311655), (3655, 0.09580547922057281), (130, 0.09563593738795169), (3646, 0.09548933594814563), (1386, 0.09393897599814674), (1964, 0.09312753163979937), (2114, 0.09191478655030877), (338, 0.09119581864867422), (666, 0.09072647753592816), (957, 0.08995402679593668), (3163, 0.08969934201273735), (2560, 0.08953285961268445), (15, 0.08935375335994769), (1412, 0.08926945190154349), (4181, 0.0889429764808896), (1292, 0.08881321417019963), (2359, 0.0884665891893062), (269, 0.08823134318745572), (3783, 0.08782641415003788), (169, 0.08729944713661174), (715, 0.08669902589222556), (275, 0.0862247444210398), (1363, 0.08614436416161834), (4609, 0.08597038001151752), (2538, 0.0859144691738), (155, 0.0857106854605324), (125, 0.08560513787326615), (1649, 0.08498313642144169), (1114, 0.08479451430373076), (1860, 0.08444953192976767), (3405, 0.08340536458872523), (3403, 0.08291464421379091), (1948, 0.08266919549808487), (3690, 0.08263611519423293), (572, 0.08260772410898849), (2766, 0.08219690294460036), (525, 0.08198916427188138), (3634, 0.08196000127665228), (2843, 0.08194421184771813), (706, 0.0813801295891141), (1714, 0.08103986207501583), (1654, 0.0807149632033059), (3723, 0.08066744973944077), (1254, 0.08009174620329859), (3747, 0.07995207070796928), (1787, 0.07971267094584203), (491, 0.07953683219265431), (3879, 0.07951646813403271), (3342, 0.07944630575841848), (648, 0.07921748094369298), (356, 0.07918281473327321), (538, 0.0789143461021958), (1374, 0.07891057914820776), (4415, 0.07885633180672094), (2174, 0.07871501942774517), (1788, 0.07860269722816883), (2051, 0.07826678872869046), (2035, 0.07824950767277865), (3366, 0.078116029106512), (567, 0.07807928208379397), (2058, 0.07798009787791743), (537, 0.07786300949043479), (475, 0.0777979435714082), (598, 0.07614500860392556), (1798, 0.07581683464756445), (1841, 0.07555916688463495), (3091, 0.0747896351449254), (2301, 0.07452615351366954), (1398, 0.07446494755200835), (2294, 0.07436355143829296), (1690, 0.07399042760751695), (1871, 0.07366616807385011), (1903, 0.0736046365406749), (4001, 0.0734749161955986), (1278, 0.07305766168916128), (4061, 0.07292552403367299), (178, 0.07290934753656815), (4182, 0.07242644703478185), (1460, 0.07184063335133163), (229, 0.07071858509236095), (3130, 0.07055536802450299), (1698, 0.07028076994417734), (3933, 0.07017440086342308), (1967, 0.06986438056053726), (1655, 0.06917068731819469), (697, 0.06880659161090726), (906, 0.06855645575960069), (355, 0.06840666515860067), (3509, 0.06831240186451455), (204, 0.0682925935263665), (1580, 0.06825799974133777), (339, 0.06820424123853572), (2494, 0.06814327354022776), (1094, 0.06794657883629315), (4337, 0.06763797336896199), (1616, 0.06758700931299279), (1016, 0.0672859313870858), (4467, 0.06708927223419522), (1341, 0.0669661999730064), (1599, 0.06669479474182571), (4652, 0.06663408740323629), (472, 0.06662505573530063), (4200, 0.06646549718311495), (618, 0.0664605560465819), (1475, 0.06631259411804236), (838, 0.06618691551963224), (343, 0.06591533488595999), (4466, 0.06589719763340901), (582, 0.06560395751367594), (449, 0.06501207193259995), (1935, 0.06484864093183174), (1929, 0.06445996018957668), (3692, 0.0644445803757826), (737, 0.06396708227093645), (487, 0.06384704439221539), (2116, 0.06355922582481102), (921, 0.06328031197728543), (2815, 0.06307138963797902), (763, 0.06306984599244328), (3069, 0.062975241164593), (1510, 0.06246290135739169), (2198, 0.06232747484433637), (2831, 0.062262812853852934), (1718, 0.06203429147875161), (442, 0.06185436189908838), (1129, 0.06177419778719387), (1709, 0.06155751095269498), (2646, 0.061475546304964324), (1897, 0.06142232130308938), (2027, 0.06113356020118659), (24, 0.061041315605585574), (1764, 0.061009693011250185), (1517, 0.060979815986828764), (1403, 0.060623233843331126), (1045, 0.060568472345833), (794, 0.0602404061136436), (814, 0.05996280616834288), (1134, 0.05994054938495233), (812, 0.059922776970202915), (359, 0.05990146475865167), (4647, 0.05987853373252246), (553, 0.05982736256465898), (1249, 0.05971242775918437), (2513, 0.059693211061456516), (2567, 0.05956093072241392), (4289, 0.05942586588273491), (530, 0.059363933920550414), (193, 0.059355688454805586), (54, 0.0590162115568332), (307, 0.05879663293616044), (1913, 0.05877995665137254), (931, 0.05843020405985426), (4132, 0.05822318766044708), (3376, 0.05805042077624964), (914, 0.05802864208520432), (3623, 0.05802677200678602), (3190, 0.05793220123425406), (1942, 0.05778414973478094), (3463, 0.05775408684514896), (2234, 0.05760008930071279), (3598, 0.057566321951630646), (4294, 0.057552423031262255), (1911, 0.05750448583153529), (3689, 0.057485352686443), (4596, 0.05742139484958455), (298, 0.05739074722404819), (1493, 0.05735887589346918), (2382, 0.05723743536529424), (2955, 0.05692230478497592), (2682, 0.05690234168684111), (399, 0.056850456384980604), (566, 0.0568229135301847), (381, 0.05670407611667688), (506, 0.05664572680235283), (3870, 0.05626775615865645), (3186, 0.05625208176816502), (774, 0.05616837998193587), (2437, 0.05615378636922484), (1162, 0.05614620550515631), (1269, 0.056128121256179414), (79, 0.056126966750275724), (1464, 0.05612115575215304), (3202, 0.05605774239258005), (1470, 0.05601775673156548), (1033, 0.05587552199455319), (4245, 0.05579274559721861), (2265, 0.05569002294775252), (555, 0.05533877780408665), (2085, 0.05510349660221867), (4496, 0.05509600511202203), (328, 0.05500992093452852), (3083, 0.055006444318469946), (936, 0.054944476593895106), (322, 0.05482160925671293), (4210, 0.05468148433471175), (2902, 0.054641783110061196), (2055, 0.054519494459874744), (108, 0.05447070401137871), (1707, 0.05434731371655922), (2376, 0.054246152666667796), (277, 0.05422733133612782), (2112, 0.05411488956957706), (4628, 0.053981725766493266), (725, 0.0538303762877621), (57, 0.05373447961755934), (4378, 0.05340557032362929), (762, 0.053366763204553525), (3161, 0.0533370220900776), (2844, 0.053226067482827544), (3360, 0.053081662926544745), (67, 0.05308026926337697), (756, 0.05305583476997691), (4370, 0.05303614916211865), (337, 0.05299688104074272), (263, 0.052957341683589385), (4157, 0.05295660898048209), (3404, 0.05273419298023156), (4071, 0.05232532529902863), (3579, 0.05230374870187969), (1443, 0.052293216695933356), (3785, 0.05216244138756746), (4557, 0.052143721060848), (895, 0.05202580100576992), (3235, 0.05190860512213072), (3105, 0.0518489950015934), (1648, 0.05177969715395879), (1263, 0.051779451033752144), (4274, 0.05174920086562127), (3558, 0.051650734937821366), (2740, 0.05158366699217531), (3566, 0.051566912330921755), (3096, 0.05154504171128434), (25, 0.051468753753289444), (86, 0.05125601913244452), (2103, 0.051156381638299914), (4270, 0.05114165935892334), (958, 0.05110815935947967), (1779, 0.05101538150729319), (3515, 0.05060759276503153), (780, 0.05053941676760437), (4581, 0.05053603779724142), (4076, 0.05041480348874755), (1310, 0.05033024099323696), (4199, 0.050313448597937196), (952, 0.050226735826153), (990, 0.05021341191819553), (2101, 0.05020606550714049), (3754, 0.05019813576906523), (3395, 0.05018357652303827), (4353, 0.05012852196779832), (622, 0.05009177097517688), (631, 0.05005955034246827), (3894, 0.05005336054065584), (1977, 0.05004884773903204), (4053, 0.05003837816057205), (2250, 0.049958258178591446), (1920, 0.04992968976012215), (35, 0.049827706900921226), (2124, 0.049806519411439286), (2790, 0.04977236071384583), (2541, 0.049651354909732735), (542, 0.049577088686315954), (630, 0.049326139193101026), (1682, 0.04924657385489167), (902, 0.049226937471978656), (709, 0.0492191376902308), (69, 0.049179312055280436), (1538, 0.04911170399834773), (928, 0.04909094801809101), (2539, 0.04904842872507788), (1305, 0.049041178733919166), (3362, 0.048989762007178375), (924, 0.048922952296335226), (4238, 0.04892159173257742), (2481, 0.04885338473360331), (568, 0.04881830592482465), (6, 0.04876046635033492), (3643, 0.048759261230772365), (3286, 0.04865889098589829), (4726, 0.0486431648049257), (1214, 0.048596805001808005), (3066, 0.04835258084607647), (334, 0.048337550351958976), (1512, 0.048280417547636637), (62, 0.04824540288787118), (1273, 0.048101706882187935), (2553, 0.04806823343839012), (3829, 0.04806106835310053), (923, 0.04805992997434053), (547, 0.04804507717175162), (3384, 0.04798435541431038), (3456, 0.047962781421276884), (1961, 0.04789353008510259), (1026, 0.04788047796219986), (3875, 0.047855620676588134), (3790, 0.047830988028472694), (551, 0.047777871807580245), (4074, 0.047652069292685756), (327, 0.04761354356332721), (3532, 0.047573467112228894), (184, 0.047543578795098164), (3850, 0.04753263351007643), (2668, 0.04745821662443469), (3965, 0.04744697604499354), (353, 0.04742130868871686), (433, 0.04739104372050362), (496, 0.047318244486773395), (1195, 0.04730987584300776), (7, 0.0471230805618929), (2398, 0.0471152159195234), (0, 0.04706952822235737), (3701, 0.04704723689309453), (2211, 0.046980938535123404), (880, 0.046970889239094885), (1688, 0.04684216506305089), (2177, 0.04682905715290775), (579, 0.046818326980107135), (1666, 0.04679909199913935), (455, 0.04673192336345886), (1621, 0.04672606950311248), (1198, 0.04671862564853159), (3309, 0.04661889142586042), (1321, 0.04656114340802518), (3562, 0.046445321682742055), (1678, 0.0463873348426717), (2005, 0.046307151630068724), (994, 0.04628590357168065), (4313, 0.04627638635264666), (514, 0.04623249675808611), (2944, 0.046207345064001884), (3215, 0.04620307473739901), (681, 0.04599406978566008), (3416, 0.04598195292461287), (705, 0.04589141553734611), (995, 0.04581940136048101), (1876, 0.045711218795238553), (477, 0.045697432260739496), (3970, 0.04567978684226861), (3147, 0.045675728660660345), (3299, 0.045628368688145196), (4233, 0.04559680658413723), (1043, 0.045574306117340035), (600, 0.04556996495411289), (425, 0.04543812089433374), (867, 0.04541343741798032), (3111, 0.04538143119567874), (2399, 0.045338827589206675), (2254, 0.04532959363114528), (1118, 0.04514304962614335), (2465, 0.045120363151101774), (1215, 0.04509130804269951), (299, 0.04504357123802988), (3599, 0.04500751299906655), (1934, 0.0449721469805233), (2102, 0.04487276337471296), (4663, 0.044857398869584064), (843, 0.044717160362854544), (1842, 0.0447055370086618), (3834, 0.044682729760523815), (407, 0.04463378210598072), (153, 0.04463212595656091), (1827, 0.04458132015210995), (3518, 0.044533309948005945), (1495, 0.044511139803730795), (342, 0.04450846285255556), (2442, 0.04450072618867449), (4388, 0.04449819030784481), (1308, 0.04445975696181084), (635, 0.044374142932781815), (2712, 0.044318472234613215), (295, 0.04431342053153714), (620, 0.04426183269865404), (3926, 0.04423481242155792), (2506, 0.04419960622005122), (765, 0.044174545558125), (3541, 0.04415615182387886), (3876, 0.04399259774904775), (3385, 0.043991399884238884), (3536, 0.04398708739386917), (173, 0.04397447473710846), (1465, 0.043948165120641675), (2317, 0.04393925943299606), (358, 0.04382951841909831), (2185, 0.0437973221907289), (4676, 0.04376754189164593), (2854, 0.04375954137628577), (3252, 0.043747606285591614), (4739, 0.04369523825882084), (330, 0.043599499568803914), (3694, 0.043596061725080466), (609, 0.043550084352105216), (4440, 0.0434980227480701), (3367, 0.043462249486514136), (752, 0.043442131284195766), (316, 0.04340441488738879), (1046, 0.04335778275970895), (875, 0.043347789261633206), (918, 0.04333026255300354), (2830, 0.043320698359244895), (1418, 0.04331005010582538), (374, 0.043295699498755676), (3706, 0.043295255213358017), (1723, 0.04320145250155739), (2111, 0.04319277103668616), (919, 0.04318120568258837), (1238, 0.04312725899460447), (1365, 0.04309042564938065), (657, 0.04302290977665302), (1600, 0.043010216582038796), (710, 0.042966503941439575), (2688, 0.042893017113584266), (1881, 0.04283879238801984), (78, 0.04283592598791139), (3174, 0.04282956141907203), (1293, 0.04277368399540602), (1329, 0.04275145829894345), (4342, 0.042735651597611515), (4007, 0.04269984163041121), (1988, 0.042659275823083966), (2022, 0.04258990737833622), (4613, 0.042573925301780634), (41, 0.04255626994180712), (3503, 0.04245364949924216), (2421, 0.04244754878735174), (2715, 0.04239625923000844), (874, 0.04238762004692057), (3697, 0.04235087889108417), (2749, 0.042308108219043114), (3668, 0.042189722810192405), (29, 0.042188693328636506), (2330, 0.04214256392776977), (3539, 0.042118676348735576), (992, 0.04210187269125193), (4103, 0.04208577731854469), (1552, 0.042029223657882114), (1426, 0.042022065103532444), (284, 0.04197172279638449), (43, 0.04186866015633944), (4747, 0.04184135475733031), (508, 0.04182779920250012), (3253, 0.041822572265576764), (3451, 0.04179988896840583), (199, 0.04178586540156638), (288, 0.041715483659793745), (3937, 0.04167669882033441), (2908, 0.04166700075659469), (109, 0.04156782728466205), (871, 0.041547460555856036), (970, 0.041485326198961704), (2691, 0.04148070433983042), (1171, 0.0414329124729636), (3801, 0.041402512506643556), (3482, 0.04134014101087409), (1385, 0.041325455394811896), (788, 0.04130968164493693), (56, 0.04128640964317025), (4552, 0.041247204469483004), (528, 0.04122544540081745), (834, 0.04121699188172544), (4211, 0.0412074507179052), (1515, 0.04119567569363829), (4099, 0.04119135732636545), (892, 0.04118422922355815), (4308, 0.0411403647606497), (247, 0.04112727333265235), (2197, 0.041106423486477126), (670, 0.04108384699427936), (1467, 0.04104575254215928), (3555, 0.04095342412153841), (742, 0.0409525671665057), (3304, 0.04085090352940124), (2439, 0.04082374982649856), (4355, 0.040816813233948666), (3802, 0.04079272657917714), (1650, 0.040786461312722525), (118, 0.04077129802731149), (3612, 0.04066036714614041), (4156, 0.04059199493530746), (2474, 0.040556073622485395), (584, 0.04055522682536373), (264, 0.04054257758478395), (391, 0.04052005981161001), (4258, 0.040406343166306265), (1502, 0.04039673262546077), (1038, 0.040387355803844935), (934, 0.04032434687388778), (808, 0.04031388041959531), (3983, 0.04030055180510994), (2285, 0.04029469329949613), (2546, 0.04028193394671295), (278, 0.040244664618852725), (3246, 0.040206052506913725), (3129, 0.04018663775842893), (2637, 0.04018095111952816), (1612, 0.04013459204857911), (4525, 0.04007452619344144), (315, 0.04004899138554629), (948, 0.04003615164350986), (1366, 0.040009018301849504), (2713, 0.04000196057458189), (105, 0.039957664199018), (968, 0.039928368675750794), (2100, 0.03990714146538618), (1880, 0.0398746458786763), (3373, 0.039846943024703985), (2817, 0.039811228734615234), (3444, 0.039794732155381415), (1852, 0.03972176611170158), (899, 0.039708340512096596), (1445, 0.03968916650994388), (1369, 0.03968746143919218), (1524, 0.039658020343889266), (3320, 0.03952878048334114), (3582, 0.03950410261060709), (966, 0.03948741856249317), (3746, 0.039471384553850714), (1237, 0.03947003796266847), (161, 0.039444638676168244), (1522, 0.039433626266112146), (1901, 0.03942937487611919), (821, 0.039417046051918724), (835, 0.03938004951448756), (1069, 0.0393065768628877), (2642, 0.03929664717692336), (2587, 0.03921486129717993), (2397, 0.039209958430940786), (32, 0.039005815524343554), (833, 0.039005631948163394), (1314, 0.03892058622054964), (1023, 0.038886021188978645), (4351, 0.038883019565972884), (2019, 0.03883809047756995), (3420, 0.038741484671784496), (88, 0.03871231693888756), (714, 0.038705353413325996), (2153, 0.038673529503959386), (1367, 0.038668186528689405), (4576, 0.038626712791741964), (3284, 0.038568795398940856), (775, 0.03852771795697693), (172, 0.03852408226705657), (3184, 0.03847523193503803), (465, 0.038446994048440104), (1266, 0.03829043871000608), (3387, 0.038266755852595584), (519, 0.03821116308941201), (182, 0.038181760497627115), (663, 0.03816646753210946), (9, 0.038164985205250496), (2520, 0.03815209355013539), (4658, 0.03815087997310017), (1604, 0.0381014392050399), (2443, 0.0380864349892242), (2979, 0.03806826547428568), (4566, 0.03802666127035155), (2780, 0.038000581441574026), (3264, 0.037963848881992494), (3141, 0.03794212172703483), (4338, 0.037917928575252315), (2206, 0.0378806516281608), (1677, 0.03787551220615535), (692, 0.03785518896729111), (3680, 0.03783633206642613), (3726, 0.03779623524951944), (142, 0.03778864291444249), (3450, 0.03773993612985887), (3990, 0.037697073930787736), (3891, 0.037664064367220265), (3315, 0.03765870317895669), (4093, 0.0376326102082774), (2, 0.03763153542398535), (3607, 0.03760856461841977), (3811, 0.03752082574366634), (4630, 0.03751610212589224), (2555, 0.03749160842224665), (1383, 0.03747606703117734), (977, 0.03745747758195346), (1662, 0.037420220830588165), (363, 0.03739084295173069), (3732, 0.03738584460411714), (1525, 0.03737946785216522), (822, 0.03734517085356575), (426, 0.03724525456115041), (2603, 0.037138618176351806), (1774, 0.03711267896736784), (522, 0.03707112683586813), (317, 0.03699458940860178), (1057, 0.03698032171685905), (340, 0.03697349789426253), (2221, 0.036877250209952875), (748, 0.0368701691091125), (2062, 0.03684713575540406), (1257, 0.036839514563893845), (1567, 0.0368312789559658), (4055, 0.03681457078592199), (3554, 0.0368059029181949), (3192, 0.03678523458480796), (883, 0.03675153690591913), (3724, 0.03672583897211863), (1296, 0.036662828502164076), (3346, 0.03664640263689443), (1957, 0.036640853713274114), (778, 0.03663813463584338), (324, 0.03662348548104055), (434, 0.036604574788166595), (1245, 0.036538004054729914), (60, 0.036529665215816014), (1115, 0.03650639535806989), (2181, 0.036467705314480826), (3051, 0.03642892724637434), (1772, 0.03632749672967879), (1809, 0.03631977787347984), (2981, 0.03631953967548938), (4195, 0.03629006033249935), (404, 0.036247254273925944), (671, 0.036189783006900976), (1423, 0.03617465893976457), (3228, 0.036167502872606366), (3043, 0.036151435072666875), (498, 0.03614609018380008), (301, 0.036134065419455866), (1316, 0.03612457463079934), (87, 0.03611719855844784), (548, 0.03611302276328452), (2000, 0.03609718878940153), (4144, 0.0360968912460287), (4268, 0.03603885637840098), (1397, 0.03601100076044831), (1155, 0.03599440673600653), (616, 0.035928808813877486), (323, 0.03591321277023962), (1692, 0.03591262641895312), (136, 0.035901479129010844), (1932, 0.035868987949247345), (1937, 0.03586303960499649), (527, 0.03585992234393702), (332, 0.035819655898285646), (241, 0.03581463493587528), (4307, 0.035813138262129285), (3658, 0.03580253534425148), (336, 0.03578216353940173), (162, 0.035764959614246514), (365, 0.035755756861284196), (614, 0.035743714558641226), (2167, 0.03566650550722155), (1721, 0.03566000093140066), (882, 0.03562640032911422), (1454, 0.03560588876986707), (4142, 0.03556230538912612), (1843, 0.03554481754876864), (1229, 0.035479806487801635), (373, 0.035453259316351224), (123, 0.035411180089149896), (1675, 0.035408973179915225), (350, 0.03539909248463496), (2788, 0.03539090893813456), (3325, 0.035367598835357984), (3826, 0.03536457433609595), (252, 0.035265278517945385), (1004, 0.03525100828312069), (949, 0.03524418802079485), (3467, 0.03523518329024185), (1345, 0.03523497813489133), (758, 0.0352294674074386), (1696, 0.03520714942807789), (2463, 0.03517971086471321), (3181, 0.035173076969631546), (1706, 0.03515702455558246), (1821, 0.035109355320343476), (2125, 0.035108794995051776), (2158, 0.035108788352967546), (4189, 0.0350856989050878), (2052, 0.034971352709053743), (3849, 0.03494037770509795), (1908, 0.034815664580240165), (2413, 0.03480293210276478), (1529, 0.03477662382201291), (121, 0.03476217133613396), (4410, 0.03474972801559921), (3880, 0.03474772400615768), (4203, 0.034728873101078014), (1199, 0.03471735787975144), (698, 0.03471670289852146), (699, 0.03471652912410095), (1986, 0.03471481530920444), (4062, 0.034691189186702484), (4034, 0.03463534651642014), (1368, 0.03462795185120677), (1926, 0.03460385422459977), (3410, 0.03460368748167801), (271, 0.034602759318950224), (2614, 0.03458927544926252), (2008, 0.03449870034603195), (1242, 0.03449069221983166), (68, 0.03441888481376179), (4501, 0.034393022324596456), (1283, 0.034349768614630384), (700, 0.03433654369194638), (1713, 0.034268837428766755), (198, 0.034247997237078665), (3272, 0.03420732199730714), (1689, 0.03419507152652379), (963, 0.03418248939252706), (2509, 0.0341464370458298), (3323, 0.034128495919908186), (3698, 0.0341101088201586), (4543, 0.03410990580569201), (1539, 0.03407075399128345), (1878, 0.034055667344127294), (2239, 0.03405341529327799), (3407, 0.034050420242495286), (4498, 0.03397038543047523), (4312, 0.03395057495746312), (846, 0.033948342484121784), (452, 0.03390401848681587), (4531, 0.03390137774873447), (570, 0.033853280554621196), (1165, 0.03364981123615636), (2697, 0.033633737708746204), (4287, 0.033628579274810236), (2075, 0.033621181601920506), (4668, 0.033583841605008546), (3097, 0.03349542087526462), (2074, 0.03348001513429128), (1332, 0.03345848915212901), (750, 0.0334215195186166), (2489, 0.03341310318595217), (3090, 0.033408371245190825), (2774, 0.033332429500315154), (4196, 0.03331026756980518), (2401, 0.03328441528088862), (418, 0.03322971654480184), (82, 0.03321195307400031), (1496, 0.03315112271383229), (300, 0.03314906746076195), (2551, 0.03310177640329977), (4009, 0.03308709405700029), (279, 0.033086625722342805), (621, 0.03306190043079684), (664, 0.03305911422646077), (2263, 0.03304944955216595), (534, 0.033041058413765256), (3156, 0.03301619722139276), (634, 0.03294822129828275), (1870, 0.032947524511659235), (1831, 0.032920424556945604), (1664, 0.032912919952178744), (3206, 0.032897649085791444), (1216, 0.0328960979768897), (362, 0.03286059764125547), (435, 0.03283883135840236), (779, 0.03283110202029463), (2387, 0.03282163369825526), (916, 0.03281789013896809), (1096, 0.03278632503530787), (2895, 0.0327804622445893), (2873, 0.03277608159051351), (3524, 0.03276286323508944), (1592, 0.0326961215910506), (480, 0.03263340669676813), (2119, 0.0326231804616028), (2565, 0.03259924198951341), (4218, 0.032582082987627596), (2372, 0.032492967630916456), (4343, 0.03248318985789893), (4754, 0.03246130872740013), (3140, 0.03243937337368399), (4335, 0.0324362803372093), (3008, 0.032349585421642436), (238, 0.03227139666957013), (3752, 0.032260715294034535), (1477, 0.032255393200315216), (354, 0.03219449750819376), (1875, 0.03215933607642981), (727, 0.032082449164473885), (2915, 0.032082323634094065), (1175, 0.03205888486815537), (2227, 0.032035980173708366), (2179, 0.03201642721579917), (1812, 0.03199484067767958), (1006, 0.031985038282856475), (113, 0.03195997653023014), (1192, 0.03195701677560826), (4649, 0.03194331492074292), (4077, 0.03191725594021712), (4463, 0.03189453766979555), (841, 0.031878480764694204), (1686, 0.03186262530656384), (3483, 0.03184335157460732), (2073, 0.03183149619573634), (1458, 0.031807158730951815), (3522, 0.03179937104124762), (309, 0.031795097913041054), (96, 0.03172017924922786), (1048, 0.03171749359530346), (1207, 0.03171664438268582), (3419, 0.031698917361199605), (2362, 0.031618857285511386), (2144, 0.031605289193767996), (1669, 0.031480814752241265), (2819, 0.03142601996836151), (2730, 0.03138430569585972), (2094, 0.031337122216671634), (1572, 0.031337003332842034), (3648, 0.031275905693290515), (1285, 0.03127043571659), (4605, 0.031251711588317896), (208, 0.03124577434205679), (1326, 0.03123347401536599), (1576, 0.031156302532584564), (1701, 0.03114107963273744), (2393, 0.03112200438762474), (2115, 0.031117266702651074), (1270, 0.03109668112952734), (1099, 0.03104744740417849), (4165, 0.0309801073801046), (2237, 0.03097705801356724), (745, 0.030962211644181344), (1729, 0.030919201289852895), (1239, 0.030867350175849118), (4655, 0.03084884521382961), (2969, 0.030839701642891394), (4090, 0.03082909040284765), (1390, 0.03079888321271175), (1334, 0.030773706954051065), (897, 0.0307567928116395), (3969, 0.030738192367759667), (868, 0.03073574927223409), (2751, 0.03069564690967453), (3256, 0.030680314326389426), (482, 0.03061854107110913), (824, 0.03061607791249571), (401, 0.0306047888633776), (4405, 0.030558848636324545), (2430, 0.030555334748885478), (999, 0.03053915310022853), (3098, 0.03053537097787451), (3368, 0.030465938830582285), (3508, 0.030460731411908387), (2411, 0.030448941628923396), (4517, 0.030353883798362853), (1951, 0.030353043871432697), (861, 0.03034827575326774), (3027, 0.030339303605341754), (44, 0.030326701409280343), (4164, 0.030285594097450585), (437, 0.03023035888718197), (4369, 0.030166161888535284), (1910, 0.030164201347032106), (3278, 0.03013340417771517), (2381, 0.030132471042884378), (19, 0.030131535698853157), (3910, 0.030123408575957997), (917, 0.030080016189259387), (2095, 0.030043241857846136), (273, 0.03003444496248661), (1258, 0.030030004500545292), (1396, 0.030029266071024074), (819, 0.030026782710519027), (4366, 0.030025045784952846), (2640, 0.030024760752783), (2789, 0.029980337569938217), (922, 0.029979182509783382), (1629, 0.029976288179348977), (4741, 0.0299702479244073), (346, 0.02991944824983899), (2760, 0.029880961286732812), (4433, 0.02987774558026165), (137, 0.02984607659609334), (3116, 0.02981104570075345), (870, 0.02969925603115387), (4743, 0.029679551982263665), (1761, 0.029633721095259063), (4325, 0.02962174907585935), (3115, 0.02959294663653099), (3651, 0.02958775319155731), (3980, 0.029502873680151434), (2368, 0.029490247745440797), (1503, 0.029455131014365935), (329, 0.02943620365533725), (1936, 0.029413122962438996), (383, 0.029363754449403097), (1376, 0.029331723597130797), (707, 0.029328025326391775), (1408, 0.02932114810310086), (2277, 0.02928236682334777), (3709, 0.029264168707476834), (3308, 0.029261752265331918), (1945, 0.029257134929465054), (2935, 0.029255588432829743), (4292, 0.02925206043524627), (826, 0.029200912819817525), (521, 0.02920044797883057), (550, 0.02918462756244316), (1357, 0.029124046254315028), (2457, 0.02911174459191909), (1206, 0.02909949681963498), (3722, 0.029097719689296517), (1466, 0.02908535535690783), (2572, 0.029057442669841234), (1124, 0.029052343590146697), (1178, 0.029051353265529704), (2045, 0.029031954404505875), (1012, 0.029024189895564913), (1644, 0.028946376727281266), (194, 0.02891791282944188), (3817, 0.028905377367751395), (3780, 0.02889389287289835), (1501, 0.02888137122402354), (446, 0.02883136506294917), (1262, 0.028818076084232515), (562, 0.028757549875330576), (3226, 0.028713487906740515), (65, 0.02869663134803173), (3822, 0.02868553748981342), (2868, 0.0286839445928455), (4004, 0.028652720890027863), (4374, 0.028648909020437117), (1996, 0.02861969731798577), (2708, 0.028525966169572585), (1933, 0.028517479121100073), (392, 0.028506921082048758), (4092, 0.028493559003152025), (467, 0.02848559601102037), (2759, 0.028477977899166028), (1021, 0.02844207540455724), (511, 0.028440587862144696), (3046, 0.028419279504365652), (2672, 0.02841546372043828), (4742, 0.02840585886448392), (320, 0.02840478531451461), (3728, 0.02839922326870816), (124, 0.028377436156479176), (1240, 0.028376919551372788), (2259, 0.028373494226522453), (2313, 0.028357572448738485), (532, 0.02832831261393494), (4141, 0.02832567323708832), (1433, 0.02832143313456085), (406, 0.02831123281130448), (3793, 0.02826848942802503), (216, 0.028268459776453453), (1356, 0.02820619269138268), (292, 0.02820172273724767), (2145, 0.028169830804722133), (3386, 0.028155825053525853), (448, 0.028105244747920033), (4752, 0.02809118647699331), (4324, 0.028089151743593617), (119, 0.028088913966648504), (75, 0.028061573709458876), (998, 0.02803153121813914), (3067, 0.028021048699457273), (3963, 0.028015093721526642), (2980, 0.027977910785505614), (321, 0.027944677802342766), (4169, 0.02793094097151359), (3840, 0.027924807555695826), (466, 0.027919726729317713), (2076, 0.02790633120730919), (3237, 0.027868608157129077), (4109, 0.0278551040780525), (296, 0.027843007660716342), (1250, 0.0278414549455354), (1585, 0.027816938720096253), (2121, 0.027777030741580996), (104, 0.02776650290125629), (4272, 0.027762722157756273), (3209, 0.02773502192198486), (2109, 0.027696061751785305), (1700, 0.027690308772078356), (352, 0.027685420429253697), (1697, 0.027678456130667575), (4367, 0.02766755195670148), (793, 0.02765914373534558), (3417, 0.027657562027552735), (1244, 0.027655153665005833), (1440, 0.027614774122035245), (2335, 0.027612822788216), (2514, 0.02761238488731867), (1931, 0.027591168970843453), (3705, 0.02754437500735841), (72, 0.02753528230670081), (160, 0.027513768218068946), (3408, 0.02750970770607973), (3183, 0.027505221805666273), (4305, 0.0274858168863928), (1471, 0.027484114591523376), (2867, 0.027481419885142994), (4420, 0.027437902339857108), (3302, 0.027427220915086422), (2601, 0.02742067612192546), (1994, 0.02739801002648341), (3632, 0.027369245224584605), (222, 0.027367935372109166), (1253, 0.027339274156355876), (3353, 0.027325525446455695), (1577, 0.027288470149609317), (3108, 0.027280892505840683), (390, 0.027277281757070993), (2644, 0.02725697716254631), (3152, 0.02724398923573656), (1068, 0.027234423675744204), (468, 0.027215359495265854), (4236, 0.027202360350218117), (4667, 0.02720108328400509), (4419, 0.027149617512478103), (517, 0.0271026528687988), (1420, 0.027070750988185906), (2155, 0.027050697698891714), (2136, 0.027046105951573737), (3100, 0.027036313092401978), (3104, 0.027029273258197793), (2156, 0.02702805046147492), (3151, 0.026955909235956158), (1150, 0.026950248465987557), (3864, 0.026904260252301603), (3846, 0.026903491780070003), (192, 0.02687088528386627), (2309, 0.026865146636179386), (971, 0.026851212920633895), (3240, 0.026846498846516215), (4054, 0.026837271175763795), (17, 0.026836159586605207), (759, 0.02680745148079461), (4101, 0.026790200731215554), (225, 0.026776597067586755), (2783, 0.026772428456833502), (900, 0.02674525716829393), (637, 0.026714438467887222), (3389, 0.02670335450428496), (206, 0.02667078329776705), (1589, 0.02666797791012272), (4314, 0.02666117822929464), (2149, 0.02665933937257425), (3767, 0.026634067490912308), (684, 0.02662327564443496), (114, 0.02661628452844267), (2117, 0.02659404339466978), (2028, 0.026567025702175104), (4136, 0.02655969601401427), (3114, 0.02654279766971857), (4646, 0.026540757817627936), (1846, 0.026522379216978968), (157, 0.026513345440360384), (3798, 0.026508829297192116), (3903, 0.026487102388562393), (944, 0.02648166546441041), (3659, 0.026477694788299214), (410, 0.026447044669208615), (2236, 0.026430809560373157), (92, 0.02638466626879944), (3954, 0.02637305499181869), (1117, 0.026370072701100068), (2632, 0.026365135599627033), (4171, 0.026349281109128424), (4194, 0.026341692886268094), (3615, 0.02632138481855163), (2752, 0.02631790273256209), (2803, 0.026271900338405953), (3568, 0.026259255958538463), (55, 0.026227451123500133), (2426, 0.026208638806646284), (3000, 0.026154681049803258), (2729, 0.02613093231705036), (769, 0.026130410062431712), (4320, 0.0261027824185322), (597, 0.02603784506929879), (915, 0.026030315813720187), (4110, 0.02599452468588716), (2990, 0.025991181043329155), (911, 0.02597544682387405), (1845, 0.025973614528316674), (2734, 0.025972815155690467), (3136, 0.0259660284224004), (1173, 0.025956061758602926), (2235, 0.02595081082826558), (3459, 0.025946542468656485), (713, 0.025925257900756622), (3470, 0.025906946602669866), (3782, 0.02590236395843488), (283, 0.02588858755535118), (493, 0.025859217812043346), (3365, 0.02584872596085345), (1135, 0.025803822993431008), (4725, 0.025780134489651586), (2698, 0.025770497043865644), (224, 0.025756583704967643), (660, 0.025702570624784163), (1042, 0.025691911308167267), (1791, 0.025582264693231375), (1869, 0.02553110117377861), (4748, 0.025475981150356954), (4444, 0.02546723148942468), (717, 0.02544874623897042), (4532, 0.025440221209493557), (1081, 0.02543603121138279), (456, 0.025433742657335907), (150, 0.02538033204966702), (1259, 0.025346798434325524), (674, 0.025340586507711923), (306, 0.025334042116654444), (1558, 0.025330984277902514), (592, 0.025323070590154893), (3678, 0.02531187373958871), (3065, 0.025300940775226703), (730, 0.025292047541201977), (3447, 0.0252708323855393), (191, 0.02526549296907719), (849, 0.025249879845367224), (1993, 0.025236793388373847), (3335, 0.025230480054920998), (3943, 0.025224129517356933), (2703, 0.02521717767347453), (1379, 0.02520228958608299), (1014, 0.025198166451584188), (744, 0.025178627735788918), (1409, 0.02515145316266875), (2353, 0.025134426851779336), (1722, 0.025130047359914733), (1757, 0.025122707548686195), (4188, 0.02511988538645981), (80, 0.025112366716011986), (4509, 0.025102226229263905), (2159, 0.02507709054432819), (2636, 0.025060518997346282), (1950, 0.02505508863650793), (962, 0.025053268110713962), (4079, 0.025050474365869956), (3399, 0.02503282473198654), (4153, 0.025019798641628704), (1267, 0.025018048488248033), (4186, 0.025007430108062806), (4183, 0.02498086192932559), (2548, 0.02497959730247205), (4688, 0.02495857806483578), (1456, 0.024951528549274713), (2524, 0.02491194157610782), (4139, 0.02486503968841466), (266, 0.02483650813221948), (1771, 0.024793032546139158), (613, 0.02474224379277697), (167, 0.0247271483822184), (1640, 0.024703847106795747), (63, 0.024701067072380845), (4344, 0.024692251859401576), (4155, 0.024678032184536833), (3175, 0.024666866121394487), (610, 0.024645654739440144), (158, 0.024644248132956313), (3735, 0.024630289681259653), (2802, 0.024626134618399985), (4220, 0.02461982921180511), (945, 0.024609771067632), (3162, 0.02458920796807748), (757, 0.02456994156192701), (3660, 0.024556965497879394), (2043, 0.024533589497950217), (2847, 0.02450688127993908), (4455, 0.02450593701424826), (71, 0.024483109167252073), (3520, 0.024476942401397746), (325, 0.024474897527214143), (2834, 0.02443799948629648), (2917, 0.024435379214742786), (3882, 0.024407527789843425), (4641, 0.024404811374607333), (1236, 0.024355716180984577), (3454, 0.02435122004586404), (946, 0.024339547599469928), (2641, 0.024326339994292765), (2616, 0.024292277565382634), (1212, 0.024274985010817315), (1992, 0.02427313641038948), (1336, 0.024237824916430707), (1789, 0.024236999414120143), (2266, 0.024195662176793795), (1123, 0.024186579611555903), (2826, 0.02416446886133078), (141, 0.024162637889443762), (842, 0.024160097267195646), (1684, 0.024134891215542145), (2161, 0.02409716647911907), (4623, 0.02409446263388001), (3913, 0.02406962035063489), (3329, 0.02404416359550124), (40, 0.024011602121823197), (3751, 0.024009527089090252), (859, 0.024007993390850836), (3803, 0.024000533478815755), (1295, 0.023930443333500168), (2469, 0.02392771334004274), (106, 0.023916203868203527), (1256, 0.023878755972358445), (3369, 0.023877802938152073), (3102, 0.023874919939825236), (3474, 0.02384208942567413), (2605, 0.023840305643684407), (3244, 0.0237219996780815), (1051, 0.023714231710543043), (1011, 0.02371267448926964), (1680, 0.023711598938469032), (1776, 0.023688331455704877), (561, 0.02368266106436797), (772, 0.023648666131446998), (430, 0.023632314354998483), (3600, 0.02362084384479418), (152, 0.02353961175991242), (929, 0.023538401614597082), (4436, 0.02351483499648447), (2570, 0.02339267505237491), (2191, 0.023386636872253008), (377, 0.023380525016254386), (975, 0.02336653691991582), (177, 0.023346077154971293), (1486, 0.023334247244465648), (2807, 0.02333006037621259), (4587, 0.02332022627025089), (4350, 0.023315490998639114), (3247, 0.023301389431096376), (2013, 0.023298164120162477), (2355, 0.02328453533047363), (382, 0.023283919042746945), (590, 0.02326554600394869), (2459, 0.023253875554149074), (1778, 0.023192573730536785), (2927, 0.023174376241394228), (732, 0.023172729643641084), (1770, 0.023168823154557268), (3559, 0.023164699711417838), (101, 0.02316434660567749), (2772, 0.0231314227246024), (1087, 0.02311745691278834), (116, 0.023102804134282794), (3741, 0.023096935319781877), (1708, 0.023081198892137687), (2040, 0.023068022869485977), (569, 0.023059458581205564), (751, 0.023057111431719755), (2687, 0.023053209763779683), (1141, 0.02304947754244616), (3287, 0.02300651022956931), (3472, 0.022996759234969244), (629, 0.02299458317424795), (4548, 0.022981989393912168), (1015, 0.022973050789272816), (2942, 0.02296519492954604), (3916, 0.022950450097484296), (251, 0.022939187987257862), (1291, 0.02290984120825727), (2491, 0.022892134512263483), (4177, 0.022862591084609366), (2813, 0.022847021572268065), (1784, 0.022821306552771065), (1468, 0.022764893473254028), (470, 0.022737251283595557), (1228, 0.022721570740782987), (2316, 0.022670356943588044), (954, 0.022667738502292006), (3921, 0.022662298734527863), (2389, 0.022615664460668178), (599, 0.022591098454188694), (2625, 0.022570491091949123), (129, 0.022502940150860885), (4303, 0.022435709222945938), (403, 0.022426742683382756), (386, 0.022400870238805992), (3344, 0.022382708838959972), (1615, 0.022259433609408193), (4643, 0.022228260860234737), (2409, 0.022204980651846142), (1007, 0.02219829593447661), (2956, 0.022190977541187852), (1804, 0.022173735798019394), (3731, 0.022153585432955016), (2249, 0.022125791691531987), (549, 0.02210507731448863), (3003, 0.022083095224514727), (1413, 0.02207399865937064), (4454, 0.022071383496134103), (3044, 0.022043250196084423), (2563, 0.022024714539164963), (2473, 0.02202419091620142), (3964, 0.02199132444312873), (3426, 0.021955045018598556), (4516, 0.021921868579022043), (533, 0.021914477601545482), (2654, 0.021895915728371428), (89, 0.02186811711427974), (1514, 0.021859466334719007), (3587, 0.021839290714720454), (1327, 0.02180986841411312), (4255, 0.0218022964682755), (212, 0.021772623721525212), (2552, 0.021764203186782728), (2276, 0.021754931560611042), (4533, 0.021741037369369838), (1307, 0.021727601762302606), (3589, 0.02172443013608407), (2391, 0.021705529707722583), (1, 0.021695203695340448), (2822, 0.02169504728286849), (4134, 0.021690199314351236), (3940, 0.02166903351436033), (4606, 0.021641139693845353), (4486, 0.021623065247797578), (2532, 0.02161985382382838), (185, 0.021617553811498262), (3657, 0.021615754484611994), (683, 0.02158308749273222), (524, 0.02156521331762029), (809, 0.02156047817509167), (4364, 0.02156040472125432), (672, 0.021555511028375), (3221, 0.021550812252420608), (3667, 0.021542417680531903), (100, 0.021536249771519706), (156, 0.021511823000658535), (1985, 0.021457917990754298), (3393, 0.02144920671386999), (3205, 0.021420580767701244), (1302, 0.021418883915126037), (2171, 0.021396126079751276), (691, 0.02139109606387198), (1847, 0.02136737161462198), (640, 0.021364716421427673), (16, 0.02135328755780463), (186, 0.021255195799589198), (303, 0.021247738715312277), (4046, 0.021163195124335413), (3997, 0.021156688551218543), (2568, 0.021150628236251665), (1520, 0.021148511099250294), (602, 0.021111521155230524), (4098, 0.021108877077731), (639, 0.0210614256167951), (1137, 0.02103291494759949), (428, 0.02101044050996087), (1234, 0.020990333005196492), (1226, 0.02098672255206779), (3432, 0.02097865910809568), (2804, 0.020961938858299806), (2864, 0.0209468087044428), (3865, 0.020916000281468863), (1017, 0.020908411970813248), (1918, 0.020896596224629468), (168, 0.020893522345034818), (1802, 0.020873605893059526), (2243, 0.020867499094173778), (2283, 0.020866776960471498), (651, 0.020823099595553715), (4586, 0.020823032434120325), (972, 0.020817284148532303), (1402, 0.020807637168909165), (1455, 0.020792378672519887), (4682, 0.02074694751255384), (4392, 0.020735405479328638), (132, 0.020697967963996595), (34, 0.020679482799585397), (2048, 0.02067340019662147), (4122, 0.020657435055627744), (4662, 0.020654760698215598), (4323, 0.020653099048353562), (2689, 0.020636772939653197), (2549, 0.020636328943030132), (3424, 0.02063001684950873), (3998, 0.020573127967454988), (1810, 0.020547927253504177), (2706, 0.020537417097105166), (3995, 0.02052896060572322), (4478, 0.02052767144751027), (203, 0.0205270220511749), (3461, 0.02051437838208229), (2527, 0.020503589907492854), (4020, 0.020503212028959522), (2088, 0.020489726189546992), (656, 0.020467246833642205), (1763, 0.02046158984165071), (2140, 0.0204559643517062), (2609, 0.020453800736600823), (605, 0.020428285172622344), (2680, 0.020421029134539706), (2856, 0.0204207814806078), (1268, 0.02041982482015744), (361, 0.020409013978135108), (2050, 0.02039379126195228), (297, 0.020387591441965107), (3458, 0.02038413682225304), (3085, 0.020357935351098918), (3289, 0.02033946968554785), (969, 0.020330634205089584), (2118, 0.020313987045164145), (242, 0.02029848479660983), (3683, 0.020269425397161922), (4523, 0.020257667049568558), (1991, 0.020240508672987004), (1965, 0.02022476084555052), (414, 0.02021773219303765), (3769, 0.020216789929484016), (1194, 0.020197932220509474), (3276, 0.02019470229744836), (1833, 0.0201882417078902), (1955, 0.02018609445693391), (661, 0.02016176467426761), (1126, 0.020107162741495835), (1968, 0.020080173324483357), (144, 0.020075952191133797), (504, 0.020068191558321388), (1818, 0.020068181644280994), (2246, 0.020061253359714797), (2992, 0.020059179047490015), (2777, 0.020056397030757775), (1652, 0.020054434599421425), (912, 0.020021121924400354), (1569, 0.02000576914874044), (112, 0.019964750439247676), (3805, 0.019952271203985263), (980, 0.01994996437864573), (894, 0.019945531459908492), (807, 0.019942414070091147), (2742, 0.019910451518538368), (3225, 0.01989903506854209), (1509, 0.01986330896739279), (2684, 0.019845180926534454), (2998, 0.019795638772504003), (2416, 0.019760909695467007), (400, 0.019747580006856343), (3578, 0.0197468694179217), (586, 0.01974182169637452), (2584, 0.019738817571804335), (347, 0.019693001202329634), (1850, 0.01969211574786072), (4384, 0.019685386686365092), (1488, 0.019676430853959006), (1392, 0.019675325376395766), (2210, 0.01965109607544537), (909, 0.01964686145340773), (2154, 0.01961894064680064), (4487, 0.019608831512830292), (2615, 0.019595820585308673), (669, 0.01958211872463326), (2061, 0.019561765169266665), (3878, 0.019553892507838375), (2693, 0.01954830199652293), (1442, 0.01954553789903493), (2378, 0.019544458134297206), (4708, 0.01950437166539689), (2306, 0.019492395704699128), (2725, 0.019488475959174363), (4427, 0.01947631528240751), (3949, 0.019434562888265876), (2824, 0.019416754378820695), (239, 0.019385416886946852), (2007, 0.01937614893965205), (2836, 0.01936465829685324), (1617, 0.019348661647711086), (724, 0.01932763465545811), (1808, 0.019314558417655572), (989, 0.019314150084133886), (138, 0.019289368575243215), (3492, 0.019284870286224172), (3022, 0.019278254185530946), (1416, 0.019256665477268797), (36, 0.019243331262072408), (3201, 0.019241714319763892), (3443, 0.019217673615084193), (2137, 0.019208656628999732), (3390, 0.019145321509063194), (940, 0.01914344847529746), (1219, 0.01914139804209569), (3641, 0.01913561289942597), (2461, 0.019120021405907496), (4482, 0.019118026143521465), (2937, 0.019117539439084584), (4033, 0.019049986826219452), (233, 0.01904314450713787), (1373, 0.019043112765852275), (1511, 0.01903779342833161), (3058, 0.019020034400111303), (4047, 0.01898494031455389), (4036, 0.018953438880127373), (2736, 0.018941672959795115), (818, 0.01892866937091542), (3602, 0.018903415645396063), (2918, 0.018900648877674193), (2841, 0.01888765523527297), (3603, 0.01886711806991857), (800, 0.018860698140368528), (4472, 0.018827266858692925), (217, 0.018805211481415007), (1925, 0.01880150196698636), (402, 0.018793637537427427), (2820, 0.01874412835645033), (2920, 0.01870979179406667), (1478, 0.018705500955619653), (2432, 0.018702293573887217), (720, 0.018696953959222374), (1132, 0.0186953706577436), (2628, 0.01866269846230092), (1428, 0.018659719735750792), (73, 0.01864875410725629), (4017, 0.018646678720401717), (2020, 0.018640865472432575), (2207, 0.018637241533470322), (1732, 0.018636163634438), (180, 0.01863528224609176), (2714, 0.018610563112947145), (1180, 0.018597402850016428), (546, 0.018594345166292686), (3734, 0.018508145582550928), (179, 0.018506267850963133), (1121, 0.01847884623899576), (1372, 0.01845849208378538), (3479, 0.01844554953692037), (3635, 0.01843047648500156), (1022, 0.018398472767161327), (4067, 0.018344682732751767), (3721, 0.01834460563471785), (1814, 0.018339793632465136), (3550, 0.018324421560473265), (4749, 0.018319513527333183), (2769, 0.01830440285618666), (1067, 0.018264532552002777), (2129, 0.018261036797785717), (2113, 0.018249718474825944), (878, 0.01824429621291574), (1855, 0.01822631587904523), (2329, 0.01821409695228264), (3094, 0.01821270284703916), (4554, 0.0182093704889247), (53, 0.018206464881718704), (3464, 0.01820345735258983), (1790, 0.01819450907010769), (3423, 0.018179186948958453), (4174, 0.01816644755043533), (3951, 0.018164786249578787), (2694, 0.018154133693143306), (2417, 0.01811653085943324), (1093, 0.018112649485542396), (4464, 0.018101093003674504), (787, 0.018091838283673486), (4524, 0.018087067006116373), (4032, 0.018077553237414352), (102, 0.01806235797754987), (143, 0.018020465300031548), (3835, 0.01800388302174903), (2590, 0.017990076390800896), (3310, 0.017983821980218414), (891, 0.017946622126411627), (4569, 0.01791867582386297), (2559, 0.01786418450010105), (4447, 0.017820169012083928), (2403, 0.01781504442816222), (3191, 0.017798121176074884), (3661, 0.017782609179761842), (2638, 0.017770613919666698), (2505, 0.01772081568979728), (4544, 0.017720505291773627), (3445, 0.017709991788550095), (345, 0.017682116370544884), (228, 0.017638073628593903), (3039, 0.017595122932561384), (2049, 0.017587304735493758), (375, 0.017583324388558405), (2360, 0.017568179522815676), (1939, 0.017565657854942206), (847, 0.017556555440931616), (2611, 0.017555859251439005), (3211, 0.017550160360463807), (1954, 0.017504480576118083), (3742, 0.017477748085312748), (3157, 0.017463258589818547), (823, 0.017457720832167224), (2936, 0.017453890749600878), (4674, 0.017450518196632833), (4590, 0.01743832509768909), (200, 0.017422818726364885), (1658, 0.017393094301031056), (286, 0.01738027940013329), (3121, 0.017370341509047017), (3049, 0.01736866101899842), (4661, 0.01735441552371366), (4298, 0.017351192088894803), (2660, 0.017350421022763456), (1377, 0.01734488700236198), (2436, 0.017339534355556328), (856, 0.017338547504402384), (3884, 0.017333355037626015), (3078, 0.017320611391727674), (719, 0.017295666936690553), (644, 0.01729472241698948), (2209, 0.017293640170398618), (2339, 0.017259953407948867), (1497, 0.01724349201920748), (1564, 0.01723786245097203), (1712, 0.017210679833904237), (2530, 0.017210365597861932), (451, 0.01719267301163442), (3497, 0.017186630488632386), (3238, 0.01717485069155423), (3766, 0.017106754100193647), (3740, 0.017101975327478165), (159, 0.017073176506688062), (1393, 0.01704524678980877), (3556, 0.01699794866797029), (1601, 0.016981109252347547), (274, 0.016977709327509968), (3394, 0.0169755670477596), (1583, 0.01697271452198209), (4226, 0.01692713770496772), (3946, 0.016916972327864967), (257, 0.016909099235890512), (2096, 0.016893550834685474), (3797, 0.016892404390689945), (3031, 0.016879141490488178), (4058, 0.016861503279612545), (2799, 0.016852765805322863), (3126, 0.016847528042574868), (4371, 0.01683939167940018), (4316, 0.016786387933195222), (1417, 0.016778899317793257), (2244, 0.01676570849256659), (3484, 0.0167557674738641), (641, 0.016747124122066408), (2842, 0.01674182354554246), (3095, 0.016730468090493427), (494, 0.016724307103288066), (3609, 0.016722108427051963), (2957, 0.016678408208096535), (4052, 0.01666383592250529), (1419, 0.016652677826256408), (2781, 0.016647603961783882), (341, 0.016635465233782936), (3973, 0.016631249749785307), (58, 0.016580442121274384), (3919, 0.016579711901267107), (2342, 0.0165609259639055), (2500, 0.016552245759257095), (2308, 0.016547040432037224), (1619, 0.0165470008716615), (3448, 0.016529306153586845), (1005, 0.016526296175411757), (3231, 0.016526041664252058), (951, 0.016519439843259705), (2633, 0.016517790771841113), (2039, 0.016506345902761732), (1116, 0.016506257720992203), (2220, 0.016505803543595304), (1222, 0.016492486848906054), (492, 0.016473336216269497), (4240, 0.016472534236464567), (1359, 0.016471968733846636), (1737, 0.016469041030887217), (844, 0.016465116027674576), (1685, 0.01645985943656225), (1938, 0.016456774249504324), (2964, 0.016427640470008928), (4518, 0.01642470648158316), (413, 0.01640842163458848), (4241, 0.016403084846081262), (4259, 0.016393116229047742), (3270, 0.016384914151700625), (3218, 0.016353147666591895), (438, 0.016344360127547215), (4209, 0.016343491558043162), (3101, 0.016343427104835658), (3621, 0.01632782155684011), (4373, 0.016318675772293196), (4584, 0.016302209672887737), (2875, 0.016301987827704086), (3744, 0.016296515516744645), (1407, 0.016288144880341637), (3457, 0.01628490393255295), (3172, 0.0162822684595563), (2418, 0.016282165950440627), (411, 0.016255569659719596), (2988, 0.01623720203219439), (3738, 0.01623638014817279), (2545, 0.01622635999596829), (1575, 0.016221035934350488), (4025, 0.01620540988679127), (163, 0.01618083136772573), (545, 0.01617941472648899), (2726, 0.016178328685320112), (3024, 0.016175258968085637), (4534, 0.016173566300334504), (209, 0.016155510812443902), (2562, 0.01615375535226373), (253, 0.016148553893909727), (4632, 0.016147701690593874), (4010, 0.01614684474104153), (4695, 0.016140962366091045), (523, 0.016137048757342), (2977, 0.016133156038815374), (4607, 0.016130855772539365), (726, 0.01613020515996149), (4446, 0.0160844453946662), (223, 0.016075624539271263), (738, 0.01607457870833019), (4008, 0.016071545794688873), (1182, 0.016067625850554972), (2816, 0.01605449107632293), (4685, 0.01605009668635172), (2707, 0.016037847725412942), (4589, 0.016025387301177283), (3915, 0.016020279451347506), (2744, 0.01599723736055972), (485, 0.015983783954675524), (83, 0.015977723218447707), (2704, 0.015970954751724997), (2798, 0.015967650623586193), (1547, 0.01595708843398384), (1075, 0.015955056118588353), (4023, 0.015943541403239277), (313, 0.01593191076393139), (3265, 0.01593178644672191), (2540, 0.015908121334151544), (2427, 0.01586505847495845), (612, 0.015856385224267314), (3594, 0.01584557714363464), (131, 0.015832772203495757), (3473, 0.01582846465867544), (4295, 0.015826568741701377), (174, 0.015822692932123354), (3883, 0.015817181318478594), (2732, 0.015813498755863308), (4738, 0.01580980006302284), (2303, 0.015792689974918554), (2479, 0.01578694546077777), (1148, 0.01578407681462411), (2033, 0.01576257188616189), (3733, 0.01575579932895325), (495, 0.01575241375529357), (2982, 0.015729405064654003), (623, 0.015721574285110874), (1275, 0.015714627040493586), (2487, 0.015679429762370425), (478, 0.015677813570863373), (3553, 0.015674602364629527), (2962, 0.015639384418848365), (3794, 0.015630765502401823), (1425, 0.015602904405926961), (1505, 0.015596559245273056), (2472, 0.01558652777141782), (2878, 0.015585517072649343), (4125, 0.0155852551921388), (280, 0.015577085637764252), (851, 0.015572561673735252), (817, 0.015570455930537012), (2405, 0.015560842801578297), (1077, 0.015545884635756128), (1208, 0.015544559526057978), (3999, 0.01553658682125892), (864, 0.015516953762162413), (4580, 0.015516779068537703), (4095, 0.015500813101023959), (701, 0.015476827197322057), (3596, 0.015465635907537263), (1873, 0.015458904756889073), (1461, 0.015453607335194793), (4368, 0.015452953529784404), (2164, 0.015436921230797072), (865, 0.015428343211058005), (2431, 0.015422197363769704), (1381, 0.015422119834193927), (1020, 0.015405072298200886), (2767, 0.01540139983687027), (22, 0.01539490334483834), (3288, 0.01539099909819), (2896, 0.015388365624247394), (1109, 0.015386825062794965), (3714, 0.015384498376562973), (2904, 0.015378589733935738), (2503, 0.015371072918417583), (1861, 0.01536137455988831), (2123, 0.01536066517764882), (1902, 0.01535009045792655), (1703, 0.015345154277236114), (3033, 0.015344456152766039), (1773, 0.015338656371489371), (1299, 0.015336587052148559), (2710, 0.015333728068015848), (2193, 0.015306237356312941), (4460, 0.015304768238347241), (1526, 0.015296251408853847), (3062, 0.015292740899019153), (1322, 0.015291989501400009), (1128, 0.015281587389569634), (689, 0.015280820654837612), (1437, 0.015278807289738815), (1849, 0.015260769504011434), (509, 0.015242702563656675), (2624, 0.015242160995037054), (2480, 0.015224364080297889), (1551, 0.015205598967874987), (1717, 0.015201288005348671), (1867, 0.015191931883817062), (476, 0.01518958575846614), (1019, 0.015180374255621527), (2808, 0.015174113714048382), (1807, 0.015170525230197896), (4336, 0.015170462632576287), (2356, 0.01516290607119933), (424, 0.015138210796833793), (1146, 0.015129221315743227), (4511, 0.015128373545845345), (3551, 0.015126160462558222), (1627, 0.015118992865827671), (1769, 0.0151168367063978), (4003, 0.015115557207129895), (2428, 0.015085098316056665), (4611, 0.015083270322632777), (226, 0.015082771888317267), (326, 0.015076769790893937), (1000, 0.01506813107395505), (2087, 0.015068029885301377), (254, 0.01506802634249536), (4217, 0.01506323253179603), (4491, 0.01505060175068427), (4143, 0.015040898729275162), (3023, 0.015034716186429284), (2192, 0.015032924608055259), (3273, 0.015032836975023979), (2160, 0.015025295175010807), (1500, 0.015025166714817321), (2390, 0.015017267618128547), (3584, 0.015005652128062864), (2286, 0.01500390236903022), (237, 0.015002065746416623), (3628, 0.014999467222797911), (1476, 0.014997177255487297), (2056, 0.014982524254883656), (3897, 0.014981215699757909), (4414, 0.014981043183479698), (164, 0.014965516697584587), (282, 0.01496145502389132), (997, 0.014959358267564367), (197, 0.014955460854605402), (760, 0.014953043703198162), (3560, 0.01494134777588652), (3173, 0.014937587891135114), (3787, 0.014934380478582046), (2066, 0.01492643337999312), (3438, 0.014925552495291296), (3504, 0.014914938048933717), (4603, 0.01491216920808855), (3311, 0.014905252748696033), (444, 0.014900655666566735), (2574, 0.01489320280100119), (3770, 0.014891837358910101), (782, 0.01488881672497767), (981, 0.014888232714398056), (1446, 0.014879187433917222), (2696, 0.014871970037351655), (2888, 0.014858178959143126), (4130, 0.014858051923831484), (804, 0.01485050737745354), (1089, 0.01484957541614346), (1864, 0.0148482954201031), (1479, 0.014842884926298365), (4173, 0.014836494551190012), (4732, 0.014834995117966189), (333, 0.01483045092523632), (2190, 0.014825166764416128), (287, 0.014818941439638033), (643, 0.014808372215299586), (3781, 0.014795377723316535), (3869, 0.014788961045261385), (2860, 0.014769902126713346), (4091, 0.014766495658974468), (1255, 0.014763412075325954), (4735, 0.01475945191901583), (2143, 0.01470605354673971), (2202, 0.01469554883110226), (938, 0.01469327156169338), (2375, 0.014689261688867613), (4459, 0.014686009204386835), (1519, 0.014685993283265133), (3784, 0.014683251946067297), (1793, 0.014667286316713645), (2812, 0.014664063509632385), (1724, 0.014663534457886504), (2351, 0.014659046503319678), (3637, 0.014649030877149138), (4257, 0.014647850158989019), (591, 0.01464045407553168), (1891, 0.014638775773192768), (2653, 0.014635949759688315), (3314, 0.01462177789921268), (3758, 0.014618235695368237), (3977, 0.014617083732024881), (1609, 0.014615921717433167), (1710, 0.01461033466895159), (3442, 0.014606481848624755), (755, 0.01460604061648941), (1280, 0.014596261541128759), (3122, 0.014592767260006129), (1091, 0.014591705867258054), (2960, 0.014584783645417437), (2233, 0.014579181984075066), (1554, 0.014577960972132256), (1705, 0.014575146195609638), (872, 0.014571857406844694), (4286, 0.014556604484112005), (1581, 0.014555085178682694), (4687, 0.014552646793015109), (2604, 0.014549433429447688), (499, 0.014549257750922034), (734, 0.014546951983937677), (2898, 0.014543551373731348), (4013, 0.014539045372151872), (3236, 0.014538937945296537), (248, 0.014533573735419872), (4574, 0.014532334573685291), (1904, 0.014522777607077007), (4639, 0.014512167726700711), (4256, 0.014501047336333473), (950, 0.014495599381830891), (3909, 0.014486648868036904), (1894, 0.014486316028227553), (4703, 0.01448414991212486), (1647, 0.014473112670270035), (3839, 0.014468326898127918), (4621, 0.014462389146997188), (1746, 0.014458383324431704), (3586, 0.014457365101467903), (1531, 0.014456233056175646), (1785, 0.014448753313753879), (2175, 0.014447515854756631), (2187, 0.014440765374922351), (4304, 0.014438088770280274), (956, 0.014420185561098964), (463, 0.014395448734900161), (3294, 0.01438410490435085), (1364, 0.01438391947614651), (766, 0.01438173956080283), (3189, 0.01435905162247898), (2110, 0.014354471832648503), (4356, 0.014341527540443629), (3577, 0.014338710703467003), (1324, 0.014336300942350146), (2208, 0.014333124119432808), (2911, 0.014315858156363203), (3613, 0.014313661720668051), (2522, 0.014307220835247875), (1225, 0.014287679375817357), (3351, 0.01428675326486565), (2131, 0.014284397272933815), (1851, 0.01424433307679449), (4060, 0.014237378896462403), (984, 0.014234743827359082), (3592, 0.014219851551551725), (4205, 0.014217369724418531), (2874, 0.014214893609096294), (603, 0.014211823350960136), (3640, 0.014208284926105035), (890, 0.014204174257811874), (3825, 0.01420333819467843), (183, 0.014193047039130711), (3131, 0.014191134608942665), (3656, 0.014185622497664686), (1185, 0.01416556474725046), (840, 0.014163770741263544), (2015, 0.014162115482378092), (1715, 0.014149227687040975), (2203, 0.014144361962131303), (1730, 0.014144226109759264), (1380, 0.014143146182790445), (2579, 0.014140723342441788), (1328, 0.014137860142080818), (1041, 0.01413115694229436), (716, 0.014130176898776287), (1350, 0.014129769504518726), (2016, 0.014125036698276906), (3653, 0.014124905108309271), (1436, 0.014111095242250769), (2837, 0.014105892011091702), (583, 0.014099741584235178), (2622, 0.01409886576626786), (2765, 0.014081042416461659), (2848, 0.014080057164931865), (4560, 0.014077557147369085), (4563, 0.01406102130578766), (95, 0.01405684093214379), (4057, 0.0140438111535805), (245, 0.014041454367933377), (1355, 0.014039204435413163), (2929, 0.01401435162309864), (2607, 0.014002349351905858), (1570, 0.01399248985541225), (201, 0.013992049596638495), (1320, 0.013979243806132196), (4348, 0.013974730884475798), (2011, 0.013970064243247132), (3867, 0.013959475594160485), (3303, 0.01395386634529171), (3907, 0.01393695243532693), (2931, 0.01393285602953611), (2662, 0.013924208776959664), (4078, 0.013923136446037453), (2554, 0.013916111280798397), (2629, 0.013915906637892573), (3045, 0.013905396199126351), (2290, 0.013904421359180059), (318, 0.013881495428948735), (4106, 0.013867285893291574), (3486, 0.013858658140169823), (3089, 0.013850952492287063), (1220, 0.013848827343086676), (3124, 0.013837457630531146), (1410, 0.013835681393143472), (2533, 0.013831090758702376), (4456, 0.013828119570450503), (4015, 0.013823612604914978), (4283, 0.013818297687134558), (806, 0.013814362036566932), (3743, 0.013813288100401833), (1919, 0.01381075466565623), (4056, 0.013802805901089621), (189, 0.01379887165159269), (2284, 0.013798322474167362), (151, 0.013783210063640418), (3748, 0.013781611637501068), (3013, 0.01377940971121354), (3434, 0.013760359685556632), (3207, 0.013758311107864322), (1095, 0.013751491860017995), (2444, 0.01374435028612572), (1105, 0.0137425538712512), (3330, 0.013736022809215582), (979, 0.013734832446562954), (776, 0.013729930969015234), (1136, 0.013725687311518178), (1108, 0.013723336668145101), (1890, 0.013722089213509276), (4330, 0.013720218962069363), (2269, 0.013716477191300296), (3950, 0.01370151852485459), (2975, 0.013699793877732179), (1857, 0.013694482069840566), (3355, 0.013685394481019684), (1587, 0.013684191612935066), (59, 0.013677804181550339), (4024, 0.013671125862299389), (258, 0.013663525374618912), (1459, 0.013658579354514977), (2501, 0.013646915823537008), (2067, 0.013646582801410692), (3427, 0.01364473101691507), (3681, 0.013642789701429675), (3813, 0.013624309863686379), (319, 0.013612556439482983), (2471, 0.013609576072450521), (4242, 0.013604443297599488), (4035, 0.013594249816190502), (3606, 0.013584425504253254), (2647, 0.013582294052084522), (2258, 0.013581401381779431), (1782, 0.013575649653265237), (1611, 0.01357536899518883), (1863, 0.01357238608984089), (3888, 0.01354909485366613), (4128, 0.013529110454187135), (1447, 0.013513796867636103), (2692, 0.013509144800893219), (3, 0.013499714639565898), (1312, 0.0134981434394881), (1492, 0.01349534234925334), (1553, 0.013489895316271145), (1508, 0.013483505725048714), (4081, 0.013479299813295199), (445, 0.013476316280961086), (4385, 0.01346954288531877), (988, 0.01346808984507177), (2933, 0.013461219842633994), (76, 0.013456288752477917), (147, 0.013453727528012419), (3644, 0.013452300436027324), (3938, 0.013435112530120401), (4253, 0.01342579572561886), (1179, 0.013424213158009417), (2354, 0.013419784234428123), (4224, 0.013410667923184221), (305, 0.01340654392060496), (1018, 0.013402852543392949), (1151, 0.01340164463630832), (1566, 0.013394576267268442), (3409, 0.013387206038338317), (39, 0.013385109167532971), (2621, 0.013384438641863367), (2588, 0.013380872033043034), (440, 0.01337782519521355), (227, 0.013376273804823393), (668, 0.013376044946946932), (1061, 0.013352454461322319), (965, 0.013342016545336044), (2651, 0.013334077318317872), (93, 0.013325583729889847), (1143, 0.013324890814105404), (4158, 0.013322187976562677), (4175, 0.013313497724149179), (2226, 0.01330772352350286), (1227, 0.013305952353017562), (3392, 0.013305638651175416), (676, 0.013303088278563517), (3917, 0.01329795330932575), (3511, 0.01328979124018061), (2098, 0.013286899736890635), (4510, 0.013278978905910135), (3821, 0.013278232480884384), (1358, 0.013269790041954397), (2268, 0.013269127837432768), (3449, 0.013268349396811345), (1806, 0.013268098651094047), (1836, 0.013267038038625627), (3654, 0.013259623782959003), (4357, 0.01325927991827098), (2014, 0.013250071208367652), (539, 0.013246646510714513), (4504, 0.013243324613315453), (773, 0.01324074586340002), (3927, 0.013235849489840124), (3061, 0.013214624094355245), (3700, 0.01321376108748858), (2070, 0.013211965924439524), (4346, 0.01321122006917413), (3773, 0.013211058120041731), (175, 0.013207556967577614), (2292, 0.01319248887244775), (4550, 0.013191473551418094), (3713, 0.013190999829319127), (2298, 0.013188889309696), (90, 0.01318032856818245), (51, 0.013170929461472289), (2594, 0.013169061152263732), (4382, 0.013163101841768962), (260, 0.01316072784672853), (3629, 0.013157148711261975), (261, 0.013144719333346854), (1247, 0.013144468331896964), (2105, 0.013143348036807034), (4610, 0.013135379535569952), (1113, 0.013128927627307477), (1819, 0.013124644297649073), (1645, 0.013123590941835593), (2291, 0.013122249381074383), (3242, 0.01309820273520319), (1211, 0.013085328956714751), (3149, 0.013075144237620375), (4112, 0.013067811243696874), (687, 0.013067218550560762), (3164, 0.013065536461284118), (1597, 0.01305953402783772), (2496, 0.013049973727193907), (1824, 0.01304494769205094), (4470, 0.013036762716621665), (3047, 0.013028005704728724), (1235, 0.013019163816939888), (2950, 0.013011244467061927), (2598, 0.013003053898497959), (486, 0.013000932500241934), (2750, 0.012997061565885057), (310, 0.012976078776897944), (3293, 0.012969589013800131), (3845, 0.012969466651801353), (3222, 0.01296231701754918), (1315, 0.012959667894630801), (2319, 0.012958710894914573), (1571, 0.012955094590598652), (441, 0.012952951195996489), (2733, 0.012950081070812698), (31, 0.012947010096808223), (2985, 0.012942089623516008), (2004, 0.012940896396650208), (2270, 0.012938841664235106), (23, 0.012929225728968463), (1063, 0.012921018292565648), (4159, 0.012917702385748055), (2665, 0.012901669164502829), (2150, 0.012896894989374578), (1246, 0.01287205582050954), (2371, 0.012871429732931641), (3957, 0.012863841827090999), (211, 0.012857928960614952), (1895, 0.012849786729226254), (1001, 0.01284062447974408), (2107, 0.012834652925313406), (3853, 0.012832170414891444), (1037, 0.012827311273100023), (3569, 0.012814401469108993), (1983, 0.012814186385405876), (276, 0.012793600997944708), (2367, 0.012787897530153547), (3077, 0.012787116706049316), (3361, 0.01278156253891843), (939, 0.012776950303342834), (171, 0.012757711525767025), (4147, 0.012753510161890672), (94, 0.012752380057342506), (636, 0.01275056415881169), (2318, 0.012744643947521079), (2287, 0.012742278363492579), (2093, 0.012741263871969215), (1317, 0.01273033051615267), (2139, 0.012719893925271899), (2666, 0.012714014079641194), (1555, 0.01270992666404928), (412, 0.01270152856491667), (887, 0.012689562316772835), (540, 0.012684772456632416), (4319, 0.01267512632885492), (832, 0.01266875111920326), (2853, 0.012648999167168485), (4445, 0.012646443601157957), (4451, 0.012637405177048913), (2021, 0.012633581648628371), (3193, 0.012623498451013782), (3517, 0.012614759740257402), (3135, 0.012598265485855239), (991, 0.012597062425875513), (395, 0.012586520390299871), (46, 0.01258622214404946), (4094, 0.012572856505350062), (811, 0.01257172769058059), (983, 0.012568852017897989), (1453, 0.012560914175100432), (4502, 0.012550041862653072), (702, 0.012521222633882757), (1898, 0.012512079140581677), (1695, 0.012509218774524466), (397, 0.012508754475247604), (1987, 0.012507678382664974), (1166, 0.012503688349799069), (1144, 0.012499504320062074), (1430, 0.012497941008559253), (4439, 0.012497327465772444), (4193, 0.012490599542246227), (2195, 0.012470308701678283), (781, 0.012449104693129076), (665, 0.01242959889648853), (4167, 0.012429343294346296), (379, 0.012426549772345022), (1683, 0.012421940878125712), (1543, 0.012413892697992854), (529, 0.012409627792987342), (3711, 0.012407440985959353), (1354, 0.012399841683870165), (415, 0.012391234892591746), (2086, 0.012390230490761269), (563, 0.012379343670903669), (37, 0.012378663614066782), (483, 0.012371728425912665), (1507, 0.012370418345837228), (1142, 0.012352424801015362), (973, 0.012333467816742874), (417, 0.012328184942133624), (604, 0.012320979621282716), (693, 0.01232051986021738), (3117, 0.012315853484573647), (1438, 0.012300373382449922), (4409, 0.012279934140166926), (4117, 0.012277669593132529), (3923, 0.012263332973128562), (1921, 0.012246833709492005), (2422, 0.012232219457125564), (4650, 0.01223012569072004), (2068, 0.012219857867462222), (2608, 0.012200226146947688), (2852, 0.012193121437744736), (3960, 0.012190389318546884), (1025, 0.012190305699030209), (3099, 0.0121784648108564), (501, 0.012166089918064806), (577, 0.012163082750689044), (3485, 0.01215076597683084), (1578, 0.012150012991160647), (3898, 0.012133347235974628), (1747, 0.012097005604503802), (1550, 0.012095433089600769), (1888, 0.012094596431259408), (1400, 0.012087988432243077), (2433, 0.012080327969392703), (2065, 0.01206883351441975), (33, 0.012068107845806426), (4582, 0.012066141089795205), (1084, 0.012064115550421426), (2279, 0.012049905729247927), (3144, 0.01204476827128659), (2746, 0.012039789729060314), (3398, 0.012017447186282074), (3812, 0.011998951289919728), (2779, 0.011997815204717543), (2456, 0.011993405141541328), (376, 0.011991201399707819), (1387, 0.011983350763810602), (3316, 0.011980463207669986), (839, 0.011965182800043616), (1726, 0.011957606457325411), (3795, 0.011955349625346876), (1745, 0.011951689117519707), (1797, 0.011946941073363412), (3847, 0.011929672053716384), (3895, 0.01191255988412116), (3177, 0.011900615275145745), (4475, 0.0118970381620156), (1613, 0.011895133693818796), (4321, 0.011890400421235858), (2652, 0.01188864764517466), (3093, 0.011886454073045), (3924, 0.011886408649201303), (165, 0.011886371940005885), (3057, 0.01187948388948104), (1998, 0.01187597401240612), (853, 0.01187542065838343), (1679, 0.011856590463546658), (961, 0.011831503090625518), (2718, 0.011827886306537506), (497, 0.01182232684578389), (393, 0.011806805732352939), (649, 0.011802539615169116), (741, 0.01179073192549579), (1176, 0.011786464581156968), (28, 0.011761679240390645), (3232, 0.01175128429488444), (1533, 0.011736217302088655), (617, 0.011729442962093033), (3693, 0.011714727254971666), (1223, 0.011708140358262), (3574, 0.011707585932052103), (2995, 0.011705751929750362), (2544, 0.011701178679633417), (1378, 0.011698445652804956), (4627, 0.011696179984004153), (1352, 0.01169479746045738), (3932, 0.011692894552039949), (3500, 0.01168857329425934), (2528, 0.011686683992465967), (1563, 0.011672567714022801), (471, 0.011671082660727267), (2776, 0.011663633455366145), (4551, 0.011648551034013358), (1693, 0.011647508032710457), (2761, 0.011641109151140099), (1301, 0.011639937026805583), (117, 0.011629907382279453), (736, 0.011621062030668039), (601, 0.011608092550939005), (2996, 0.011605193670444755), (1200, 0.0116009451866762), (1309, 0.011590528041041838), (1606, 0.011590515229168357), (589, 0.011586652113305895), (70, 0.01158273607529534), (1523, 0.011581500658010313), (2550, 0.011581365413906006), (188, 0.011554145968346115), (2196, 0.011546910516442112), (810, 0.01154204569504967), (2064, 0.011519501985271862), (3529, 0.011517051353118212), (2507, 0.011516435731586807), (3614, 0.011510720877850465), (2053, 0.011499104550428983), (2034, 0.011491779506368153), (1209, 0.011478047528490114), (234, 0.011470813856323973), (2157, 0.01146458654066518), (4479, 0.01145936865224407), (662, 0.011446359616191412), (454, 0.011441044873778578), (3430, 0.011438400457050676), (2104, 0.011437034999865222), (2297, 0.011434611301506399), (3224, 0.011429825907818384), (2771, 0.011427112540780398), (2542, 0.011396740247885617), (314, 0.01139272619238721), (61, 0.01139059594449684), (1306, 0.011389549427522091), (1149, 0.011377224984563622), (1859, 0.011372980564811957), (1196, 0.01135560257620375), (792, 0.011353500839989974), (2322, 0.011325784528350374), (2127, 0.011324249674900169), (2296, 0.011304459797377472), (1261, 0.011301200261495434), (1190, 0.011290136445132012), (2938, 0.011285787166794615), (4626, 0.011274234296510973), (469, 0.011251246067987502), (4279, 0.011250816203214848), (1980, 0.011243475178473152), (302, 0.011235988819283936), (2809, 0.011232916495331906), (4542, 0.011230580385452897), (290, 0.011227284155323088), (3538, 0.011211956533372347), (4380, 0.011192360763899034), (3229, 0.01117148923502856), (4756, 0.011146187924648844), (1530, 0.01114378145375768), (3113, 0.011086051865454749), (243, 0.011085566516023136), (3254, 0.011085101236910139), (1411, 0.011068249685292143), (1610, 0.011065574358226951), (3063, 0.011065105139979211), (1633, 0.011031197881161671), (2242, 0.011018239580493057), (1777, 0.011010838178911677), (2753, 0.011007162278951823), (4232, 0.011005390637425876), (289, 0.010987584613382345), (3669, 0.010980189117213365), (3400, 0.010978278407199865), (4011, 0.010961632991430294), (770, 0.010916085798347169), (294, 0.010908783030981525), (1218, 0.010892643159124821), (4683, 0.010887703322688343), (2617, 0.010862537058802139), (2460, 0.010860218990988208), (1431, 0.010839253198459204), (2497, 0.010809966912786566), (2170, 0.010809826965545275), (4677, 0.010801751610555485), (1574, 0.010784253394215354), (2122, 0.01078256668501528), (2010, 0.010771559921750391), (2663, 0.01076687849375222), (4736, 0.010711779702338452), (3585, 0.010706562340174938), (3665, 0.010705033889771376), (1055, 0.010675709220158737), (1990, 0.010671413685738089), (1750, 0.010660840666038897), (1886, 0.010655327674316071), (1506, 0.010641043822514518), (1651, 0.010637860467946505), (1133, 0.01060686067407887), (1565, 0.010603090086801678), (837, 0.01060073370903648), (2912, 0.010587963747707235), (703, 0.0105790586640984), (1100, 0.010574261075070708), (396, 0.010549107893760823), (1040, 0.010537329465460633), (627, 0.010511233561694084), (4191, 0.010507665376814607), (2132, 0.010498862305001603), (4237, 0.010480835880001238), (4567, 0.010480712804928252), (1248, 0.010475169531976001), (1130, 0.010474420125799962), (3195, 0.010459371801810781), (3487, 0.010455618544662953), (1632, 0.010430987651389683), (1561, 0.010423230451649394), (3948, 0.010412122267774456), (2365, 0.010410503715389915), (3056, 0.010385414397645867), (790, 0.01038241076958942), (4744, 0.010357684849782143), (712, 0.010331230305858571), (3010, 0.010326731771812253), (2829, 0.010308301622267304), (3014, 0.010298675873226089), (3370, 0.010286871014649042), (1414, 0.010286005810456854), (3412, 0.010285513210543662), (1451, 0.010267249285333192), (1404, 0.010242327409670566), (3452, 0.010241107361260791), (836, 0.010237472060883721), (1405, 0.010199378684955344), (240, 0.010179066024308658), (3439, 0.010167857074185842), (2311, 0.01013124588562677), (4441, 0.010119440557869086), (2327, 0.01011166589886471), (3966, 0.010106163167250336), (2201, 0.010086443415154508), (2324, 0.010076085077023613), (1029, 0.010075229261093218), (311, 0.010047672511006205), (1943, 0.010028913480088133), (3338, 0.01001202009087381), (2525, 0.010011644857996257), (1370, 0.009995236164264027), (2347, 0.009986173577942483), (1210, 0.00997217692036108), (3854, 0.009932739910555585), (2845, 0.00993255663244486), (3120, 0.0098782249257995), (829, 0.009832369438970687), (4418, 0.00982926506482247), (1584, 0.009825376774336456), (1865, 0.009825029152130578), (3480, 0.009824141651560174), (1816, 0.009776309037482408), (3716, 0.0097561894660018), (2018, 0.009743622393863404), (2758, 0.009687928797655327), (285, 0.009677408794980576), (2262, 0.009667779922865096), (1978, 0.00962006432821726), (3411, 0.009612588864395855), (2580, 0.009601251738278884), (647, 0.009576559436840305), (3279, 0.009497998637976297), (1213, 0.009453992901377132), (3638, 0.009438932595528887), (953, 0.009376107099076691), (4426, 0.009342593150678164), (1362, 0.009310492536550334), (1008, 0.00927364105523945), (1559, 0.009236112384295805), (3674, 0.009188699229214151), (2686, 0.009177850329173984), (4526, 0.009174739202502419), (368, 0.009149435001889299), (2801, 0.00914810764940612), (2204, 0.009128760359382987), (3377, 0.009093907701529118), (461, 0.009075174459806826), (2326, 0.00906641977349122), (4341, 0.009023238500435762), (1758, 0.008967865402694538), (3223, 0.008920721090125145), (4570, 0.008896409295715316), (4031, 0.008879327195584113), (1586, 0.008827674629685683), (3328, 0.008822993752605616), (1344, 0.008778579728844773), (3703, 0.008770494168320955), (3877, 0.008721583338754349), (1646, 0.008674609139471864), (4535, 0.00862832007690609), (2806, 0.00859507791103045), (419, 0.00859000283757084), (3185, 0.00856982814216748), (1999, 0.008567659724123305), (1844, 0.008531036141400798), (2218, 0.0085304219466006), (1474, 0.008504100268026067), (4705, 0.008468020604511387), (881, 0.008456516902506747), (1725, 0.008448115587180545), (4160, 0.0084072575168887), (677, 0.008396486442356502), (2755, 0.008368997405513454), (4086, 0.008358870332455247), (686, 0.00835107210801613), (3208, 0.008348380965052896), (2575, 0.008325513473698287), (4118, 0.008325081582092659), (4269, 0.008317396368263504), (2659, 0.008316863824525296), (2451, 0.008290657868110915), (996, 0.008279249810361971), (2989, 0.008274903213193846), (1731, 0.008259564552913596), (351, 0.008257690283287772), (1013, 0.008246858192839853), (947, 0.0082402180416789), (4202, 0.008238787869085998), (2657, 0.008193590459024838), (1277, 0.008177011668056082), (1333, 0.00815120237205903), (4492, 0.008148152123992065), (2671, 0.008119815380737777), (2768, 0.008104800201940468), (4354, 0.008064519368386511), (903, 0.00805501404794976), (4347, 0.0080501990890002), (2172, 0.00801947775963523), (1389, 0.00801158731084462), (3871, 0.008009735980511024), (2667, 0.007990367494168668), (1351, 0.007985192251247619), (2275, 0.0079607538129136), (4288, 0.007935835837102797), (2337, 0.00792924231076314), (27, 0.007906824308396508), (2922, 0.007880599285234742), (1388, 0.007880528384288652), (3715, 0.00787231615075559), (2332, 0.007871084506648895), (1085, 0.007870341363052598), (4666, 0.007861319287885771), (219, 0.007853086979216894), (4168, 0.007831922391063008), (2130, 0.007814884835333477), (4457, 0.007809791692427034), (2414, 0.007785804770668172), (1889, 0.007777793700308042), (4709, 0.007768562852878103), (4300, 0.007751827390331803), (2645, 0.007725323869184701), (1598, 0.0076795972155669955), (484, 0.00766607581955164), (4016, 0.007659332262849263), (2569, 0.0076247719479797), (2415, 0.007621289162110493), (2887, 0.007607772705422298), (2504, 0.007602831916310849), (3685, 0.007577855243316601), (2512, 0.007572529063033484), (2547, 0.0075446924265597445), (2600, 0.007530999041667169), (1272, 0.007513142606162016), (4221, 0.007511569113165755), (2948, 0.007500624949543737), (1287, 0.007500400075840733), (2521, 0.007493773160751021), (2763, 0.007468452638407334), (1607, 0.007425481232200285), (1755, 0.007423532619355433), (4428, 0.007416294720505168), (2363, 0.00739084755200491), (4631, 0.007375447877020931), (1548, 0.007369933065198115), (1490, 0.007368080502487578), (3567, 0.007353401717300088), (2450, 0.007347141041791975), (1912, 0.007344531742198069), (1231, 0.007339465602870975), (4588, 0.007333858593111098), (3991, 0.007289236921525043), (4152, 0.007276386718569075), (852, 0.007269954741206962), (2795, 0.007236465847942777), (650, 0.007222589597799652), (2077, 0.007205116250807345), (935, 0.007204378483022241), (1738, 0.007197979924119672), (2741, 0.007185140504094687), (2778, 0.007179338454720858), (4723, 0.007171252511588205), (4698, 0.007168435139793479), (45, 0.007164715648542761), (202, 0.00715901210285239), (3718, 0.0071269575935350256), (2183, 0.00708513967735771), (920, 0.007056642890998252), (2581, 0.007035590727708702), (608, 0.007029561665829254), (1079, 0.007021334929236572), (409, 0.007016348897496107), (3588, 0.007014809159116376), (1288, 0.007012161076275395), (3397, 0.007012013423326801), (4653, 0.007011280155839219), (904, 0.007008695704974281), (457, 0.006985745703338667), (4477, 0.006951757395962344), (4244, 0.0069496439174096414), (2468, 0.0069413711028317076), (4490, 0.006927112529992576), (2188, 0.006914889303083625), (4597, 0.006888941309594373), (3708, 0.006888310186390172), (1941, 0.006878067990118882), (3327, 0.006871502864129441), (4642, 0.00685788949136087), (4285, 0.006849812619658467), (2676, 0.006835320149303991), (1815, 0.006822245574727929), (512, 0.006821836515547947), (3383, 0.0068058690288038005), (3275, 0.006793437937616483), (2470, 0.0067891060255168625), (3165, 0.006787410460136219), (795, 0.006771675782515888), (1540, 0.006750675150221387), (3440, 0.006739611848923292), (753, 0.00673633376998633), (91, 0.006723394029888512), (2720, 0.006718187571458375), (3312, 0.006714224524816088), (4519, 0.006694289893123218), (38, 0.006677942896387731), (2180, 0.006673842141501133), (2881, 0.006672519888287278), (1521, 0.0066724706188022505), (4293, 0.0066699575199054085), (905, 0.00666666426621277), (3263, 0.006657259148040509), (2476, 0.006648659639633604), (1050, 0.00664379274533485), (4393, 0.006630219745751187), (2012, 0.006624692611944873), (4619, 0.006623979424044286), (4121, 0.006622350000594141), (2352, 0.006617534449386639), (3947, 0.006611269064256033), (2576, 0.006600492008451496), (2006, 0.006587735222830644), (1591, 0.006587461335778234), (3168, 0.006581315530396203), (3064, 0.006572908570574481), (364, 0.0065721495851605), (2840, 0.006567403661839189), (139, 0.0065647645662769896), (3593, 0.006564363134400419), (3059, 0.006563618807733278), (4276, 0.006547476740269694), (3453, 0.006547243581478366), (4131, 0.006537429268464495), (4462, 0.006534421826508186), (2903, 0.006530649640836519), (1560, 0.006520728175457227), (458, 0.006505323900228696), (688, 0.0065019713250606655), (2810, 0.006468847485833899), (2670, 0.0064658308477285095), (729, 0.006446694496226022), (2182, 0.006437769518899505), (48, 0.006434701249860905), (2493, 0.006428440837188938), (4185, 0.006428368485730574), (1976, 0.006412448920255602), (682, 0.006411017915135931), (1221, 0.006405261290274559), (2383, 0.006403371600640354), (4119, 0.0063955733855257475), (128, 0.006391062605778704), (4549, 0.006376430643239125), (1681, 0.006362546430425508), (3771, 0.0063498047519251625), (1883, 0.006345057371001483), (4453, 0.006336439459154216), (673, 0.006334433289771957), (2082, 0.006327080345636098), (3468, 0.00631332012156661), (210, 0.00631125028280511), (10, 0.0063087553040824295), (2959, 0.006308054863848012), (4659, 0.006298990183413063), (2626, 0.006296035699180373), (4656, 0.006292663764850334), (4116, 0.006280117981054448), (2238, 0.006275252741224304), (4727, 0.006266529174800097), (2361, 0.006266161181261669), (913, 0.0062639636328415986), (3642, 0.006258264931505125), (4038, 0.006251011106833178), (595, 0.006246154339072185), (2811, 0.006243735237998271), (513, 0.006240121471008576), (2364, 0.00623969798159633), (2963, 0.006236646602689746), (1735, 0.00623433327269385), (4005, 0.006229112615581196), (2499, 0.006223516146462203), (1537, 0.006219729381873364), (1513, 0.006218370112911053), (3259, 0.006212216547567563), (728, 0.006209578911422493), (2754, 0.00620517248617168), (1989, 0.006203558093176115), (3516, 0.00620195787808403), (1949, 0.006201908294422498), (2044, 0.006181398339857245), (1822, 0.006178801835993008), (220, 0.006178209872638214), (3112, 0.006174409229396063), (1727, 0.006167771548144264), (3862, 0.0061675025492857844), (4629, 0.006153682409451278), (1056, 0.006152841316141985), (4390, 0.006151496637154714), (1736, 0.006147409170888078), (2880, 0.006141860717332739), (3710, 0.006138087555568125), (1484, 0.006134591271502807), (845, 0.006134030885283625), (1687, 0.00612701858424108), (4716, 0.006122569091156971), (654, 0.006118986074813679), (1659, 0.006116778217351314), (3591, 0.006115497691823649), (1031, 0.006113719740988077), (3507, 0.0061032587953820374), (1734, 0.006102458069337175), (3676, 0.006093574157109758), (1853, 0.00608837444571477), (4430, 0.006086864324203766), (2241, 0.006086692851512976), (4100, 0.006079816544704082), (4435, 0.0060794480794892376), (3241, 0.006067908230858551), (3210, 0.006062613404821236), (4045, 0.006061822681158348), (986, 0.006060093339508518), (3297, 0.006059418516064427), (4379, 0.006059228692866036), (908, 0.006058649762108134), (2217, 0.006051129000722994), (3513, 0.006047913976073306), (3514, 0.00604378300286581), (516, 0.006030583433632099), (1432, 0.006026232424988771), (1024, 0.00602088939828764), (1516, 0.006019417947984745), (848, 0.006018748754166585), (4745, 0.006017743644131071), (4249, 0.006017484361547784), (3227, 0.006015960205201542), (869, 0.006005070634477928), (926, 0.006000528404619517), (1536, 0.005997684334619626), (2943, 0.005994165386233013), (2083, 0.0059800408495977965), (4376, 0.005978216257363816), (2947, 0.005973280041858331), (3707, 0.005970687534666853), (4684, 0.005957266482777245), (3169, 0.00595600492045914), (1122, 0.005950337670167153), (3374, 0.005948960317707747), (1740, 0.005925481385640516), (421, 0.005922453293317751), (1469, 0.005915215845442901), (3814, 0.005913372685670906), (3332, 0.005908823101545467), (1174, 0.005905253670263196), (4068, 0.005901921324980209), (4503, 0.005900632438094188), (2091, 0.0058995741837861125), (4573, 0.00589767029689), (1138, 0.005889799165770388), (3002, 0.0058896242220174335), (1751, 0.005886033137422457), (3807, 0.005883173193602896), (3908, 0.005872153069815295), (1483, 0.005868966458327585), (1127, 0.005859026458975051), (560, 0.005852262330871574), (4012, 0.0058465521750408755), (2081, 0.00584535788864794), (1335, 0.005842017103278943), (1252, 0.005838163936516028), (259, 0.005834575390128155), (2212, 0.005832470673860739), (4088, 0.005831904313382125), (4148, 0.005828551608572568), (3955, 0.005822299788474889), (1337, 0.005822015334215458), (1653, 0.0058172828300723355), (1102, 0.005815979639708921), (4248, 0.005813421201040981), (619, 0.005803329026735845), (1504, 0.005801757209621837), (3340, 0.0058007388864809275), (3343, 0.005799692043590043), (135, 0.00579673793667062), (4310, 0.005794216448822176), (4673, 0.0057818847729849895), (749, 0.005777392466255991), (3958, 0.005761926698891727), (500, 0.0057343710210589075), (3441, 0.005730947686355843), (3605, 0.005727398106108235), (4264, 0.0057268818498791415), (1527, 0.005717925697207386), (2825, 0.005711060274491586), (4039, 0.005709972174679379), (244, 0.005709346633580234), (1338, 0.005708742543064894), (3546, 0.005705957121864809), (1406, 0.005702522140923825), (1035, 0.005701759396462892), (4481, 0.005686042312464271), (3531, 0.005678064061826784), (554, 0.005675748483436314), (3978, 0.005672171190395804), (825, 0.005671568070762398), (1230, 0.005667483298444058), (2024, 0.005664474868892961), (2178, 0.005662044762198061), (84, 0.0056512012127164), (2232, 0.005646464135121316), (3720, 0.0056108917813494), (1544, 0.005609329861046469), (2184, 0.00560295275639634), (2711, 0.005599566434049818), (3595, 0.005596391514850989), (2787, 0.005592064635985063), (3466, 0.005579865767333534), (1274, 0.0055798249618601746), (1082, 0.005574025439871936), (1749, 0.005571600145918278), (854, 0.005565321242241623), (1545, 0.005563505188515151), (1044, 0.005563403010587562), (2634, 0.005555566883463742), (2910, 0.005553322983816923), (1076, 0.005521262838165681), (3465, 0.005520159191807376), (4345, 0.005511092611588665), (974, 0.0055068858535935305), (4568, 0.005501944634869551), (866, 0.005501234220192687), (4037, 0.005494511934782013), (2224, 0.005489607501217727), (2885, 0.0054876114074039134), (827, 0.005486030602410921), (1823, 0.005484309383748152), (2899, 0.0054840323726522335), (1066, 0.0054735628611991835), (4591, 0.0054718499059598), (4044, 0.005467779522295901), (1665, 0.005466787153661209), (4328, 0.005463247349600415), (1183, 0.005460582666457073), (2166, 0.005458951305954467), (1054, 0.005451206956589299), (2958, 0.005446294782045841), (2862, 0.005446202919524004), (2674, 0.005444791423014269), (4600, 0.005444040348028254), (3528, 0.005440938859604661), (1657, 0.005435554664925109), (1973, 0.00542070333625414), (690, 0.005415945098286148), (4690, 0.005415228367747558), (632, 0.00541451496273488), (1065, 0.005414459850508292), (3143, 0.005405443441645939), (3306, 0.00539808297945961), (2424, 0.005396547557038541), (170, 0.00538184433142327), (3860, 0.005374259320334227), (2315, 0.005370516328359752), (1796, 0.005366842377202619), (3993, 0.005364076853869817), (2429, 0.005355757692270511), (3953, 0.005350344616204369), (3267, 0.005332500174597761), (2791, 0.005327567698912316), (1281, 0.005317987009363019), (3070, 0.005286382097093148), (2274, 0.0052861453926974595), (1384, 0.0052854607019539954), (148, 0.005284110677353883), (515, 0.0052730369720793415), (4450, 0.005244585413810033), (803, 0.00524241686680602), (1154, 0.005229509294221283), (3336, 0.005221051787523004), (4553, 0.005205619260787132), (3525, 0.005166051551800853), (2971, 0.005165853179626152), (4608, 0.005161301358982399), (4429, 0.005160565987509254), (653, 0.005151399240941169), (4432, 0.0051280956816124644), (1290, 0.005116417894887641), (1546, 0.0051137101874465405), (4114, 0.005083002107918134), (1348, 0.00508216090788842), (3684, 0.005049617135156921), (2913, 0.005043276077734801), (3339, 0.005041537882605259), (3776, 0.00503756673006192), (2412, 0.005034653799066035), (1010, 0.00501125888855334), (1828, 0.005005486925428286), (4733, 0.004986915534464753), (1971, 0.004948746817818805), (394, 0.0049289524285764195), (723, 0.004926408122094976), (1241, 0.004913880937733506), (2025, 0.004910398865537909), (1781, 0.00490338228628484), (1092, 0.004901855595968297), (1535, 0.004895474957403209), (3213, 0.0048772870933467445), (2573, 0.00480062679209459), (1164, 0.004742628488000694), (2078, 0.00468567712414694), (1728, 0.0045256796662706995), (3645, 0.004483235549662602), (4261, 0.004349538818353711), (1276, 0.004342510522417884), (1153, 0.004209473391713123), (3429, 0.003982985284031511), (4, 0.0), (5, 0.0), (8, 0.0), (11, 0.0), (12, 0.0), (13, 0.0), (14, 0.0), (20, 0.0), (21, 0.0), (26, 0.0), (30, 0.0), (42, 0.0), (47, 0.0), (49, 0.0), (50, 0.0), (52, 0.0), (64, 0.0), (66, 0.0), (74, 0.0), (77, 0.0), (81, 0.0), (97, 0.0), (98, 0.0), (99, 0.0), (103, 0.0), (107, 0.0), (110, 0.0), (111, 0.0), (115, 0.0), (120, 0.0), (126, 0.0), (127, 0.0), (133, 0.0), (134, 0.0), (140, 0.0), (145, 0.0), (146, 0.0), (149, 0.0), (154, 0.0), (166, 0.0), (176, 0.0), (187, 0.0), (190, 0.0), (195, 0.0), (196, 0.0), (205, 0.0), (207, 0.0), (213, 0.0), (214, 0.0), (215, 0.0), (221, 0.0), (235, 0.0), (236, 0.0), (246, 0.0), (249, 0.0), (250, 0.0), (255, 0.0), (256, 0.0), (262, 0.0), (265, 0.0), (267, 0.0), (268, 0.0), (270, 0.0), (272, 0.0), (281, 0.0), (291, 0.0), (293, 0.0), (304, 0.0), (308, 0.0), (312, 0.0), (331, 0.0), (335, 0.0), (344, 0.0), (348, 0.0), (349, 0.0), (357, 0.0), (360, 0.0), (366, 0.0), (367, 0.0), (369, 0.0), (370, 0.0), (371, 0.0), (372, 0.0), (378, 0.0), (380, 0.0), (384, 0.0), (387, 0.0), (388, 0.0), (389, 0.0), (398, 0.0), (405, 0.0), (408, 0.0), (416, 0.0), (420, 0.0), (422, 0.0), (423, 0.0), (427, 0.0), (429, 0.0), (431, 0.0), (432, 0.0), (436, 0.0), (439, 0.0), (443, 0.0), (447, 0.0), (450, 0.0), (453, 0.0), (459, 0.0), (460, 0.0), (462, 0.0), (473, 0.0), (474, 0.0), (479, 0.0), (481, 0.0), (488, 0.0), (489, 0.0), (502, 0.0), (503, 0.0), (505, 0.0), (507, 0.0), (510, 0.0), (518, 0.0), (520, 0.0), (526, 0.0), (531, 0.0), (535, 0.0), (536, 0.0), (541, 0.0), (543, 0.0), (544, 0.0), (552, 0.0), (556, 0.0), (557, 0.0), (558, 0.0), (559, 0.0), (564, 0.0), (571, 0.0), (573, 0.0), (574, 0.0), (575, 0.0), (576, 0.0), (578, 0.0), (580, 0.0), (581, 0.0), (585, 0.0), (587, 0.0), (588, 0.0), (593, 0.0), (596, 0.0), (606, 0.0), (607, 0.0), (611, 0.0), (624, 0.0), (625, 0.0), (626, 0.0), (628, 0.0), (633, 0.0), (638, 0.0), (642, 0.0), (645, 0.0), (646, 0.0), (652, 0.0), (655, 0.0), (658, 0.0), (659, 0.0), (667, 0.0), (675, 0.0), (678, 0.0), (679, 0.0), (680, 0.0), (685, 0.0), (694, 0.0), (695, 0.0), (696, 0.0), (704, 0.0), (708, 0.0), (711, 0.0), (718, 0.0), (721, 0.0), (722, 0.0), (731, 0.0), (733, 0.0), (735, 0.0), (739, 0.0), (740, 0.0), (743, 0.0), (746, 0.0), (747, 0.0), (754, 0.0), (761, 0.0), (764, 0.0), (767, 0.0), (768, 0.0), (771, 0.0), (777, 0.0), (783, 0.0), (784, 0.0), (785, 0.0), (786, 0.0), (789, 0.0), (791, 0.0), (796, 0.0), (797, 0.0), (798, 0.0), (799, 0.0), (801, 0.0), (802, 0.0), (805, 0.0), (813, 0.0), (815, 0.0), (816, 0.0), (820, 0.0), (828, 0.0), (830, 0.0), (831, 0.0), (855, 0.0), (857, 0.0), (858, 0.0), (860, 0.0), (862, 0.0), (863, 0.0), (873, 0.0), (876, 0.0), (877, 0.0), (879, 0.0), (884, 0.0), (885, 0.0), (886, 0.0), (888, 0.0), (889, 0.0), (893, 0.0), (896, 0.0), (898, 0.0), (901, 0.0), (907, 0.0), (910, 0.0), (925, 0.0), (927, 0.0), (930, 0.0), (932, 0.0), (933, 0.0), (937, 0.0), (941, 0.0), (942, 0.0), (943, 0.0), (955, 0.0), (959, 0.0), (960, 0.0), (964, 0.0), (967, 0.0), (976, 0.0), (978, 0.0), (982, 0.0), (985, 0.0), (987, 0.0), (993, 0.0), (1002, 0.0), (1003, 0.0), (1027, 0.0), (1028, 0.0), (1030, 0.0), (1032, 0.0), (1034, 0.0), (1036, 0.0), (1039, 0.0), (1047, 0.0), (1049, 0.0), (1052, 0.0), (1053, 0.0), (1058, 0.0), (1059, 0.0), (1060, 0.0), (1062, 0.0), (1064, 0.0), (1070, 0.0), (1071, 0.0), (1072, 0.0), (1073, 0.0), (1078, 0.0), (1080, 0.0), (1083, 0.0), (1086, 0.0), (1088, 0.0), (1097, 0.0), (1098, 0.0), (1101, 0.0), (1103, 0.0), (1104, 0.0), (1106, 0.0), (1107, 0.0), (1110, 0.0), (1112, 0.0), (1119, 0.0), (1120, 0.0), (1125, 0.0), (1131, 0.0), (1139, 0.0), (1140, 0.0), (1145, 0.0), (1147, 0.0), (1152, 0.0), (1156, 0.0), (1158, 0.0), (1159, 0.0), (1160, 0.0), (1161, 0.0), (1163, 0.0), (1167, 0.0), (1168, 0.0), (1169, 0.0), (1170, 0.0), (1177, 0.0), (1181, 0.0), (1184, 0.0), (1186, 0.0), (1187, 0.0), (1188, 0.0), (1189, 0.0), (1191, 0.0), (1193, 0.0), (1197, 0.0), (1201, 0.0), (1202, 0.0), (1203, 0.0), (1204, 0.0), (1205, 0.0), (1217, 0.0), (1224, 0.0), (1232, 0.0), (1233, 0.0), (1243, 0.0), (1251, 0.0), (1260, 0.0), (1264, 0.0), (1271, 0.0), (1282, 0.0), (1284, 0.0), (1286, 0.0), (1289, 0.0), (1294, 0.0), (1297, 0.0), (1298, 0.0), (1300, 0.0), (1303, 0.0), (1304, 0.0), (1311, 0.0), (1313, 0.0), (1318, 0.0), (1319, 0.0), (1323, 0.0), (1325, 0.0), (1330, 0.0), (1331, 0.0), (1339, 0.0), (1340, 0.0), (1342, 0.0), (1343, 0.0), (1347, 0.0), (1349, 0.0), (1353, 0.0), (1360, 0.0), (1361, 0.0), (1371, 0.0), (1375, 0.0), (1391, 0.0), (1394, 0.0), (1395, 0.0), (1399, 0.0), (1415, 0.0), (1421, 0.0), (1422, 0.0), (1424, 0.0), (1427, 0.0), (1429, 0.0), (1434, 0.0), (1435, 0.0), (1439, 0.0), (1441, 0.0), (1444, 0.0), (1448, 0.0), (1449, 0.0), (1450, 0.0), (1452, 0.0), (1457, 0.0), (1462, 0.0), (1463, 0.0), (1472, 0.0), (1473, 0.0), (1480, 0.0), (1481, 0.0), (1482, 0.0), (1485, 0.0), (1487, 0.0), (1489, 0.0), (1491, 0.0), (1498, 0.0), (1499, 0.0), (1518, 0.0), (1528, 0.0), (1532, 0.0), (1534, 0.0), (1541, 0.0), (1542, 0.0), (1556, 0.0), (1557, 0.0), (1562, 0.0), (1568, 0.0), (1573, 0.0), (1582, 0.0), (1588, 0.0), (1590, 0.0), (1593, 0.0), (1594, 0.0), (1595, 0.0), (1596, 0.0), (1602, 0.0), (1605, 0.0), (1608, 0.0), (1614, 0.0), (1618, 0.0), (1620, 0.0), (1622, 0.0), (1623, 0.0), (1624, 0.0), (1625, 0.0), (1626, 0.0), (1628, 0.0), (1630, 0.0), (1631, 0.0), (1634, 0.0), (1635, 0.0), (1636, 0.0), (1637, 0.0), (1638, 0.0), (1639, 0.0), (1641, 0.0), (1642, 0.0), (1643, 0.0), (1656, 0.0), (1660, 0.0), (1661, 0.0), (1663, 0.0), (1667, 0.0), (1668, 0.0), (1670, 0.0), (1671, 0.0), (1672, 0.0), (1673, 0.0), (1674, 0.0), (1676, 0.0), (1691, 0.0), (1694, 0.0), (1699, 0.0), (1702, 0.0), (1704, 0.0), (1711, 0.0), (1716, 0.0), (1719, 0.0), (1720, 0.0), (1733, 0.0), (1739, 0.0), (1741, 0.0), (1742, 0.0), (1744, 0.0), (1748, 0.0), (1752, 0.0), (1753, 0.0), (1754, 0.0), (1756, 0.0), (1759, 0.0), (1760, 0.0), (1765, 0.0), (1766, 0.0), (1767, 0.0), (1768, 0.0), (1775, 0.0), (1780, 0.0), (1783, 0.0), (1786, 0.0), (1792, 0.0), (1794, 0.0), (1795, 0.0), (1800, 0.0), (1801, 0.0), (1803, 0.0), (1805, 0.0), (1811, 0.0), (1813, 0.0), (1817, 0.0), (1820, 0.0), (1825, 0.0), (1826, 0.0), (1829, 0.0), (1830, 0.0), (1832, 0.0), (1834, 0.0), (1835, 0.0), (1837, 0.0), (1838, 0.0), (1840, 0.0), (1854, 0.0), (1856, 0.0), (1858, 0.0), (1862, 0.0), (1866, 0.0), (1868, 0.0), (1872, 0.0), (1874, 0.0), (1877, 0.0), (1879, 0.0), (1882, 0.0), (1884, 0.0), (1885, 0.0), (1887, 0.0), (1892, 0.0), (1893, 0.0), (1896, 0.0), (1899, 0.0), (1900, 0.0), (1905, 0.0), (1906, 0.0), (1907, 0.0), (1909, 0.0), (1914, 0.0), (1915, 0.0), (1916, 0.0), (1917, 0.0), (1922, 0.0), (1923, 0.0), (1924, 0.0), (1927, 0.0), (1928, 0.0), (1930, 0.0), (1940, 0.0), (1944, 0.0), (1946, 0.0), (1947, 0.0), (1952, 0.0), (1953, 0.0), (1956, 0.0), (1958, 0.0), (1959, 0.0), (1960, 0.0), (1962, 0.0), (1963, 0.0), (1966, 0.0), (1969, 0.0), (1970, 0.0), (1972, 0.0), (1974, 0.0), (1975, 0.0), (1979, 0.0), (1981, 0.0), (1984, 0.0), (1995, 0.0), (1997, 0.0), (2001, 0.0), (2002, 0.0), (2003, 0.0), (2009, 0.0), (2017, 0.0), (2023, 0.0), (2026, 0.0), (2029, 0.0), (2030, 0.0), (2031, 0.0), (2032, 0.0), (2038, 0.0), (2041, 0.0), (2042, 0.0), (2046, 0.0), (2047, 0.0), (2054, 0.0), (2057, 0.0), (2059, 0.0), (2060, 0.0), (2063, 0.0), (2069, 0.0), (2071, 0.0), (2072, 0.0), (2079, 0.0), (2080, 0.0), (2084, 0.0), (2089, 0.0), (2090, 0.0), (2092, 0.0), (2097, 0.0), (2099, 0.0), (2106, 0.0), (2108, 0.0), (2120, 0.0), (2126, 0.0), (2128, 0.0), (2133, 0.0), (2134, 0.0), (2135, 0.0), (2138, 0.0), (2141, 0.0), (2142, 0.0), (2146, 0.0), (2147, 0.0), (2148, 0.0), (2151, 0.0), (2152, 0.0), (2162, 0.0), (2163, 0.0), (2165, 0.0), (2168, 0.0), (2169, 0.0), (2173, 0.0), (2176, 0.0), (2186, 0.0), (2189, 0.0), (2194, 0.0), (2199, 0.0), (2200, 0.0), (2213, 0.0), (2214, 0.0), (2215, 0.0), (2216, 0.0), (2219, 0.0), (2222, 0.0), (2223, 0.0), (2225, 0.0), (2228, 0.0), (2229, 0.0), (2230, 0.0), (2231, 0.0), (2240, 0.0), (2245, 0.0), (2247, 0.0), (2248, 0.0), (2251, 0.0), (2252, 0.0), (2253, 0.0), (2255, 0.0), (2256, 0.0), (2257, 0.0), (2260, 0.0), (2261, 0.0), (2264, 0.0), (2267, 0.0), (2271, 0.0), (2272, 0.0), (2273, 0.0), (2278, 0.0), (2280, 0.0), (2281, 0.0), (2282, 0.0), (2288, 0.0), (2289, 0.0), (2293, 0.0), (2295, 0.0), (2299, 0.0), (2300, 0.0), (2302, 0.0), (2304, 0.0), (2305, 0.0), (2307, 0.0), (2310, 0.0), (2312, 0.0), (2314, 0.0), (2320, 0.0), (2321, 0.0), (2323, 0.0), (2325, 0.0), (2328, 0.0), (2331, 0.0), (2333, 0.0), (2334, 0.0), (2336, 0.0), (2338, 0.0), (2340, 0.0), (2341, 0.0), (2343, 0.0), (2344, 0.0), (2345, 0.0), (2346, 0.0), (2348, 0.0), (2349, 0.0), (2350, 0.0), (2357, 0.0), (2358, 0.0), (2366, 0.0), (2369, 0.0), (2370, 0.0), (2373, 0.0), (2374, 0.0), (2377, 0.0), (2379, 0.0), (2380, 0.0), (2384, 0.0), (2385, 0.0), (2386, 0.0), (2388, 0.0), (2392, 0.0), (2394, 0.0), (2395, 0.0), (2396, 0.0), (2400, 0.0), (2402, 0.0), (2404, 0.0), (2406, 0.0), (2407, 0.0), (2408, 0.0), (2410, 0.0), (2419, 0.0), (2420, 0.0), (2423, 0.0), (2425, 0.0), (2434, 0.0), (2435, 0.0), (2438, 0.0), (2440, 0.0), (2441, 0.0), (2445, 0.0), (2446, 0.0), (2447, 0.0), (2448, 0.0), (2449, 0.0), (2452, 0.0), (2453, 0.0), (2454, 0.0), (2455, 0.0), (2458, 0.0), (2462, 0.0), (2464, 0.0), (2466, 0.0), (2467, 0.0), (2475, 0.0), (2477, 0.0), (2478, 0.0), (2482, 0.0), (2483, 0.0), (2484, 0.0), (2485, 0.0), (2486, 0.0), (2488, 0.0), (2490, 0.0), (2492, 0.0), (2495, 0.0), (2498, 0.0), (2502, 0.0), (2508, 0.0), (2511, 0.0), (2515, 0.0), (2516, 0.0), (2518, 0.0), (2519, 0.0), (2523, 0.0), (2526, 0.0), (2529, 0.0), (2531, 0.0), (2534, 0.0), (2535, 0.0), (2536, 0.0), (2537, 0.0), (2543, 0.0), (2556, 0.0), (2557, 0.0), (2558, 0.0), (2561, 0.0), (2564, 0.0), (2566, 0.0), (2571, 0.0), (2577, 0.0), (2578, 0.0), (2583, 0.0), (2585, 0.0), (2586, 0.0), (2589, 0.0), (2591, 0.0), (2592, 0.0), (2593, 0.0), (2595, 0.0), (2596, 0.0), (2597, 0.0), (2599, 0.0), (2602, 0.0), (2606, 0.0), (2610, 0.0), (2612, 0.0), (2613, 0.0), (2618, 0.0), (2619, 0.0), (2620, 0.0), (2623, 0.0), (2627, 0.0), (2630, 0.0), (2631, 0.0), (2635, 0.0), (2639, 0.0), (2643, 0.0), (2648, 0.0), (2649, 0.0), (2650, 0.0), (2655, 0.0), (2656, 0.0), (2658, 0.0), (2661, 0.0), (2664, 0.0), (2669, 0.0), (2673, 0.0), (2675, 0.0), (2677, 0.0), (2678, 0.0), (2679, 0.0), (2681, 0.0), (2683, 0.0), (2685, 0.0), (2690, 0.0), (2695, 0.0), (2699, 0.0), (2700, 0.0), (2701, 0.0), (2702, 0.0), (2705, 0.0), (2709, 0.0), (2716, 0.0), (2717, 0.0), (2719, 0.0), (2721, 0.0), (2722, 0.0), (2723, 0.0), (2724, 0.0), (2727, 0.0), (2728, 0.0), (2731, 0.0), (2735, 0.0), (2737, 0.0), (2738, 0.0), (2739, 0.0), (2743, 0.0), (2745, 0.0), (2747, 0.0), (2748, 0.0), (2756, 0.0), (2757, 0.0), (2762, 0.0), (2764, 0.0), (2770, 0.0), (2773, 0.0), (2775, 0.0), (2782, 0.0), (2784, 0.0), (2785, 0.0), (2786, 0.0), (2792, 0.0), (2793, 0.0), (2794, 0.0), (2796, 0.0), (2797, 0.0), (2800, 0.0), (2805, 0.0), (2814, 0.0), (2818, 0.0), (2821, 0.0), (2823, 0.0), (2827, 0.0), (2828, 0.0), (2832, 0.0), (2833, 0.0), (2835, 0.0), (2838, 0.0), (2839, 0.0), (2846, 0.0), (2849, 0.0), (2851, 0.0), (2855, 0.0), (2857, 0.0), (2858, 0.0), (2861, 0.0), (2863, 0.0), (2865, 0.0), (2866, 0.0), (2869, 0.0), (2870, 0.0), (2871, 0.0), (2872, 0.0), (2876, 0.0), (2877, 0.0), (2879, 0.0), (2882, 0.0), (2883, 0.0), (2884, 0.0), (2886, 0.0), (2889, 0.0), (2890, 0.0), (2891, 0.0), (2892, 0.0), (2893, 0.0), (2894, 0.0), (2897, 0.0), (2900, 0.0), (2901, 0.0), (2905, 0.0), (2906, 0.0), (2907, 0.0), (2909, 0.0), (2914, 0.0), (2916, 0.0), (2919, 0.0), (2921, 0.0), (2923, 0.0), (2924, 0.0), (2925, 0.0), (2926, 0.0), (2928, 0.0), (2930, 0.0), (2932, 0.0), (2934, 0.0), (2939, 0.0), (2941, 0.0), (2945, 0.0), (2946, 0.0), (2949, 0.0), (2951, 0.0), (2952, 0.0), (2953, 0.0), (2954, 0.0), (2961, 0.0), (2965, 0.0), (2966, 0.0), (2967, 0.0), (2968, 0.0), (2970, 0.0), (2972, 0.0), (2973, 0.0), (2974, 0.0), (2976, 0.0), (2978, 0.0), (2983, 0.0), (2984, 0.0), (2986, 0.0), (2987, 0.0), (2991, 0.0), (2993, 0.0), (2994, 0.0), (2997, 0.0), (2999, 0.0), (3001, 0.0), (3004, 0.0), (3005, 0.0), (3006, 0.0), (3007, 0.0), (3009, 0.0), (3011, 0.0), (3012, 0.0), (3015, 0.0), (3016, 0.0), (3017, 0.0), (3018, 0.0), (3019, 0.0), (3020, 0.0), (3021, 0.0), (3025, 0.0), (3026, 0.0), (3028, 0.0), (3029, 0.0), (3030, 0.0), (3032, 0.0), (3034, 0.0), (3035, 0.0), (3036, 0.0), (3037, 0.0), (3038, 0.0), (3040, 0.0), (3041, 0.0), (3042, 0.0), (3048, 0.0), (3050, 0.0), (3052, 0.0), (3053, 0.0), (3054, 0.0), (3055, 0.0), (3060, 0.0), (3068, 0.0), (3071, 0.0), (3072, 0.0), (3073, 0.0), (3074, 0.0), (3075, 0.0), (3076, 0.0), (3079, 0.0), (3080, 0.0), (3081, 0.0), (3082, 0.0), (3084, 0.0), (3086, 0.0), (3087, 0.0), (3088, 0.0), (3092, 0.0), (3103, 0.0), (3106, 0.0), (3107, 0.0), (3109, 0.0), (3110, 0.0), (3118, 0.0), (3119, 0.0), (3123, 0.0), (3125, 0.0), (3127, 0.0), (3128, 0.0), (3137, 0.0), (3138, 0.0), (3139, 0.0), (3142, 0.0), (3145, 0.0), (3146, 0.0), (3148, 0.0), (3150, 0.0), (3153, 0.0), (3154, 0.0), (3155, 0.0), (3158, 0.0), (3159, 0.0), (3160, 0.0), (3166, 0.0), (3167, 0.0), (3170, 0.0), (3171, 0.0), (3176, 0.0), (3178, 0.0), (3179, 0.0), (3180, 0.0), (3182, 0.0), (3187, 0.0), (3188, 0.0), (3194, 0.0), (3196, 0.0), (3197, 0.0), (3198, 0.0), (3199, 0.0), (3200, 0.0), (3203, 0.0), (3204, 0.0), (3212, 0.0), (3214, 0.0), (3216, 0.0), (3217, 0.0), (3219, 0.0), (3220, 0.0), (3230, 0.0), (3233, 0.0), (3234, 0.0), (3239, 0.0), (3243, 0.0), (3245, 0.0), (3248, 0.0), (3249, 0.0), (3250, 0.0), (3251, 0.0), (3255, 0.0), (3257, 0.0), (3258, 0.0), (3260, 0.0), (3261, 0.0), (3262, 0.0), (3266, 0.0), (3268, 0.0), (3269, 0.0), (3271, 0.0), (3274, 0.0), (3277, 0.0), (3280, 0.0), (3281, 0.0), (3282, 0.0), (3283, 0.0), (3285, 0.0), (3290, 0.0), (3291, 0.0), (3292, 0.0), (3295, 0.0), (3296, 0.0), (3298, 0.0), (3300, 0.0), (3301, 0.0), (3305, 0.0), (3307, 0.0), (3313, 0.0), (3317, 0.0), (3318, 0.0), (3319, 0.0), (3321, 0.0), (3322, 0.0), (3324, 0.0), (3326, 0.0), (3331, 0.0), (3333, 0.0), (3334, 0.0), (3337, 0.0), (3341, 0.0), (3345, 0.0), (3347, 0.0), (3348, 0.0), (3349, 0.0), (3350, 0.0), (3352, 0.0), (3354, 0.0), (3356, 0.0), (3357, 0.0), (3358, 0.0), (3359, 0.0), (3363, 0.0), (3364, 0.0), (3371, 0.0), (3372, 0.0), (3375, 0.0), (3378, 0.0), (3379, 0.0), (3380, 0.0), (3381, 0.0), (3382, 0.0), (3388, 0.0), (3391, 0.0), (3396, 0.0), (3401, 0.0), (3402, 0.0), (3406, 0.0), (3413, 0.0), (3414, 0.0), (3415, 0.0), (3418, 0.0), (3421, 0.0), (3422, 0.0), (3425, 0.0), (3428, 0.0), (3431, 0.0), (3433, 0.0), (3435, 0.0), (3436, 0.0), (3437, 0.0), (3446, 0.0), (3455, 0.0), (3460, 0.0), (3462, 0.0), (3471, 0.0), (3475, 0.0), (3476, 0.0), (3477, 0.0), (3478, 0.0), (3481, 0.0), (3488, 0.0), (3489, 0.0), (3490, 0.0), (3491, 0.0), (3493, 0.0), (3494, 0.0), (3495, 0.0), (3496, 0.0), (3498, 0.0), (3499, 0.0), (3501, 0.0), (3502, 0.0), (3505, 0.0), (3506, 0.0), (3510, 0.0), (3512, 0.0), (3519, 0.0), (3521, 0.0), (3523, 0.0), (3526, 0.0), (3527, 0.0), (3530, 0.0), (3533, 0.0), (3534, 0.0), (3535, 0.0), (3537, 0.0), (3540, 0.0), (3542, 0.0), (3543, 0.0), (3544, 0.0), (3545, 0.0), (3547, 0.0), (3548, 0.0), (3549, 0.0), (3552, 0.0), (3557, 0.0), (3561, 0.0), (3563, 0.0), (3564, 0.0), (3565, 0.0), (3570, 0.0), (3571, 0.0), (3572, 0.0), (3573, 0.0), (3575, 0.0), (3576, 0.0), (3580, 0.0), (3581, 0.0), (3583, 0.0), (3590, 0.0), (3601, 0.0), (3608, 0.0), (3610, 0.0), (3611, 0.0), (3616, 0.0), (3617, 0.0), (3618, 0.0), (3619, 0.0), (3620, 0.0), (3622, 0.0), (3624, 0.0), (3625, 0.0), (3626, 0.0), (3627, 0.0), (3631, 0.0), (3633, 0.0), (3636, 0.0), (3639, 0.0), (3647, 0.0), (3649, 0.0), (3650, 0.0), (3652, 0.0), (3662, 0.0), (3663, 0.0), (3664, 0.0), (3666, 0.0), (3670, 0.0), (3671, 0.0), (3672, 0.0), (3673, 0.0), (3675, 0.0), (3677, 0.0), (3679, 0.0), (3682, 0.0), (3686, 0.0), (3687, 0.0), (3688, 0.0), (3691, 0.0), (3696, 0.0), (3699, 0.0), (3702, 0.0), (3704, 0.0), (3712, 0.0), (3717, 0.0), (3719, 0.0), (3725, 0.0), (3727, 0.0), (3729, 0.0), (3730, 0.0), (3736, 0.0), (3737, 0.0), (3739, 0.0), (3745, 0.0), (3749, 0.0), (3750, 0.0), (3753, 0.0), (3755, 0.0), (3756, 0.0), (3757, 0.0), (3759, 0.0), (3760, 0.0), (3761, 0.0), (3762, 0.0), (3763, 0.0), (3764, 0.0), (3765, 0.0), (3768, 0.0), (3772, 0.0), (3774, 0.0), (3775, 0.0), (3777, 0.0), (3778, 0.0), (3779, 0.0), (3788, 0.0), (3789, 0.0), (3791, 0.0), (3792, 0.0), (3796, 0.0), (3799, 0.0), (3800, 0.0), (3804, 0.0), (3806, 0.0), (3808, 0.0), (3809, 0.0), (3810, 0.0), (3815, 0.0), (3816, 0.0), (3818, 0.0), (3819, 0.0), (3820, 0.0), (3823, 0.0), (3824, 0.0), (3827, 0.0), (3828, 0.0), (3830, 0.0), (3831, 0.0), (3832, 0.0), (3833, 0.0), (3836, 0.0), (3837, 0.0), (3838, 0.0), (3841, 0.0), (3842, 0.0), (3843, 0.0), (3844, 0.0), (3848, 0.0), (3851, 0.0), (3852, 0.0), (3855, 0.0), (3856, 0.0), (3857, 0.0), (3858, 0.0), (3859, 0.0), (3861, 0.0), (3863, 0.0), (3866, 0.0), (3868, 0.0), (3872, 0.0), (3873, 0.0), (3874, 0.0), (3881, 0.0), (3885, 0.0), (3886, 0.0), (3887, 0.0), (3889, 0.0), (3890, 0.0), (3892, 0.0), (3893, 0.0), (3896, 0.0), (3899, 0.0), (3900, 0.0), (3901, 0.0), (3902, 0.0), (3904, 0.0), (3905, 0.0), (3906, 0.0), (3911, 0.0), (3912, 0.0), (3914, 0.0), (3918, 0.0), (3920, 0.0), (3922, 0.0), (3925, 0.0), (3928, 0.0), (3929, 0.0), (3930, 0.0), (3931, 0.0), (3934, 0.0), (3935, 0.0), (3936, 0.0), (3939, 0.0), (3941, 0.0), (3942, 0.0), (3944, 0.0), (3945, 0.0), (3952, 0.0), (3956, 0.0), (3959, 0.0), (3961, 0.0), (3962, 0.0), (3967, 0.0), (3971, 0.0), (3974, 0.0), (3975, 0.0), (3976, 0.0), (3981, 0.0), (3984, 0.0), (3985, 0.0), (3986, 0.0), (3987, 0.0), (3988, 0.0), (3989, 0.0), (3992, 0.0), (3994, 0.0), (3996, 0.0), (4000, 0.0), (4002, 0.0), (4006, 0.0), (4014, 0.0), (4018, 0.0), (4021, 0.0), (4022, 0.0), (4026, 0.0), (4027, 0.0), (4028, 0.0), (4029, 0.0), (4030, 0.0), (4040, 0.0), (4042, 0.0), (4043, 0.0), (4048, 0.0), (4049, 0.0), (4050, 0.0), (4051, 0.0), (4059, 0.0), (4063, 0.0), (4064, 0.0), (4065, 0.0), (4066, 0.0), (4069, 0.0), (4072, 0.0), (4073, 0.0), (4080, 0.0), (4082, 0.0), (4083, 0.0), (4084, 0.0), (4085, 0.0), (4087, 0.0), (4089, 0.0), (4096, 0.0), (4097, 0.0), (4102, 0.0), (4104, 0.0), (4105, 0.0), (4107, 0.0), (4108, 0.0), (4111, 0.0), (4113, 0.0), (4115, 0.0), (4120, 0.0), (4123, 0.0), (4124, 0.0), (4126, 0.0), (4127, 0.0), (4129, 0.0), (4133, 0.0), (4135, 0.0), (4137, 0.0), (4138, 0.0), (4140, 0.0), (4145, 0.0), (4146, 0.0), (4149, 0.0), (4150, 0.0), (4151, 0.0), (4154, 0.0), (4161, 0.0), (4162, 0.0), (4163, 0.0), (4166, 0.0), (4170, 0.0), (4172, 0.0), (4176, 0.0), (4178, 0.0), (4179, 0.0), (4180, 0.0), (4184, 0.0), (4187, 0.0), (4190, 0.0), (4192, 0.0), (4197, 0.0), (4198, 0.0), (4201, 0.0), (4204, 0.0), (4206, 0.0), (4207, 0.0), (4208, 0.0), (4212, 0.0), (4213, 0.0), (4214, 0.0), (4215, 0.0), (4216, 0.0), (4219, 0.0), (4222, 0.0), (4223, 0.0), (4225, 0.0), (4227, 0.0), (4228, 0.0), (4229, 0.0), (4230, 0.0), (4231, 0.0), (4234, 0.0), (4235, 0.0), (4239, 0.0), (4243, 0.0), (4246, 0.0), (4247, 0.0), (4250, 0.0), (4251, 0.0), (4252, 0.0), (4254, 0.0), (4260, 0.0), (4262, 0.0), (4263, 0.0), (4265, 0.0), (4266, 0.0), (4267, 0.0), (4271, 0.0), (4273, 0.0), (4275, 0.0), (4277, 0.0), (4278, 0.0), (4280, 0.0), (4281, 0.0), (4282, 0.0), (4284, 0.0), (4290, 0.0), (4291, 0.0), (4296, 0.0), (4297, 0.0), (4299, 0.0), (4301, 0.0), (4302, 0.0), (4306, 0.0), (4309, 0.0), (4311, 0.0), (4315, 0.0), (4317, 0.0), (4318, 0.0), (4322, 0.0), (4326, 0.0), (4327, 0.0), (4329, 0.0), (4331, 0.0), (4332, 0.0), (4333, 0.0), (4334, 0.0), (4339, 0.0), (4340, 0.0), (4349, 0.0), (4352, 0.0), (4358, 0.0), (4359, 0.0), (4360, 0.0), (4361, 0.0), (4362, 0.0), (4363, 0.0), (4365, 0.0), (4372, 0.0), (4375, 0.0), (4377, 0.0), (4381, 0.0), (4383, 0.0), (4386, 0.0), (4387, 0.0), (4389, 0.0), (4391, 0.0), (4394, 0.0), (4395, 0.0), (4396, 0.0), (4397, 0.0), (4398, 0.0), (4399, 0.0), (4400, 0.0), (4402, 0.0), (4403, 0.0), (4404, 0.0), (4407, 0.0), (4408, 0.0), (4411, 0.0), (4412, 0.0), (4413, 0.0), (4416, 0.0), (4417, 0.0), (4421, 0.0), (4422, 0.0), (4423, 0.0), (4424, 0.0), (4425, 0.0), (4431, 0.0), (4434, 0.0), (4437, 0.0), (4438, 0.0), (4442, 0.0), (4448, 0.0), (4449, 0.0), (4452, 0.0), (4458, 0.0), (4461, 0.0), (4465, 0.0), (4468, 0.0), (4469, 0.0), (4471, 0.0), (4473, 0.0), (4474, 0.0), (4476, 0.0), (4480, 0.0), (4483, 0.0), (4484, 0.0), (4485, 0.0), (4488, 0.0), (4489, 0.0), (4494, 0.0), (4495, 0.0), (4497, 0.0), (4499, 0.0), (4500, 0.0), (4505, 0.0), (4506, 0.0), (4507, 0.0), (4508, 0.0), (4512, 0.0), (4513, 0.0), (4514, 0.0), (4515, 0.0), (4520, 0.0), (4521, 0.0), (4522, 0.0), (4527, 0.0), (4528, 0.0), (4529, 0.0), (4530, 0.0), (4536, 0.0), (4537, 0.0), (4538, 0.0), (4539, 0.0), (4540, 0.0), (4541, 0.0), (4545, 0.0), (4546, 0.0), (4547, 0.0), (4555, 0.0), (4556, 0.0), (4558, 0.0), (4559, 0.0), (4561, 0.0), (4562, 0.0), (4565, 0.0), (4571, 0.0), (4572, 0.0), (4575, 0.0), (4577, 0.0), (4578, 0.0), (4579, 0.0), (4583, 0.0), (4585, 0.0), (4592, 0.0), (4593, 0.0), (4594, 0.0), (4595, 0.0), (4598, 0.0), (4599, 0.0), (4601, 0.0), (4602, 0.0), (4604, 0.0), (4612, 0.0), (4614, 0.0), (4615, 0.0), (4616, 0.0), (4617, 0.0), (4618, 0.0), (4620, 0.0), (4622, 0.0), (4624, 0.0), (4625, 0.0), (4633, 0.0), (4634, 0.0), (4635, 0.0), (4636, 0.0), (4637, 0.0), (4638, 0.0), (4640, 0.0), (4644, 0.0), (4645, 0.0), (4648, 0.0), (4651, 0.0), (4654, 0.0), (4657, 0.0), (4660, 0.0), (4664, 0.0), (4665, 0.0), (4669, 0.0), (4670, 0.0), (4671, 0.0), (4672, 0.0), (4675, 0.0), (4678, 0.0), (4679, 0.0), (4680, 0.0), (4681, 0.0), (4686, 0.0), (4689, 0.0), (4691, 0.0), (4692, 0.0), (4693, 0.0), (4694, 0.0), (4696, 0.0), (4697, 0.0), (4699, 0.0), (4700, 0.0), (4701, 0.0), (4702, 0.0), (4704, 0.0), (4706, 0.0), (4707, 0.0), (4710, 0.0), (4711, 0.0), (4712, 0.0), (4713, 0.0), (4714, 0.0), (4715, 0.0), (4717, 0.0), (4718, 0.0), (4719, 0.0), (4720, 0.0), (4721, 0.0), (4722, 0.0), (4724, 0.0), (4728, 0.0), (4729, 0.0), (4730, 0.0), (4731, 0.0), (4734, 0.0), (4737, 0.0), (4740, 0.0), (4746, 0.0), (4750, 0.0), (4751, 0.0), (4753, 0.0), (4755, 0.0), (4757, 0.0), (4758, 0.0), (4759, 0.0)]\n"
          ]
        }
      ]
    },
    {
      "cell_type": "code",
      "source": [
        "print('Top 30 Movies Suggested for You : \\n')\n",
        "\n",
        "i = 1\n",
        "\n",
        "for movie in Sorted_Similar_Movies:\n",
        "  index = movie[0] #Indented this line\n",
        "  title_from_index = df[df.index==index]['Movie_Title'].values[0]\n",
        "  if (i<31):\n",
        "    print(i, '.',title_from_index)\n",
        "  i+=1 #Indented this line"
      ],
      "metadata": {
        "colab": {
          "base_uri": "https://localhost:8080/"
        },
        "id": "H-TCRJ2koRaU",
        "outputId": "deb5cb05-d3cc-47e9-dc79-6d68bcc2948d"
      },
      "execution_count": 61,
      "outputs": [
        {
          "output_type": "stream",
          "name": "stdout",
          "text": [
            "Top 30 Movies Suggested for You : \n",
            "\n",
            "1 . Spider-Man 2\n",
            "2 . Spider-Man 3\n",
            "3 . Spider-Man\n",
            "4 . 30 Minutes or Less\n",
            "5 . Dudley Do-Right\n",
            "6 . The Amazing Spider-Man 2\n",
            "7 . The One\n",
            "8 . Avengers: Age of Ultron\n",
            "9 . Deadpool\n",
            "10 . The Hoax\n",
            "11 . The Good German\n",
            "12 . Abduction\n",
            "13 . Brothers\n",
            "14 . Frida\n",
            "15 . Oz: The Great and Powerful\n",
            "16 . Thor\n",
            "17 . Sexy Beast\n",
            "18 . X-Men: Days of Future Past\n",
            "19 . Midnight Special\n",
            "20 . Where the Wild Things Are\n",
            "21 . Crazy/Beautiful\n",
            "22 . Crocodile Dundee\n",
            "23 . Iron Man 2\n",
            "24 . The Mask\n",
            "25 . A History of Violence\n",
            "26 . Watchmen\n",
            "27 . Captain America: Civil War\n",
            "28 . X-Men\n",
            "29 . Thor: The Dark World\n",
            "30 . The Sorcerer's Apprentice\n"
          ]
        }
      ]
    },
    {
      "cell_type": "code",
      "source": [
        "Movie_Name = input('Enter your favourite movie name : ')\n",
        "list_of_all_titles = df['Movie_Title']. tolist()\n",
        "Find_Close_Match = difflib.get_close_matches(Movie_Name, list_of_all_titles)\n",
        "Close_Match = Find_Close_Match[0]\n",
        "Index_of_Movie = df[df.Movie_Title == Close_Match]['Movie_ID'].values[0]\n",
        "Recommendation_Score = list(enumerate(Similarity_Score[Index_of_Movie]))\n",
        "sorted_similar_movies = sorted(Recommendation_Score, key = lambda x:[1], reverse = True)\n",
        "print('Top 10 Movies suggested for you : \\n')\n",
        "i = 1\n",
        "for movie in sorted_similar_movies:\n",
        "  index = movie[0] #Indented this line\n",
        "  title_from_index = df[df.Movie_ID==index]['Movie_Title'].values # Changed 'Movie_10' to 'Movie_ID'\n",
        "  if (i<11):\n",
        "    print(i, '.',title_from_index)\n",
        "  i+=i #Indented this line"
      ],
      "metadata": {
        "colab": {
          "base_uri": "https://localhost:8080/"
        },
        "id": "yq-VH1k3qWOe",
        "outputId": "7dc5f1b9-ef1f-4f33-bed9-8b5560b5860f"
      },
      "execution_count": 64,
      "outputs": [
        {
          "output_type": "stream",
          "name": "stdout",
          "text": [
            "Enter your favourite movie name : Spiderman\n",
            "Top 10 Movies suggested for you : \n",
            "\n",
            "1 . []\n",
            "2 . ['Four Rooms']\n",
            "4 . ['Star Wars']\n",
            "8 . ['Finding Nemo']\n"
          ]
        }
      ]
    }
  ]
}